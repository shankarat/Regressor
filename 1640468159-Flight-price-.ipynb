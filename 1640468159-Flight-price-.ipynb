{
 "cells": [
  {
   "cell_type": "markdown",
   "id": "137b21e6",
   "metadata": {},
   "source": [
    "Importing Dataset"
   ]
  },
  {
   "cell_type": "code",
   "execution_count": 409,
   "id": "12de80b3",
   "metadata": {},
   "outputs": [],
   "source": [
    "#Importing Libraries:\n",
    "import numpy as np\n",
    "import pandas as pd"
   ]
  },
  {
   "cell_type": "code",
   "execution_count": 410,
   "id": "ed43f7d9",
   "metadata": {},
   "outputs": [],
   "source": [
    "#Reading csv file and converting it in dataframe\n",
    "ds=pd.read_excel(\"Data_Train.xlsx\")\n",
    "ds1= pd.read_excel(\"Test_set.xlsx\")\n",
    "train=pd.DataFrame(ds)\n",
    "test=pd.DataFrame(ds1)"
   ]
  },
  {
   "cell_type": "code",
   "execution_count": 334,
   "id": "4d2e34a9",
   "metadata": {},
   "outputs": [
    {
     "data": {
      "text/html": [
       "<div>\n",
       "<style scoped>\n",
       "    .dataframe tbody tr th:only-of-type {\n",
       "        vertical-align: middle;\n",
       "    }\n",
       "\n",
       "    .dataframe tbody tr th {\n",
       "        vertical-align: top;\n",
       "    }\n",
       "\n",
       "    .dataframe thead th {\n",
       "        text-align: right;\n",
       "    }\n",
       "</style>\n",
       "<table border=\"1\" class=\"dataframe\">\n",
       "  <thead>\n",
       "    <tr style=\"text-align: right;\">\n",
       "      <th></th>\n",
       "      <th>Airline</th>\n",
       "      <th>Date_of_Journey</th>\n",
       "      <th>Source</th>\n",
       "      <th>Destination</th>\n",
       "      <th>Route</th>\n",
       "      <th>Dep_Time</th>\n",
       "      <th>Arrival_Time</th>\n",
       "      <th>Duration</th>\n",
       "      <th>Total_Stops</th>\n",
       "      <th>Additional_Info</th>\n",
       "      <th>Price</th>\n",
       "    </tr>\n",
       "  </thead>\n",
       "  <tbody>\n",
       "    <tr>\n",
       "      <th>0</th>\n",
       "      <td>IndiGo</td>\n",
       "      <td>24/03/2019</td>\n",
       "      <td>Banglore</td>\n",
       "      <td>New Delhi</td>\n",
       "      <td>BLR → DEL</td>\n",
       "      <td>22:20</td>\n",
       "      <td>01:10 22 Mar</td>\n",
       "      <td>2h 50m</td>\n",
       "      <td>non-stop</td>\n",
       "      <td>No info</td>\n",
       "      <td>3897</td>\n",
       "    </tr>\n",
       "    <tr>\n",
       "      <th>1</th>\n",
       "      <td>Air India</td>\n",
       "      <td>1/05/2019</td>\n",
       "      <td>Kolkata</td>\n",
       "      <td>Banglore</td>\n",
       "      <td>CCU → IXR → BBI → BLR</td>\n",
       "      <td>05:50</td>\n",
       "      <td>13:15</td>\n",
       "      <td>7h 25m</td>\n",
       "      <td>2 stops</td>\n",
       "      <td>No info</td>\n",
       "      <td>7662</td>\n",
       "    </tr>\n",
       "    <tr>\n",
       "      <th>2</th>\n",
       "      <td>Jet Airways</td>\n",
       "      <td>9/06/2019</td>\n",
       "      <td>Delhi</td>\n",
       "      <td>Cochin</td>\n",
       "      <td>DEL → LKO → BOM → COK</td>\n",
       "      <td>09:25</td>\n",
       "      <td>04:25 10 Jun</td>\n",
       "      <td>19h</td>\n",
       "      <td>2 stops</td>\n",
       "      <td>No info</td>\n",
       "      <td>13882</td>\n",
       "    </tr>\n",
       "    <tr>\n",
       "      <th>3</th>\n",
       "      <td>IndiGo</td>\n",
       "      <td>12/05/2019</td>\n",
       "      <td>Kolkata</td>\n",
       "      <td>Banglore</td>\n",
       "      <td>CCU → NAG → BLR</td>\n",
       "      <td>18:05</td>\n",
       "      <td>23:30</td>\n",
       "      <td>5h 25m</td>\n",
       "      <td>1 stop</td>\n",
       "      <td>No info</td>\n",
       "      <td>6218</td>\n",
       "    </tr>\n",
       "    <tr>\n",
       "      <th>4</th>\n",
       "      <td>IndiGo</td>\n",
       "      <td>01/03/2019</td>\n",
       "      <td>Banglore</td>\n",
       "      <td>New Delhi</td>\n",
       "      <td>BLR → NAG → DEL</td>\n",
       "      <td>16:50</td>\n",
       "      <td>21:35</td>\n",
       "      <td>4h 45m</td>\n",
       "      <td>1 stop</td>\n",
       "      <td>No info</td>\n",
       "      <td>13302</td>\n",
       "    </tr>\n",
       "  </tbody>\n",
       "</table>\n",
       "</div>"
      ],
      "text/plain": [
       "       Airline Date_of_Journey    Source Destination                  Route  \\\n",
       "0       IndiGo      24/03/2019  Banglore   New Delhi              BLR → DEL   \n",
       "1    Air India       1/05/2019   Kolkata    Banglore  CCU → IXR → BBI → BLR   \n",
       "2  Jet Airways       9/06/2019     Delhi      Cochin  DEL → LKO → BOM → COK   \n",
       "3       IndiGo      12/05/2019   Kolkata    Banglore        CCU → NAG → BLR   \n",
       "4       IndiGo      01/03/2019  Banglore   New Delhi        BLR → NAG → DEL   \n",
       "\n",
       "  Dep_Time  Arrival_Time Duration Total_Stops Additional_Info  Price  \n",
       "0    22:20  01:10 22 Mar   2h 50m    non-stop         No info   3897  \n",
       "1    05:50         13:15   7h 25m     2 stops         No info   7662  \n",
       "2    09:25  04:25 10 Jun      19h     2 stops         No info  13882  \n",
       "3    18:05         23:30   5h 25m      1 stop         No info   6218  \n",
       "4    16:50         21:35   4h 45m      1 stop         No info  13302  "
      ]
     },
     "execution_count": 334,
     "metadata": {},
     "output_type": "execute_result"
    }
   ],
   "source": [
    "train.head()"
   ]
  },
  {
   "cell_type": "markdown",
   "id": "b01cf875",
   "metadata": {},
   "source": [
    "Dataset in Dataframe format.\n",
    "Regression Model"
   ]
  },
  {
   "cell_type": "code",
   "execution_count": 335,
   "id": "da14907a",
   "metadata": {},
   "outputs": [
    {
     "data": {
      "text/html": [
       "<div>\n",
       "<style scoped>\n",
       "    .dataframe tbody tr th:only-of-type {\n",
       "        vertical-align: middle;\n",
       "    }\n",
       "\n",
       "    .dataframe tbody tr th {\n",
       "        vertical-align: top;\n",
       "    }\n",
       "\n",
       "    .dataframe thead th {\n",
       "        text-align: right;\n",
       "    }\n",
       "</style>\n",
       "<table border=\"1\" class=\"dataframe\">\n",
       "  <thead>\n",
       "    <tr style=\"text-align: right;\">\n",
       "      <th></th>\n",
       "      <th>Airline</th>\n",
       "      <th>Date_of_Journey</th>\n",
       "      <th>Source</th>\n",
       "      <th>Destination</th>\n",
       "      <th>Route</th>\n",
       "      <th>Dep_Time</th>\n",
       "      <th>Arrival_Time</th>\n",
       "      <th>Duration</th>\n",
       "      <th>Total_Stops</th>\n",
       "      <th>Additional_Info</th>\n",
       "    </tr>\n",
       "  </thead>\n",
       "  <tbody>\n",
       "    <tr>\n",
       "      <th>0</th>\n",
       "      <td>Jet Airways</td>\n",
       "      <td>6/06/2019</td>\n",
       "      <td>Delhi</td>\n",
       "      <td>Cochin</td>\n",
       "      <td>DEL → BOM → COK</td>\n",
       "      <td>17:30</td>\n",
       "      <td>04:25 07 Jun</td>\n",
       "      <td>10h 55m</td>\n",
       "      <td>1 stop</td>\n",
       "      <td>No info</td>\n",
       "    </tr>\n",
       "    <tr>\n",
       "      <th>1</th>\n",
       "      <td>IndiGo</td>\n",
       "      <td>12/05/2019</td>\n",
       "      <td>Kolkata</td>\n",
       "      <td>Banglore</td>\n",
       "      <td>CCU → MAA → BLR</td>\n",
       "      <td>06:20</td>\n",
       "      <td>10:20</td>\n",
       "      <td>4h</td>\n",
       "      <td>1 stop</td>\n",
       "      <td>No info</td>\n",
       "    </tr>\n",
       "    <tr>\n",
       "      <th>2</th>\n",
       "      <td>Jet Airways</td>\n",
       "      <td>21/05/2019</td>\n",
       "      <td>Delhi</td>\n",
       "      <td>Cochin</td>\n",
       "      <td>DEL → BOM → COK</td>\n",
       "      <td>19:15</td>\n",
       "      <td>19:00 22 May</td>\n",
       "      <td>23h 45m</td>\n",
       "      <td>1 stop</td>\n",
       "      <td>In-flight meal not included</td>\n",
       "    </tr>\n",
       "    <tr>\n",
       "      <th>3</th>\n",
       "      <td>Multiple carriers</td>\n",
       "      <td>21/05/2019</td>\n",
       "      <td>Delhi</td>\n",
       "      <td>Cochin</td>\n",
       "      <td>DEL → BOM → COK</td>\n",
       "      <td>08:00</td>\n",
       "      <td>21:00</td>\n",
       "      <td>13h</td>\n",
       "      <td>1 stop</td>\n",
       "      <td>No info</td>\n",
       "    </tr>\n",
       "    <tr>\n",
       "      <th>4</th>\n",
       "      <td>Air Asia</td>\n",
       "      <td>24/06/2019</td>\n",
       "      <td>Banglore</td>\n",
       "      <td>Delhi</td>\n",
       "      <td>BLR → DEL</td>\n",
       "      <td>23:55</td>\n",
       "      <td>02:45 25 Jun</td>\n",
       "      <td>2h 50m</td>\n",
       "      <td>non-stop</td>\n",
       "      <td>No info</td>\n",
       "    </tr>\n",
       "  </tbody>\n",
       "</table>\n",
       "</div>"
      ],
      "text/plain": [
       "             Airline Date_of_Journey    Source Destination            Route  \\\n",
       "0        Jet Airways       6/06/2019     Delhi      Cochin  DEL → BOM → COK   \n",
       "1             IndiGo      12/05/2019   Kolkata    Banglore  CCU → MAA → BLR   \n",
       "2        Jet Airways      21/05/2019     Delhi      Cochin  DEL → BOM → COK   \n",
       "3  Multiple carriers      21/05/2019     Delhi      Cochin  DEL → BOM → COK   \n",
       "4           Air Asia      24/06/2019  Banglore       Delhi        BLR → DEL   \n",
       "\n",
       "  Dep_Time  Arrival_Time Duration Total_Stops              Additional_Info  \n",
       "0    17:30  04:25 07 Jun  10h 55m      1 stop                      No info  \n",
       "1    06:20         10:20       4h      1 stop                      No info  \n",
       "2    19:15  19:00 22 May  23h 45m      1 stop  In-flight meal not included  \n",
       "3    08:00         21:00      13h      1 stop                      No info  \n",
       "4    23:55  02:45 25 Jun   2h 50m    non-stop                      No info  "
      ]
     },
     "execution_count": 335,
     "metadata": {},
     "output_type": "execute_result"
    }
   ],
   "source": [
    "test.head()"
   ]
  },
  {
   "cell_type": "markdown",
   "id": "6345db79",
   "metadata": {},
   "source": [
    "Test dataset"
   ]
  },
  {
   "cell_type": "code",
   "execution_count": 336,
   "id": "5505e91d",
   "metadata": {},
   "outputs": [
    {
     "data": {
      "text/plain": [
       "(10683, 11)"
      ]
     },
     "execution_count": 336,
     "metadata": {},
     "output_type": "execute_result"
    }
   ],
   "source": [
    "# Rows & Columns in dataset:\n",
    "train.shape"
   ]
  },
  {
   "cell_type": "markdown",
   "id": "514fe58d",
   "metadata": {},
   "source": [
    "Rows: 10683, Column: 11 of Train dataset"
   ]
  },
  {
   "cell_type": "code",
   "execution_count": 337,
   "id": "6fe5304f",
   "metadata": {},
   "outputs": [
    {
     "data": {
      "text/plain": [
       "(2671, 10)"
      ]
     },
     "execution_count": 337,
     "metadata": {},
     "output_type": "execute_result"
    }
   ],
   "source": [
    "# Rows & Columns in dataset:\n",
    "test.shape"
   ]
  },
  {
   "cell_type": "markdown",
   "id": "0ec2ac24",
   "metadata": {},
   "source": [
    "Rows: 2671, Column: 10 of test dataset"
   ]
  },
  {
   "cell_type": "code",
   "execution_count": 338,
   "id": "cc6c4b73",
   "metadata": {},
   "outputs": [
    {
     "data": {
      "text/plain": [
       "Airline            object\n",
       "Date_of_Journey    object\n",
       "Source             object\n",
       "Destination        object\n",
       "Route              object\n",
       "Dep_Time           object\n",
       "Arrival_Time       object\n",
       "Duration           object\n",
       "Total_Stops        object\n",
       "Additional_Info    object\n",
       "Price               int64\n",
       "dtype: object"
      ]
     },
     "execution_count": 338,
     "metadata": {},
     "output_type": "execute_result"
    }
   ],
   "source": [
    "# Datatype of dataset\n",
    "train.dtypes"
   ]
  },
  {
   "cell_type": "markdown",
   "id": "cd9371cd",
   "metadata": {},
   "source": [
    "10 object datatype , 1 numeric datatype"
   ]
  },
  {
   "cell_type": "code",
   "execution_count": 339,
   "id": "6cd9ff2a",
   "metadata": {},
   "outputs": [
    {
     "data": {
      "text/plain": [
       "Airline            object\n",
       "Date_of_Journey    object\n",
       "Source             object\n",
       "Destination        object\n",
       "Route              object\n",
       "Dep_Time           object\n",
       "Arrival_Time       object\n",
       "Duration           object\n",
       "Total_Stops        object\n",
       "Additional_Info    object\n",
       "dtype: object"
      ]
     },
     "execution_count": 339,
     "metadata": {},
     "output_type": "execute_result"
    }
   ],
   "source": [
    "# Datatype of dataset\n",
    "test.dtypes"
   ]
  },
  {
   "cell_type": "markdown",
   "id": "940128d3",
   "metadata": {},
   "source": [
    "10 object datatype "
   ]
  },
  {
   "cell_type": "code",
   "execution_count": 340,
   "id": "6a2d34c4",
   "metadata": {},
   "outputs": [
    {
     "data": {
      "text/plain": [
       "Airline            0\n",
       "Date_of_Journey    0\n",
       "Source             0\n",
       "Destination        0\n",
       "Route              1\n",
       "Dep_Time           0\n",
       "Arrival_Time       0\n",
       "Duration           0\n",
       "Total_Stops        1\n",
       "Additional_Info    0\n",
       "Price              0\n",
       "dtype: int64"
      ]
     },
     "execution_count": 340,
     "metadata": {},
     "output_type": "execute_result"
    }
   ],
   "source": [
    "#Null Value:\n",
    "train.isnull().sum()"
   ]
  },
  {
   "cell_type": "markdown",
   "id": "af416e9b",
   "metadata": {},
   "source": [
    "null value present in Route and Total_Stops columns."
   ]
  },
  {
   "cell_type": "code",
   "execution_count": 341,
   "id": "e6322a9c",
   "metadata": {},
   "outputs": [
    {
     "data": {
      "text/plain": [
       "Airline            0\n",
       "Date_of_Journey    0\n",
       "Source             0\n",
       "Destination        0\n",
       "Route              0\n",
       "Dep_Time           0\n",
       "Arrival_Time       0\n",
       "Duration           0\n",
       "Total_Stops        0\n",
       "Additional_Info    0\n",
       "dtype: int64"
      ]
     },
     "execution_count": 341,
     "metadata": {},
     "output_type": "execute_result"
    }
   ],
   "source": [
    "#Null Value:\n",
    "test.isnull().sum()"
   ]
  },
  {
   "cell_type": "markdown",
   "id": "7bc16f10",
   "metadata": {},
   "source": [
    "no null value present."
   ]
  },
  {
   "cell_type": "code",
   "execution_count": 411,
   "id": "f79ac625",
   "metadata": {},
   "outputs": [
    {
     "data": {
      "text/plain": [
       "Airline            0\n",
       "Date_of_Journey    0\n",
       "Source             0\n",
       "Destination        0\n",
       "Route              0\n",
       "Dep_Time           0\n",
       "Arrival_Time       0\n",
       "Duration           0\n",
       "Total_Stops        0\n",
       "Additional_Info    0\n",
       "Price              0\n",
       "dtype: int64"
      ]
     },
     "execution_count": 411,
     "metadata": {},
     "output_type": "execute_result"
    }
   ],
   "source": [
    "train.dropna(inplace = True)\n",
    "train.isnull().sum()"
   ]
  },
  {
   "cell_type": "markdown",
   "id": "ae88c8d5",
   "metadata": {},
   "source": [
    "No null value as null values dropped"
   ]
  },
  {
   "cell_type": "code",
   "execution_count": 343,
   "id": "94e5d7da",
   "metadata": {},
   "outputs": [
    {
     "name": "stdout",
     "output_type": "stream",
     "text": [
      "<class 'pandas.core.frame.DataFrame'>\n",
      "Int64Index: 10682 entries, 0 to 10682\n",
      "Data columns (total 11 columns):\n",
      " #   Column           Non-Null Count  Dtype \n",
      "---  ------           --------------  ----- \n",
      " 0   Airline          10682 non-null  object\n",
      " 1   Date_of_Journey  10682 non-null  object\n",
      " 2   Source           10682 non-null  object\n",
      " 3   Destination      10682 non-null  object\n",
      " 4   Route            10682 non-null  object\n",
      " 5   Dep_Time         10682 non-null  object\n",
      " 6   Arrival_Time     10682 non-null  object\n",
      " 7   Duration         10682 non-null  object\n",
      " 8   Total_Stops      10682 non-null  object\n",
      " 9   Additional_Info  10682 non-null  object\n",
      " 10  Price            10682 non-null  int64 \n",
      "dtypes: int64(1), object(10)\n",
      "memory usage: 1001.4+ KB\n"
     ]
    }
   ],
   "source": [
    "# Information about Dataset:\n",
    "\n",
    "train.info()"
   ]
  },
  {
   "cell_type": "code",
   "execution_count": 344,
   "id": "18cc5ea3",
   "metadata": {},
   "outputs": [
    {
     "name": "stdout",
     "output_type": "stream",
     "text": [
      "<class 'pandas.core.frame.DataFrame'>\n",
      "RangeIndex: 2671 entries, 0 to 2670\n",
      "Data columns (total 10 columns):\n",
      " #   Column           Non-Null Count  Dtype \n",
      "---  ------           --------------  ----- \n",
      " 0   Airline          2671 non-null   object\n",
      " 1   Date_of_Journey  2671 non-null   object\n",
      " 2   Source           2671 non-null   object\n",
      " 3   Destination      2671 non-null   object\n",
      " 4   Route            2671 non-null   object\n",
      " 5   Dep_Time         2671 non-null   object\n",
      " 6   Arrival_Time     2671 non-null   object\n",
      " 7   Duration         2671 non-null   object\n",
      " 8   Total_Stops      2671 non-null   object\n",
      " 9   Additional_Info  2671 non-null   object\n",
      "dtypes: object(10)\n",
      "memory usage: 208.8+ KB\n"
     ]
    }
   ],
   "source": [
    "test.info()"
   ]
  },
  {
   "cell_type": "code",
   "execution_count": 345,
   "id": "08c38159",
   "metadata": {},
   "outputs": [
    {
     "name": "stdout",
     "output_type": "stream",
     "text": [
      "Airline: ['IndiGo' 'Air India' 'Jet Airways' 'SpiceJet' 'Multiple carriers' 'GoAir'\n",
      " 'Vistara' 'Air Asia' 'Vistara Premium economy' 'Jet Airways Business'\n",
      " 'Multiple carriers Premium economy' 'Trujet']\n",
      "Date_of_Journey: ['24/03/2019' '1/05/2019' '9/06/2019' '12/05/2019' '01/03/2019'\n",
      " '24/06/2019' '12/03/2019' '27/05/2019' '1/06/2019' '18/04/2019'\n",
      " '9/05/2019' '24/04/2019' '3/03/2019' '15/04/2019' '12/06/2019'\n",
      " '6/03/2019' '21/03/2019' '3/04/2019' '6/05/2019' '15/05/2019'\n",
      " '18/06/2019' '15/06/2019' '6/04/2019' '18/05/2019' '27/06/2019'\n",
      " '21/05/2019' '06/03/2019' '3/06/2019' '15/03/2019' '3/05/2019'\n",
      " '9/03/2019' '6/06/2019' '24/05/2019' '09/03/2019' '1/04/2019'\n",
      " '21/04/2019' '21/06/2019' '27/03/2019' '18/03/2019' '12/04/2019'\n",
      " '9/04/2019' '1/03/2019' '03/03/2019' '27/04/2019']\n",
      "Source: ['Banglore' 'Kolkata' 'Delhi' 'Chennai' 'Mumbai']\n",
      "Destination: ['New Delhi' 'Banglore' 'Cochin' 'Kolkata' 'Delhi' 'Hyderabad']\n",
      "Route: ['BLR → DEL' 'CCU → IXR → BBI → BLR' 'DEL → LKO → BOM → COK'\n",
      " 'CCU → NAG → BLR' 'BLR → NAG → DEL' 'CCU → BLR' 'BLR → BOM → DEL'\n",
      " 'DEL → BOM → COK' 'DEL → BLR → COK' 'MAA → CCU' 'CCU → BOM → BLR'\n",
      " 'DEL → AMD → BOM → COK' 'DEL → PNQ → COK' 'DEL → CCU → BOM → COK'\n",
      " 'BLR → COK → DEL' 'DEL → IDR → BOM → COK' 'DEL → LKO → COK'\n",
      " 'CCU → GAU → DEL → BLR' 'DEL → NAG → BOM → COK' 'CCU → MAA → BLR'\n",
      " 'DEL → HYD → COK' 'CCU → HYD → BLR' 'DEL → COK' 'CCU → DEL → BLR'\n",
      " 'BLR → BOM → AMD → DEL' 'BOM → DEL → HYD' 'DEL → MAA → COK' 'BOM → HYD'\n",
      " 'DEL → BHO → BOM → COK' 'DEL → JAI → BOM → COK' 'DEL → ATQ → BOM → COK'\n",
      " 'DEL → JDH → BOM → COK' 'CCU → BBI → BOM → BLR' 'BLR → MAA → DEL'\n",
      " 'DEL → GOI → BOM → COK' 'DEL → BDQ → BOM → COK' 'CCU → JAI → BOM → BLR'\n",
      " 'CCU → BBI → BLR' 'BLR → HYD → DEL' 'DEL → TRV → COK'\n",
      " 'CCU → IXR → DEL → BLR' 'DEL → IXU → BOM → COK' 'CCU → IXB → BLR'\n",
      " 'BLR → BOM → JDH → DEL' 'DEL → UDR → BOM → COK' 'DEL → HYD → MAA → COK'\n",
      " 'CCU → BOM → COK → BLR' 'BLR → CCU → DEL' 'CCU → BOM → GOI → BLR'\n",
      " 'DEL → RPR → NAG → BOM → COK' 'DEL → HYD → BOM → COK'\n",
      " 'CCU → DEL → AMD → BLR' 'CCU → PNQ → BLR' 'BLR → CCU → GAU → DEL'\n",
      " 'CCU → DEL → COK → BLR' 'BLR → PNQ → DEL' 'BOM → JDH → DEL → HYD'\n",
      " 'BLR → BOM → BHO → DEL' 'DEL → AMD → COK' 'BLR → LKO → DEL'\n",
      " 'CCU → GAU → BLR' 'BOM → GOI → HYD' 'CCU → BOM → AMD → BLR'\n",
      " 'CCU → BBI → IXR → DEL → BLR' 'DEL → DED → BOM → COK'\n",
      " 'DEL → MAA → BOM → COK' 'BLR → AMD → DEL' 'BLR → VGA → DEL'\n",
      " 'CCU → JAI → DEL → BLR' 'CCU → AMD → BLR' 'CCU → VNS → DEL → BLR'\n",
      " 'BLR → BOM → IDR → DEL' 'BLR → BBI → DEL' 'BLR → GOI → DEL'\n",
      " 'BOM → AMD → ISK → HYD' 'BOM → DED → DEL → HYD' 'DEL → IXC → BOM → COK'\n",
      " 'CCU → PAT → BLR' 'BLR → CCU → BBI → DEL' 'CCU → BBI → HYD → BLR'\n",
      " 'BLR → BOM → NAG → DEL' 'BLR → CCU → BBI → HYD → DEL' 'BLR → GAU → DEL'\n",
      " 'BOM → BHO → DEL → HYD' 'BOM → JLR → HYD' 'BLR → HYD → VGA → DEL'\n",
      " 'CCU → KNU → BLR' 'CCU → BOM → PNQ → BLR' 'DEL → BBI → COK'\n",
      " 'BLR → VGA → HYD → DEL' 'BOM → JDH → JAI → DEL → HYD'\n",
      " 'DEL → GWL → IDR → BOM → COK' 'CCU → RPR → HYD → BLR' 'CCU → VTZ → BLR'\n",
      " 'CCU → DEL → VGA → BLR' 'BLR → BOM → IDR → GWL → DEL'\n",
      " 'CCU → DEL → COK → TRV → BLR' 'BOM → COK → MAA → HYD' 'BOM → NDC → HYD'\n",
      " 'BLR → BDQ → DEL' 'CCU → BOM → TRV → BLR' 'CCU → BOM → HBX → BLR'\n",
      " 'BOM → BDQ → DEL → HYD' 'BOM → CCU → HYD' 'BLR → TRV → COK → DEL'\n",
      " 'BLR → IDR → DEL' 'CCU → IXZ → MAA → BLR' 'CCU → GAU → IMF → DEL → BLR'\n",
      " 'BOM → GOI → PNQ → HYD' 'BOM → BLR → CCU → BBI → HYD' 'BOM → MAA → HYD'\n",
      " 'BLR → BOM → UDR → DEL' 'BOM → UDR → DEL → HYD' 'BLR → VGA → VTZ → DEL'\n",
      " 'BLR → HBX → BOM → BHO → DEL' 'CCU → IXA → BLR' 'BOM → RPR → VTZ → HYD'\n",
      " 'BLR → HBX → BOM → AMD → DEL' 'BOM → IDR → DEL → HYD' 'BOM → BLR → HYD'\n",
      " 'BLR → STV → DEL' 'CCU → IXB → DEL → BLR' 'BOM → JAI → DEL → HYD'\n",
      " 'BOM → VNS → DEL → HYD' 'BLR → HBX → BOM → NAG → DEL'\n",
      " 'BLR → BOM → IXC → DEL' 'BLR → CCU → BBI → HYD → VGA → DEL'\n",
      " 'BOM → BBI → HYD']\n",
      "Dep_Time: ['22:20' '05:50' '09:25' '18:05' '16:50' '09:00' '18:55' '08:00' '08:55'\n",
      " '11:25' '09:45' '20:20' '11:40' '21:10' '17:15' '16:40' '08:45' '14:00'\n",
      " '20:15' '16:00' '14:10' '22:00' '04:00' '21:25' '21:50' '07:00' '07:05'\n",
      " '09:50' '14:35' '10:35' '15:05' '14:15' '06:45' '20:55' '11:10' '05:45'\n",
      " '19:00' '23:05' '11:00' '09:35' '21:15' '23:55' '19:45' '08:50' '15:40'\n",
      " '06:05' '15:00' '13:55' '05:55' '13:20' '05:05' '06:25' '17:30' '08:20'\n",
      " '19:55' '06:30' '14:05' '02:00' '09:40' '08:25' '20:25' '13:15' '02:15'\n",
      " '16:55' '20:45' '05:15' '19:50' '20:00' '06:10' '19:30' '04:45' '12:55'\n",
      " '18:15' '17:20' '15:25' '23:00' '12:00' '14:45' '11:50' '11:30' '14:40'\n",
      " '19:10' '06:00' '23:30' '07:35' '13:05' '12:30' '15:10' '12:50' '18:25'\n",
      " '16:30' '00:40' '06:50' '13:00' '19:15' '01:30' '17:00' '10:00' '19:35'\n",
      " '15:30' '12:10' '16:10' '20:35' '22:25' '21:05' '05:35' '05:10' '06:40'\n",
      " '15:15' '00:30' '08:30' '07:10' '05:30' '14:25' '05:25' '10:20' '17:45'\n",
      " '13:10' '22:10' '04:55' '17:50' '21:20' '06:20' '15:55' '20:30' '17:25'\n",
      " '09:30' '07:30' '02:35' '10:55' '17:10' '09:10' '18:45' '15:20' '22:50'\n",
      " '14:55' '14:20' '13:25' '22:15' '11:05' '16:15' '20:10' '06:55' '19:05'\n",
      " '07:55' '07:45' '10:10' '08:15' '11:35' '21:00' '17:55' '16:45' '18:20'\n",
      " '03:50' '08:35' '19:20' '20:05' '17:40' '04:40' '17:35' '09:55' '05:00'\n",
      " '18:00' '02:55' '20:40' '22:55' '22:40' '21:30' '08:10' '17:05' '07:25'\n",
      " '15:45' '09:15' '15:50' '11:45' '22:05' '18:35' '00:25' '19:40' '20:50'\n",
      " '22:45' '10:30' '23:25' '11:55' '10:45' '11:15' '12:20' '14:30' '07:15'\n",
      " '01:35' '18:40' '09:20' '21:55' '13:50' '01:40' '00:20' '04:15' '13:45'\n",
      " '18:30' '06:15' '02:05' '12:15' '13:30' '06:35' '10:05' '08:40' '03:05'\n",
      " '21:35' '16:35' '02:30' '16:25' '05:40' '15:35' '13:40' '07:20' '04:50'\n",
      " '12:45' '10:25' '12:05' '11:20' '21:40' '03:00']\n",
      "Arrival_Time: ['01:10 22 Mar' '13:15' '04:25 10 Jun' ... '06:50 10 Mar' '00:05 19 Mar'\n",
      " '21:20 13 Mar']\n",
      "Duration: ['2h 50m' '7h 25m' '19h' '5h 25m' '4h 45m' '2h 25m' '15h 30m' '21h 5m'\n",
      " '25h 30m' '7h 50m' '13h 15m' '2h 35m' '2h 15m' '12h 10m' '26h 35m'\n",
      " '4h 30m' '22h 35m' '23h' '20h 35m' '5h 10m' '15h 20m' '2h 55m' '13h 20m'\n",
      " '15h 10m' '5h 45m' '5h 55m' '13h 25m' '22h' '5h 30m' '10h 25m' '5h 15m'\n",
      " '2h 30m' '6h 15m' '11h 55m' '11h 5m' '8h 30m' '22h 5m' '2h 45m' '12h'\n",
      " '16h 5m' '19h 55m' '3h 15m' '25h 20m' '3h' '16h 15m' '15h 5m' '6h 30m'\n",
      " '25h 5m' '12h 25m' '27h 20m' '10h 15m' '10h 30m' '1h 30m' '1h 25m'\n",
      " '26h 30m' '7h 20m' '13h 30m' '5h' '19h 5m' '14h 50m' '2h 40m' '22h 10m'\n",
      " '9h 35m' '10h' '21h 20m' '18h 45m' '12h 20m' '18h' '9h 15m' '17h 30m'\n",
      " '16h 35m' '12h 15m' '7h 30m' '24h' '8h 55m' '7h 10m' '14h 30m' '30h 20m'\n",
      " '15h' '12h 45m' '10h 10m' '15h 25m' '14h 5m' '20h 15m' '23h 10m'\n",
      " '18h 10m' '16h' '2h 20m' '8h' '16h 55m' '3h 10m' '14h' '23h 50m'\n",
      " '21h 40m' '21h 15m' '10h 50m' '8h 15m' '8h 35m' '11h 50m' '27h 35m'\n",
      " '8h 25m' '20h 55m' '4h 50m' '8h 10m' '24h 25m' '23h 35m' '25h 45m'\n",
      " '26h 10m' '28h 50m' '25h 15m' '9h 20m' '9h 10m' '3h 5m' '11h 30m'\n",
      " '9h 30m' '17h 35m' '5h 5m' '25h 50m' '20h' '13h' '18h 25m' '24h 10m'\n",
      " '4h 55m' '25h 35m' '6h 20m' '18h 40m' '19h 25m' '29h 20m' '9h 5m'\n",
      " '10h 45m' '11h 40m' '22h 55m' '37h 25m' '25h 40m' '13h 55m' '8h 40m'\n",
      " '23h 30m' '12h 35m' '24h 15m' '1h 20m' '11h' '11h 15m' '14h 35m'\n",
      " '12h 55m' '9h' '7h 40m' '11h 45m' '24h 55m' '17h 5m' '29h 55m' '22h 15m'\n",
      " '14h 40m' '7h 15m' '20h 10m' '20h 45m' '27h' '24h 30m' '20h 25m' '5h 35m'\n",
      " '14h 45m' '5h 40m' '4h 5m' '15h 55m' '7h 45m' '28h 20m' '4h 20m' '3h 40m'\n",
      " '8h 50m' '23h 45m' '24h 45m' '21h 35m' '8h 5m' '6h 25m' '15h 50m'\n",
      " '26h 25m' '24h 50m' '26h' '23h 5m' '7h 55m' '26h 20m' '23h 15m' '5h 20m'\n",
      " '4h' '9h 45m' '8h 20m' '17h 25m' '7h 5m' '34h 5m' '6h 5m' '5h 50m' '7h'\n",
      " '4h 25m' '13h 45m' '19h 15m' '22h 30m' '16h 25m' '13h 50m' '27h 5m'\n",
      " '28h 10m' '4h 40m' '15h 40m' '4h 35m' '18h 30m' '38h 15m' '6h 35m'\n",
      " '12h 30m' '11h 20m' '7h 35m' '29h 35m' '26h 55m' '23h 40m' '12h 50m'\n",
      " '9h 50m' '21h 55m' '10h 55m' '21h 10m' '20h 40m' '30h' '13h 10m' '8h 45m'\n",
      " '6h 10m' '17h 45m' '21h 45m' '3h 55m' '17h 20m' '30h 30m' '21h 25m'\n",
      " '12h 40m' '24h 35m' '19h 10m' '22h 40m' '14h 55m' '21h' '6h 45m'\n",
      " '28h 40m' '9h 40m' '16h 40m' '16h 20m' '16h 45m' '1h 15m' '6h 55m'\n",
      " '11h 25m' '14h 20m' '12h 5m' '24h 5m' '28h 15m' '17h 50m' '20h 20m'\n",
      " '28h 5m' '10h 20m' '14h 15m' '35h 15m' '35h 35m' '26h 40m' '28h'\n",
      " '14h 25m' '13h 5m' '37h 20m' '36h 10m' '25h 55m' '35h 5m' '19h 45m'\n",
      " '27h 55m' '47h' '10h 35m' '1h 35m' '16h 10m' '38h 20m' '6h' '16h 50m'\n",
      " '14h 10m' '23h 20m' '17h 40m' '11h 35m' '18h 20m' '6h 40m' '30h 55m'\n",
      " '24h 40m' '29h 50m' '28h 25m' '17h 15m' '22h 45m' '25h 25m' '21h 50m'\n",
      " '33h 15m' '30h 15m' '3h 35m' '27h 40m' '30h 25m' '18h 50m' '27h 45m'\n",
      " '15h 15m' '10h 40m' '26h 15m' '36h 25m' '26h 50m' '15h 45m' '19h 40m'\n",
      " '22h 25m' '19h 35m' '25h' '26h 45m' '38h' '4h 15m' '25h 10m' '18h 15m'\n",
      " '6h 50m' '23h 55m' '17h 55m' '23h 25m' '17h 10m' '24h 20m' '28h 30m'\n",
      " '27h 10m' '19h 20m' '15h 35m' '9h 25m' '21h 30m' '34h 25m' '18h 35m'\n",
      " '29h 40m' '26h 5m' '29h 5m' '27h 25m' '16h 30m' '11h 10m' '28h 55m'\n",
      " '29h 10m' '34h' '30h 40m' '30h 45m' '32h 55m' '10h 5m' '35h 20m' '32h 5m'\n",
      " '31h 40m' '19h 50m' '33h 45m' '30h 10m' '13h 40m' '19h 30m' '31h 30m'\n",
      " '34h 30m' '27h 50m' '38h 35m' '42h 5m' '4h 10m' '39h 5m' '3h 50m' '5m'\n",
      " '32h 30m' '31h 55m' '33h 20m' '27h 30m' '18h 55m' '9h 55m' '41h 20m'\n",
      " '20h 5m' '31h 50m' '42h 45m' '3h 25m' '37h 10m' '29h 30m' '32h 20m'\n",
      " '20h 50m' '40h 20m' '13h 35m' '47h 40m']\n",
      "Total_Stops: ['non-stop' '2 stops' '1 stop' '3 stops' '4 stops']\n",
      "Additional_Info: ['No info' 'In-flight meal not included' 'No check-in baggage included'\n",
      " '1 Short layover' 'No Info' '1 Long layover' 'Change airports'\n",
      " 'Business class' 'Red-eye flight' '2 Long layover']\n",
      "Price: [ 3897  7662 13882 ...  9790 12352 12648]\n"
     ]
    }
   ],
   "source": [
    "# Checking Unique values of train Dataset:\n",
    "\n",
    "column_name =train.columns.values\n",
    "for column in column_name:\n",
    "    print(\"{0}: {1}\".format(column, train[column].unique()))"
   ]
  },
  {
   "cell_type": "markdown",
   "id": "a77b5cf1",
   "metadata": {},
   "source": [
    "Unique values of train Dataset"
   ]
  },
  {
   "cell_type": "code",
   "execution_count": 346,
   "id": "271a7c68",
   "metadata": {},
   "outputs": [
    {
     "name": "stdout",
     "output_type": "stream",
     "text": [
      "Airline: ['Jet Airways' 'IndiGo' 'Multiple carriers' 'Air Asia' 'Air India'\n",
      " 'Vistara' 'SpiceJet' 'Vistara Premium economy' 'GoAir'\n",
      " 'Multiple carriers Premium economy' 'Jet Airways Business']\n",
      "Date_of_Journey: ['6/06/2019' '12/05/2019' '21/05/2019' '24/06/2019' '12/06/2019'\n",
      " '12/03/2019' '1/05/2019' '15/03/2019' '18/05/2019' '21/03/2019'\n",
      " '15/06/2019' '15/05/2019' '3/06/2019' '06/03/2019' '24/03/2019'\n",
      " '6/03/2019' '9/05/2019' '18/03/2019' '6/04/2019' '1/06/2019' '3/03/2019'\n",
      " '27/03/2019' '9/06/2019' '3/05/2019' '1/04/2019' '18/06/2019'\n",
      " '15/04/2019' '6/05/2019' '9/03/2019' '3/04/2019' '27/06/2019'\n",
      " '21/06/2019' '21/04/2019' '18/04/2019' '9/04/2019' '24/05/2019'\n",
      " '01/03/2019' '09/03/2019' '27/05/2019' '03/03/2019' '27/04/2019'\n",
      " '1/03/2019' '24/04/2019' '12/04/2019']\n",
      "Source: ['Delhi' 'Kolkata' 'Banglore' 'Mumbai' 'Chennai']\n",
      "Destination: ['Cochin' 'Banglore' 'Delhi' 'New Delhi' 'Hyderabad' 'Kolkata']\n",
      "Route: ['DEL → BOM → COK' 'CCU → MAA → BLR' 'BLR → DEL' 'BLR → TRV → DEL'\n",
      " 'CCU → HYD → BLR' 'CCU → BLR' 'CCU → BOM → BLR' 'DEL → MAA → BOM → COK'\n",
      " 'DEL → HYD → COK' 'BLR → BOM → DEL' 'CCU → DEL → BLR'\n",
      " 'DEL → JAI → BOM → COK' 'DEL → BHO → BOM → COK' 'BOM → HYD'\n",
      " 'CCU → PNQ → BLR' 'MAA → CCU' 'CCU → BOM → COK → BLR' 'DEL → BLR → COK'\n",
      " 'DEL → HYD → MAA → COK' 'DEL → MAA → COK' 'CCU → IXR → BBI → BOM → BLR'\n",
      " 'CCU → DEL → AMD → BLR' 'DEL → COK' 'CCU → JAI → BOM → BLR'\n",
      " 'DEL → LKO → COK' 'CCU → IXB → BLR' 'DEL → CCU → BOM → COK'\n",
      " 'CCU → GAU → DEL → BLR' 'BLR → COK → DEL' 'BLR → BOM → NAG → DEL'\n",
      " 'CCU → BBI → BOM → BLR' 'BLR → AMD → DEL' 'BOM → DEL → HYD'\n",
      " 'DEL → GOI → BOM → COK' 'DEL → IXU → BOM → COK' 'DEL → HYD → BOM → COK'\n",
      " 'CCU → DEL → COK → BLR' 'BLR → GOI → DEL' 'BLR → BOM → BHO → DEL'\n",
      " 'DEL → IDR → BOM → COK' 'DEL → AMD → BOM → COK'\n",
      " 'DEL → RPR → NAG → BOM → COK' 'DEL → NAG → BOM → COK' 'CCU → PAT → BLR'\n",
      " 'BLR → HYD → VGA → DEL' 'BLR → BOM → IXC → DEL' 'BLR → BOM → IDR → DEL'\n",
      " 'CCU → VNS → DEL → BLR' 'CCU → BBI → BLR' 'BLR → MAA → DEL'\n",
      " 'CCU → IXR → DEL → BLR' 'CCU → BOM → GOI → BLR' 'DEL → ATQ → BOM → COK'\n",
      " 'BLR → VGA → DEL' 'DEL → BDQ → BOM → COK' 'BLR → HYD → DEL'\n",
      " 'BLR → BOM → AMD → DEL' 'DEL → DED → BOM → COK' 'DEL → AMD → COK'\n",
      " 'CCU → BOM → HBX → BLR' 'BLR → STV → DEL' 'CCU → KNU → BLR'\n",
      " 'DEL → TRV → COK' 'BLR → CCU → GAU → DEL' 'DEL → UDR → BOM → COK'\n",
      " 'BOM → BLR → HYD' 'CCU → BOM → AMD → BLR' 'DEL → JDH → BOM → COK'\n",
      " 'DEL → PNQ → COK' 'DEL → GWL → IDR → BOM → COK'\n",
      " 'BLR → BOM → IDR → GWL → DEL' 'BLR → BDQ → DEL' 'BOM → JDH → DEL → HYD'\n",
      " 'CCU → GAU → BLR' 'BLR → BOM → UDR → DEL' 'BLR → BBI → DEL'\n",
      " 'BOM → VGA → TIR → HYD' 'CCU → DEL → VGA → BLR' 'DEL → LKO → BOM → COK'\n",
      " 'CCU → JAI → DEL → BLR' 'CCU → NAG → BLR' 'BOM → JAI → DEL → HYD'\n",
      " 'BLR → CCU → DEL' 'BLR → VGA → VTZ → DEL' 'CCU → BOM → TRV → BLR'\n",
      " 'BOM → GOI → HYD' 'BOM → IXC → DEL → HYD' 'CCU → DEL → COK → TRV → BLR'\n",
      " 'BLR → GAU → DEL' 'BLR → BOM → JDH → DEL' 'DEL → IXC → BOM → COK'\n",
      " 'CCU → BBI → HYD → BLR' 'BLR → VGA → HYD → DEL' 'BLR → NAG → DEL'\n",
      " 'CCU → AMD → BLR' 'BOM → AMD → ISK → HYD'\n",
      " 'BLR → CCU → BBI → HYD → VGA → DEL' 'CCU → BBI → IXR → DEL → BLR'\n",
      " 'CCU → IXR → BBI → BLR' 'BOM → GOI → PNQ → HYD']\n",
      "Dep_Time: ['17:30' '06:20' '19:15' '08:00' '23:55' '18:15' '07:30' '15:15' '10:10'\n",
      " '16:30' '13:55' '06:50' '09:00' '05:45' '21:25' '13:15' '09:55' '22:55'\n",
      " '10:45' '20:00' '05:30' '21:05' '16:00' '14:00' '22:50' '19:50' '07:10'\n",
      " '05:55' '16:55' '18:55' '10:20' '17:10' '13:00' '22:45' '21:00' '17:45'\n",
      " '09:25' '14:05' '09:45' '02:00' '11:40' '17:00' '06:00' '07:05' '16:45'\n",
      " '19:40' '03:50' '21:15' '11:30' '12:00' '21:50' '05:50' '07:55' '09:10'\n",
      " '08:20' '09:30' '10:00' '14:55' '22:10' '07:00' '19:55' '19:30' '15:00'\n",
      " '05:35' '06:40' '17:15' '21:20' '07:35' '06:55' '17:35' '11:15' '20:15'\n",
      " '20:25' '05:40' '15:05' '20:55' '14:25' '19:45' '08:25' '22:00' '21:10'\n",
      " '02:15' '08:30' '20:40' '14:15' '14:35' '11:10' '19:35' '15:20' '06:10'\n",
      " '22:20' '08:35' '14:40' '09:40' '01:30' '08:50' '19:05' '08:55' '11:35'\n",
      " '04:55' '14:10' '09:35' '17:50' '15:45' '02:55' '00:30' '19:00' '23:05'\n",
      " '11:25' '05:25' '05:15' '12:50' '06:45' '18:05' '13:25' '09:20' '02:30'\n",
      " '23:30' '07:45' '11:55' '20:20' '08:15' '17:25' '09:50' '15:50' '10:35'\n",
      " '14:30' '06:30' '11:50' '19:10' '20:45' '15:10' '16:50' '16:35' '10:30'\n",
      " '04:45' '04:00' '04:40' '18:25' '15:35' '19:20' '13:10' '13:05' '09:15'\n",
      " '20:30' '12:30' '11:00' '08:45' '07:20' '14:45' '10:55' '05:00' '15:55'\n",
      " '15:30' '20:05' '18:45' '16:10' '23:25' '16:40' '07:15' '13:20' '06:05'\n",
      " '20:50' '11:20' '06:15' '18:00' '18:40' '12:55' '05:10' '22:05' '07:25'\n",
      " '05:05' '22:30' '04:50' '18:20' '17:40' '00:40' '11:45' '22:15' '15:40'\n",
      " '14:20' '20:35' '13:30' '02:35' '17:05' '17:55' '21:30' '22:40' '08:10'\n",
      " '06:25' '20:10' '18:35' '13:50' '00:25' '01:35' '16:15' '10:25' '12:10'\n",
      " '23:00']\n",
      "Arrival_Time: ['04:25 07 Jun' '10:20' '19:00 22 May' '21:00' '02:45 25 Jun'\n",
      " '12:35 13 Jun' '22:35' '20:30' '12:55' '18:50 22 Mar' '16:10' '19:15'\n",
      " '10:25' '12:35 04 Jun' '08:15 07 Mar' '22:30' '22:10' '04:25 13 Jun'\n",
      " '08:15 13 Mar' '01:35 07 Mar' '10:05 10 May' '09:00 16 Mar' '19:00'\n",
      " '23:55' '04:25 22 Mar' '17:45' '01:20 04 Mar' '01:35 28 Mar' '12:35'\n",
      " '22:50' '08:35' '23:00' '12:00 10 May' '19:40' '01:30 16 May'\n",
      " '00:15 10 Jun' '07:40 16 Jun' '02:15 02 May' '20:05' '18:50 04 Mar'\n",
      " '15:25' '22:35 02 Apr' '13:45 13 May' '19:50' '16:20 25 Mar' '11:25'\n",
      " '12:00' '18:10' '07:45' '19:10' '12:10' '18:50 07 May' '09:25 10 Mar'\n",
      " '22:25' '22:20' '15:50' '07:25' '00:15 13 Jun' '18:50' '13:30'\n",
      " '19:00 19 May' '21:50' '15:45' '10:40' '11:20' '12:20' '05:25 02 May'\n",
      " '17:50' '10:05 19 May' '01:00 25 Jun' '09:05 10 Jun' '01:30 10 May'\n",
      " '10:35' '08:15 10 May' '08:15 19 May' '18:15 19 May' '19:15 02 Jun'\n",
      " '20:45' '07:40' '04:25 16 Jun' '07:05' '18:30' '10:10' '01:35 10 Mar'\n",
      " '19:45' '10:05 13 Jun' '00:45 07 Mar' '21:20' '09:30' '22:15'\n",
      " '19:15 16 May' '18:25' '01:30 16 Apr' '04:25 07 Mar' '20:25 19 May'\n",
      " '10:25 13 Mar' '14:05' '08:45' '20:20' '12:35 10 May' '16:55' '19:35'\n",
      " '03:35 07 May' '12:45' '16:20' '05:25 02 Apr' '10:50 16 Mar'\n",
      " '22:35 25 Mar' '11:30' '09:25 28 May' '00:15 19 May' '16:45'\n",
      " '04:40 10 Jun' '08:15 16 May' '00:05 22 Jun' '19:55' '12:00 13 May'\n",
      " '21:05' '15:30' '17:55' '08:55' '00:40 19 Mar' '17:15' '17:05'\n",
      " '00:15 07 Mar' '04:15' '10:35 16 Mar' '18:30 25 Mar' '20:35'\n",
      " '00:40 25 Jun' '21:55' '10:55 10 Jun' '01:30 04 Jun' '00:40 28 Jun'\n",
      " '09:25 07 Mar' '14:45' '19:15 07 Jun' '14:00' '11:10 07 Jun'\n",
      " '04:25 22 May' '07:55 25 Mar' '10:45 25 May' '17:10' '11:10 16 May'\n",
      " '10:55 07 Jun' '08:15 02 May' '07:40 07 Jun' '16:50 07 Mar'\n",
      " '01:30 28 Jun' '01:30 07 Jun' '15:35' '22:05' '09:45 25 May'\n",
      " '01:20 02 Apr' '19:50 16 May' '04:20' '08:15 02 Mar' '03:25' '20:25'\n",
      " '00:55 13 Mar' '11:05 25 May' '14:25 10 May' '23:25' '01:30 10 Jun'\n",
      " '09:40' '01:30 25 May' '04:25 04 Mar' '19:15 28 May' '21:10'\n",
      " '12:35 28 Jun' '14:15' '08:55 19 May' '04:00' '20:40' '02:20 07 Mar'\n",
      " '12:35 28 May' '00:15 25 Jun' '23:35' '05:25 13 Jun' '14:20'\n",
      " '00:55 10 Apr' '16:20 07 May' '04:25 04 Jun' '09:25 02 Mar'\n",
      " '20:20 10 May' '22:55' '09:35' '10:05' '08:15 22 Apr' '13:55 13 Mar'\n",
      " '09:25 02 Jun' '18:00' '08:55 25 May' '12:00 02 Apr' '11:10 16 Mar'\n",
      " '23:50' '01:30 19 May' '09:10 13 Mar' '14:25 07 Jun' '17:20'\n",
      " '08:55 10 May' '16:25' '07:40 10 Jun' '04:25 10 Jun' '13:15'\n",
      " '11:35 07 Mar' '10:15 19 Mar' '19:00 16 Jun' '10:50 25 Mar'\n",
      " '07:10 22 May' '18:15 13 May' '23:30' '19:15 10 Jun' '05:35 10 May'\n",
      " '13:45 07 Jun' '18:15 22 May' '19:00 07 May' '22:40' '01:30 13 Jun'\n",
      " '23:35 16 May' '21:20 16 Mar' '09:05 22 May' '08:30' '07:40 16 Mar'\n",
      " '04:25 28 Mar' '19:00 02 Apr' '01:30 02 Jun' '04:25' '19:00 28 Jun'\n",
      " '01:00 07 Jun' '18:50 10 Mar' '07:45 22 May' '06:50' '08:15 25 May'\n",
      " '13:55' '01:20 16 Apr' '07:15' '01:35 04 Mar' '08:15 13 May'\n",
      " '00:40 02 May' '18:00 25 May' '04:25 02 Jun' '10:25 16 Mar' '23:40'\n",
      " '23:45' '19:00 28 May' '04:40 02 May' '00:45 08 Mar' '12:35 16 Jun'\n",
      " '10:30' '12:35 10 Apr' '14:30' '19:25' '04:25 28 May' '04:25 08 Mar'\n",
      " '13:45 10 Jun' '05:35 25 Mar' '17:40' '04:25 19 May' '09:25 07 Jun'\n",
      " '23:20' '18:50 10 May' '09:20 07 May' '07:35' '23:35 02 Apr'\n",
      " '22:05 13 May' '01:30 16 Jun' '13:40' '10:05 25 May' '12:30'\n",
      " '17:20 13 Jun' '18:15' '07:40 28 Jun' '10:15' '16:20 13 Jun'\n",
      " '09:30 13 Mar' '19:15 22 Mar' '18:05' '00:40 10 Jun' '21:45'\n",
      " '20:45 07 Jun' '21:40' '00:15 07 May' '12:35 25 Jun' '18:15 07 Jun'\n",
      " '02:10 16 Mar' '06:35 07 May' '19:45 07 Mar' '00:20 28 Mar' '21:25'\n",
      " '16:15 19 May' '00:05 19 Jun' '07:40 04 Jun' '19:15 28 Mar'\n",
      " '19:00 13 Jun' '01:30 28 May' '13:20' '09:25 04 Jun' '15:55'\n",
      " '09:45 07 May' '07:40 19 Mar' '12:00 25 Mar' '01:10 04 Mar' '08:50'\n",
      " '18:50 13 May' '09:20' '23:15' '09:25 28 Mar' '09:20 10 Jun'\n",
      " '18:00 19 May' '10:55 22 May' '18:50 13 Jun' '04:40 16 May'\n",
      " '04:25 10 Mar' '04:40 13 May' '01:20 25 Mar' '10:45 07 Jun'\n",
      " '19:45 28 Mar' '04:25 23 Mar' '06:50 16 Jun' '13:25' '18:40'\n",
      " '07:40 22 Mar' '08:15 13 Jun' '10:55 13 Jun' '23:00 16 Mar'\n",
      " '00:05 04 Jun' '16:15' '01:30 22 May' '23:25 07 May' '07:40 02 Jun'\n",
      " '18:20' '16:20 25 May' '11:05 13 Jun' '00:05 16 Apr' '21:35'\n",
      " '19:15 16 Jun' '04:25 11 Mar' '15:15' '05:25 19 May' '07:40 28 May'\n",
      " '09:20 16 May' '08:00' '00:45 02 Mar' '01:20 13 May' '01:20 07 Jun'\n",
      " '17:35' '00:25 22 Mar' '00:05 13 Jun' '12:00 25 May' '18:15 16 May'\n",
      " '13:35' '19:15 07 Mar' '04:25 29 Jun' '10:55 19 May' '23:25 10 May'\n",
      " '19:40 25 Mar' '11:25 07 Mar' '11:50' '10:40 25 Mar' '09:50'\n",
      " '15:05 07 May' '05:25 13 May' '00:55 22 May' '13:00' '12:00 13 Jun'\n",
      " '12:35 22 May' '13:45 13 Jun' '10:55 25 May' '04:40 07 Jun'\n",
      " '00:40 19 May' '07:40 10 Mar' '12:05' '07:40 19 May' '04:45 25 Mar'\n",
      " '08:55 02 May' '22:40 02 May' '04:25 25 Jun' '09:25 10 Jun'\n",
      " '18:05 13 Mar' '04:25 29 May' '00:05 22 Apr' '01:35 22 Mar'\n",
      " '00:05 02 May' '07:55 13 May' '19:00 02 Jun' '19:15 13 Jun'\n",
      " '01:00 10 May' '23:45 13 Mar' '09:10 07 Mar' '08:15 04 Mar'\n",
      " '07:40 22 May' '04:40 07 May' '04:25 10 May' '10:05 02 May'\n",
      " '01:00 22 Apr' '20:50' '02:20 22 May' '16:30 07 Mar' '00:05 07 May'\n",
      " '01:30 25 Jun' '19:10 02 Apr' '10:00 02 Apr' '19:10 13 May'\n",
      " '01:00 16 Jun' '11:10 25 May' '07:40 07 Mar' '08:15 28 Jun'\n",
      " '09:45 02 May' '04:40 22 May' '12:00 22 May' '09:15 07 Mar'\n",
      " '09:20 02 Apr' '19:15 10 Mar' '00:10 04 Mar' '19:00 10 May'\n",
      " '01:20 07 May' '00:20 04 Jun' '00:15 02 Apr' '09:10' '02:20 02 Apr'\n",
      " '18:15 13 Jun' '19:00 10 Apr' '11:10 10 May' '18:00 02 May'\n",
      " '15:05 02 Apr' '10:25 19 Mar' '05:25 07 May' '09:25 25 Jun'\n",
      " '09:25 07 Apr' '00:50 04 Apr' '00:40 19 Jun' '09:20 13 May'\n",
      " '05:25 10 Jun' '20:00' '11:35 02 Mar' '00:40 13 May' '20:45 07 May'\n",
      " '09:20 25 May' '09:20 10 May' '00:05 13 Apr' '05:05 16 Mar'\n",
      " '11:25 02 Mar' '12:30 10 May' '09:25 16 Jun' '07:40 04 Mar'\n",
      " '09:05 25 May' '08:15 10 Mar' '16:20 13 May' '00:05 19 Mar'\n",
      " '00:15 25 Apr' '23:35 22 May' '08:15 02 Apr' '20:45 02 Apr'\n",
      " '23:25 16 May' '17:25' '19:55 07 Mar' '04:40 13 Jun' '00:05 25 Mar'\n",
      " '14:10' '00:25 02 Mar' '00:40 10 May' '01:30 07 May' '19:15 22 May'\n",
      " '13:45 16 May' '04:40 19 May' '19:15 04 Mar' '12:35 10 Jun'\n",
      " '23:55 13 Mar' '07:45 02 Apr' '20:20 07 Mar' '09:20 22 May'\n",
      " '05:35 10 Jun' '04:40 25 May' '22:05 25 May' '00:15 07 Apr'\n",
      " '10:05 16 May' '05:35 13 May' '23:35 13 May' '19:15 04 Jun'\n",
      " '09:25 04 Apr' '20:45 16 May' '09:45 16 May' '19:10 13 Mar'\n",
      " '12:00 16 May' '22:35 16 May' '09:20 02 May' '19:00 25 Jun'\n",
      " '22:55 07 Mar' '11:10 10 Jun' '13:45 25 Mar' '00:05 28 Apr'\n",
      " '16:20 07 Jun' '04:40 02 Apr' '00:15 04 May' '04:05' '18:35'\n",
      " '22:35 07 Jun' '04:40 10 May' '08:20' '00:50 02 Apr' '22:05 19 May'\n",
      " '11:25 13 Mar' '08:10 25 Mar' '22:55 10 Jun' '09:35 25 Jun' '10:00'\n",
      " '12:35 19 May' '10:35 02 Mar' '05:25 25 May' '09:25 04 Mar'\n",
      " '01:20 13 Jun' '21:20 13 Mar' '07:10 13 Jun' '19:50 10 Jun'\n",
      " '00:40 16 May' '00:15 02 May' '00:05 19 May' '12:30 22 May'\n",
      " '20:45 13 May' '08:15 10 Jun' '21:05 13 Jun' '00:40 04 May'\n",
      " '09:30 16 Mar' '14:25 13 Jun' '21:05 25 May' '10:05 07 Jun'\n",
      " '00:05 10 Mar' '01:00 02 Apr' '08:15 16 Mar' '13:15 13 Mar' '22:00'\n",
      " '22:45' '11:10 25 Mar' '14:35' '09:00 02 Mar' '23:35 07 Jun'\n",
      " '14:25 25 May' '09:25 10 May' '00:05 04 Apr' '05:05 02 Mar'\n",
      " '04:25 28 Jun' '20:45 25 May' '04:40 04 Apr' '02:20 19 Mar'\n",
      " '21:05 16 May' '00:15 10 May' '10:45' '15:15 13 Mar' '01:20 10 Jun'\n",
      " '20:20 13 May' '12:15' '19:15 07 May' '00:15 28 Jun' '22:05 16 May'\n",
      " '15:15 07 Mar' '09:05 07 May' '16:20 10 Jun' '10:45 07 May'\n",
      " '11:10 07 May' '06:35 28 May' '08:55 10 Jun' '09:05 16 May'\n",
      " '08:55 22 May' '10:50 07 Mar' '10:45 13 May' '01:30 02 May'\n",
      " '07:10 25 May' '01:20 25 Apr' '14:40' '16:10 13 Mar' '19:15 28 Jun'\n",
      " '00:20 16 Mar' '02:45 25 Apr' '10:40 25 May' '00:25 02 May'\n",
      " '07:40 25 Jun' '22:40 13 May' '09:00 07 Mar' '19:10 25 May'\n",
      " '01:20 02 Mar' '10:20 02 Mar' '18:45' '09:45 10 May' '10:05 22 May'\n",
      " '01:20 10 May' '10:30 07 May' '10:00 10 Jun' '07:40 28 Mar'\n",
      " '00:05 13 May' '00:40 13 Mar' '19:50 07 May' '06:50 13 Jun'\n",
      " '20:20 07 Jun' '07:55' '18:00 16 May' '18:15 02 Apr' '07:10 04 Mar'\n",
      " '10:40 07 May' '23:00 10 May' '23:00 13 Mar' '16:05' '01:20 19 May'\n",
      " '16:35' '05:25 16 May' '06:50 04 Jun' '22:35 13 May' '02:10 19 Mar'\n",
      " '19:10 10 Jun' '18:50 02 May' '16:15 10 Jun' '00:20 25 Jun' '08:40'\n",
      " '20:40 25 Mar' '10:30 25 May' '00:40 28 May' '02:45 16 Jun'\n",
      " '08:15 02 Jun' '09:15 13 Mar' '03:35 19 May' '05:35 07 Jun'\n",
      " '18:15 10 Jun' '10:45 10 May' '16:45 07 Mar' '01:20 10 Apr'\n",
      " '21:05 02 Apr' '02:20 16 May' '00:05 25 May' '20:45 22 May'\n",
      " '11:10 02 Apr' '02:45 10 May' '19:00 07 Jun' '22:40 10 May'\n",
      " '07:40 13 Jun' '04:25 05 Mar' '01:00 13 Apr' '18:00 13 May'\n",
      " '00:40 04 Apr' '03:35 25 May' '00:15 22 May' '12:00 19 May'\n",
      " '14:25 22 May' '00:15 04 Jun' '22:05 07 May' '07:10 10 Jun'\n",
      " '08:15 07 Jun' '07:40 10 May' '00:15 19 Mar' '18:30 16 May'\n",
      " '19:10 22 May' '12:50' '03:15' '09:50 07 May' '00:05 04 Mar'\n",
      " '19:15 10 May' '10:25 07 Mar' '08:15 22 May' '05:25 07 Jun'\n",
      " '00:15 02 Jun' '00:15 07 Jun' '23:35 10 Jun' '23:25 02 Mar'\n",
      " '01:20 04 May' '22:40 19 May' '14:25 10 Jun' '10:40 19 May'\n",
      " '09:15 25 Mar' '23:00 04 Mar' '10:45 19 May' '00:50 13 Jun' '14:50'\n",
      " '01:20 22 May' '20:25 13 May' '12:25 13 Mar' '04:25 29 Mar'\n",
      " '11:55 07 Mar' '10:05 02 Apr' '00:05 02 Apr' '05:05 07 Mar'\n",
      " '04:35 10 Jun' '06:50 19 May' '12:30 13 Jun' '00:05 02 Jun'\n",
      " '07:55 07 Jun' '12:40' '18:30 02 May' '07:55 19 May' '02:45 02 Apr'\n",
      " '19:00 04 Jun' '00:50 19 Apr' '13:00 07 Mar' '00:40 13 Apr'\n",
      " '00:05 22 Mar' '00:40 07 May' '00:20 07 Mar' '22:05 22 May'\n",
      " '19:15 10 Apr' '00:05 28 Jun' '07:55 02 Apr' '04:25 20 May'\n",
      " '00:20 02 Apr' '07:45 13 May' '00:15 22 Jun' '20:25 07 Jun']\n",
      "Duration: ['10h 55m' '4h' '23h 45m' '13h' '2h 50m' '18h 20m' '15h 5m' '5h 15m'\n",
      " '2h 45m' '6h 5m' '28h 55m' '9h 20m' '10h 15m' '4h 40m' '17h 20m'\n",
      " '10h 50m' '9h 15m' '12h 15m' '9h 10m' '14h 50m' '14h 5m' '11h 35m'\n",
      " '13h 30m' '12h 25m' '2h 30m' '25h 30m' '19h 25m' '7h' '11h 40m' '7h 5m'\n",
      " '3h' '1h 25m' '2h 40m' '17h 5m' '10h 40m' '12h 30m' '1h 30m' '23h 40m'\n",
      " '2h 20m' '23h 35m' '27h 40m' '28h 20m' '5h 45m' '26h 25m' '5h 40m'\n",
      " '2h 15m' '2h 55m' '7h 30m' '5h 20m' '25h 50m' '13h 15m' '26h 20m'\n",
      " '5h 25m' '8h 45m' '7h 20m' '21h 10m' '16h' '7h 50m' '16h 5m' '5h 55m'\n",
      " '13h 50m' '11h 55m' '13h 20m' '18h 10m' '28h 10m' '5h' '23h 15m' '1h 15m'\n",
      " '1h 20m' '13h 25m' '6h 15m' '10h 10m' '4h 35m' '11h' '12h 20m' '15h 10m'\n",
      " '19h' '13h 45m' '9h 50m' '2h 35m' '7h 15m' '23h' '10h 25m' '5h 5m'\n",
      " '22h 45m' '8h 40m' '11h 30m' '15h 40m' '7h 55m' '12h 50m' '25h 25m'\n",
      " '10h 20m' '8h 30m' '12h 45m' '12h 10m' '22h 30m' '7h 45m' '21h 55m'\n",
      " '6h 30m' '2h 25m' '25h 45m' '33h 20m' '11h 25m' '15h 15m' '14h 30m' '8h'\n",
      " '21h 15m' '26h 50m' '16h 50m' '9h 5m' '16h 45m' '11h 15m' '22h 55m'\n",
      " '17h 45m' '23h 10m' '25h 20m' '23h 50m' '14h 25m' '24h 50m' '10h 30m'\n",
      " '19h 40m' '6h 20m' '27h 20m' '9h 25m' '5h 10m' '7h 40m' '6h 35m'\n",
      " '28h 50m' '14h 35m' '19h 55m' '38h' '4h 45m' '6h 25m' '21h 40m' '3h 5m'\n",
      " '4h 55m' '16h 10m' '6h 45m' '11h 45m' '6h' '22h 25m' '19h 10m' '24h'\n",
      " '14h 40m' '20h 30m' '16h 15m' '8h 15m' '8h 25m' '23h 5m' '19h 30m'\n",
      " '25h 10m' '21h 25m' '4h 50m' '18h 25m' '4h 5m' '16h 40m' '28h' '24h 55m'\n",
      " '6h 55m' '8h 20m' '26h' '9h' '20h 55m' '23h 20m' '27h 35m' '21h 35m'\n",
      " '15h 30m' '14h' '28h 40m' '14h 45m' '11h 10m' '20h' '24h 15m' '12h'\n",
      " '20h 10m' '27h 45m' '20h 35m' '11h 5m' '12h 35m' '25h' '10h' '18h 50m'\n",
      " '18h 45m' '8h 5m' '4h 25m' '14h 55m' '22h 5m' '9h 45m' '25h 55m' '25h 5m'\n",
      " '4h 10m' '9h 35m' '26h 55m' '11h 50m' '7h 35m' '5h 35m' '5h 30m'\n",
      " '35h 35m' '17h 15m' '15h 45m' '3h 15m' '16h 25m' '25h 40m' '12h 40m'\n",
      " '12h 55m' '10h 35m' '31h 55m' '20h 45m' '38h 15m' '24h 45m' '1h 35m'\n",
      " '24h 30m' '34h 30m' '23h 30m' '6h 10m' '9h 30m' '8h 55m' '26h 35m'\n",
      " '15h 35m' '5h 50m' '20h 20m' '23h 55m' '22h 10m' '20h 15m' '13h 55m'\n",
      " '3h 40m' '33h 15m' '25h 35m' '17h 55m' '24h 10m' '29h 35m' '27h 5m'\n",
      " '15h 25m' '3h 10m' '13h 35m' '8h 50m' '6h 40m' '30h 20m' '15h 55m'\n",
      " '21h 5m' '26h 40m' '37h 20m' '29h 20m' '13h 5m' '29h 40m' '10h 5m'\n",
      " '4h 30m' '21h 20m' '13h 10m' '17h 35m' '33h 45m' '6h 50m' '26h 10m'\n",
      " '16h 35m' '36h 25m' '3h 45m' '14h 20m' '22h 15m' '17h 25m' '31h 10m'\n",
      " '24h 5m' '20h 25m' '18h 30m' '26h 15m' '30h 40m' '30h' '27h 10m'\n",
      " '24h 40m' '15h 20m' '7h 10m' '28h 15m' '14h 10m' '18h 40m' '27h 50m'\n",
      " '8h 10m' '39h 5m' '16h 20m' '12h 5m' '19h 15m' '29h 55m' '27h' '30h 45m'\n",
      " '29h 5m' '32h 5m' '32h 20m' '15h' '15h 50m' '22h 40m' '19h 45m' '30h 30m'\n",
      " '18h' '28h 5m' '24h 25m' '9h 40m' '24h 35m' '21h 45m' '10h 45m' '17h 40m'\n",
      " '16h 30m' '27h 55m' '16h 55m' '8h 35m' '26h 30m' '30h 25m' '27h 30m'\n",
      " '26h 5m' '22h' '19h 5m' '11h 20m' '40h 40m' '22h 50m' '32h 25m' '17h 30m'\n",
      " '7h 25m' '4h 20m' '24h 20m' '38h 35m' '9h 55m' '38h 20m' '5m']\n",
      "Total_Stops: ['1 stop' 'non-stop' '2 stops' '3 stops' '4 stops']\n",
      "Additional_Info: ['No info' 'In-flight meal not included' 'No check-in baggage included'\n",
      " '1 Long layover' 'Business class' 'Change airports']\n"
     ]
    }
   ],
   "source": [
    "# Checking Unique values of test Dataset:\n",
    "\n",
    "column_name =test.columns.values\n",
    "for column in column_name:\n",
    "    print(\"{0}: {1}\".format(column, test[column].unique()))"
   ]
  },
  {
   "cell_type": "markdown",
   "id": "b310ef64",
   "metadata": {},
   "source": [
    "Unique values of test Dataset"
   ]
  },
  {
   "cell_type": "code",
   "execution_count": 413,
   "id": "595568e0",
   "metadata": {},
   "outputs": [
    {
     "data": {
      "text/plain": [
       "0                             No info\n",
       "1                             No info\n",
       "2                             No info\n",
       "3                             No info\n",
       "4                             No info\n",
       "                     ...             \n",
       "10678    No check-in baggage included\n",
       "10679    No check-in baggage included\n",
       "10680    No check-in baggage included\n",
       "10681    No check-in baggage included\n",
       "10682    No check-in baggage included\n",
       "Name: Additional_Info, Length: 10682, dtype: object"
      ]
     },
     "execution_count": 413,
     "metadata": {},
     "output_type": "execute_result"
    }
   ],
   "source": [
    "train['Additional_Info'].replace(['No Info','No info'])"
   ]
  },
  {
   "cell_type": "markdown",
   "id": "8d351085",
   "metadata": {},
   "source": [
    "replacing No Info with No info"
   ]
  },
  {
   "cell_type": "markdown",
   "id": "295ab8f9",
   "metadata": {},
   "source": [
    "# Data Analysis"
   ]
  },
  {
   "cell_type": "code",
   "execution_count": 414,
   "id": "72b080ce",
   "metadata": {},
   "outputs": [],
   "source": [
    "#Importing plotting libraries:\n",
    "\n",
    "import seaborn as sns\n",
    "import matplotlib.pyplot as plt\n",
    "import warnings\n",
    "warnings.filterwarnings('ignore')"
   ]
  },
  {
   "cell_type": "markdown",
   "id": "3bea3bf6",
   "metadata": {},
   "source": [
    "## Plotting of Numeric Datatype:"
   ]
  },
  {
   "cell_type": "code",
   "execution_count": 349,
   "id": "accd4540",
   "metadata": {},
   "outputs": [
    {
     "data": {
      "text/plain": [
       "<AxesSubplot:xlabel='Price', ylabel='Density'>"
      ]
     },
     "execution_count": 349,
     "metadata": {},
     "output_type": "execute_result"
    },
    {
     "data": {
      "image/png": "[encoded data removed]",
      "text/plain": [
       "<Figure size 432x288 with 1 Axes>"
      ]
     },
     "metadata": {
      "needs_background": "light"
     },
     "output_type": "display_data"
    }
   ],
   "source": [
    "sns.distplot(train['Price'], kde=True)"
   ]
  },
  {
   "cell_type": "markdown",
   "id": "51a19d24",
   "metadata": {},
   "source": [
    "Data is not normally distributed, skewness present"
   ]
  },
  {
   "cell_type": "markdown",
   "id": "283aaa8e",
   "metadata": {},
   "source": [
    "## Plotting categorical data"
   ]
  },
  {
   "cell_type": "code",
   "execution_count": 198,
   "id": "6596f462",
   "metadata": {},
   "outputs": [
    {
     "name": "stdout",
     "output_type": "stream",
     "text": [
      "Jet Airways                          3849\n",
      "IndiGo                               2053\n",
      "Air India                            1751\n",
      "Multiple carriers                    1196\n",
      "SpiceJet                              818\n",
      "Vistara                               479\n",
      "Air Asia                              319\n",
      "GoAir                                 194\n",
      "Multiple carriers Premium economy      13\n",
      "Jet Airways Business                    6\n",
      "Vistara Premium economy                 3\n",
      "Trujet                                  1\n",
      "Name: Airline, dtype: int64\n"
     ]
    },
    {
     "data": {
      "image/png": "[encoded data removed]",
      "text/plain": [
       "<Figure size 1296x360 with 1 Axes>"
      ]
     },
     "metadata": {
      "needs_background": "light"
     },
     "output_type": "display_data"
    }
   ],
   "source": [
    "plt.figure(figsize=(18,5))\n",
    "ax=sns.countplot(x=\"Airline\", data=train)\n",
    "print(train[\"Airline\"].value_counts())"
   ]
  },
  {
   "cell_type": "markdown",
   "id": "d01cbdf4",
   "metadata": {},
   "source": [
    "Jet Aiways Airline has max count than other airline."
   ]
  },
  {
   "cell_type": "code",
   "execution_count": 199,
   "id": "a21d1ff7",
   "metadata": {},
   "outputs": [
    {
     "name": "stdout",
     "output_type": "stream",
     "text": [
      "18/05/2019    504\n",
      "6/06/2019     503\n",
      "21/05/2019    497\n",
      "9/06/2019     495\n",
      "12/06/2019    493\n",
      "9/05/2019     484\n",
      "21/03/2019    423\n",
      "15/05/2019    405\n",
      "27/05/2019    382\n",
      "27/06/2019    355\n",
      "24/06/2019    351\n",
      "1/06/2019     342\n",
      "3/06/2019     333\n",
      "15/06/2019    328\n",
      "24/03/2019    323\n",
      "6/03/2019     308\n",
      "27/03/2019    299\n",
      "24/05/2019    286\n",
      "6/05/2019     281\n",
      "1/05/2019     277\n",
      "12/05/2019    259\n",
      "1/04/2019     257\n",
      "3/03/2019     218\n",
      "9/03/2019     200\n",
      "15/03/2019    162\n",
      "18/03/2019    156\n",
      "01/03/2019    152\n",
      "12/03/2019    142\n",
      "9/04/2019     125\n",
      "3/04/2019     110\n",
      "21/06/2019    109\n",
      "18/06/2019    105\n",
      "09/03/2019    102\n",
      "6/04/2019     100\n",
      "03/03/2019     97\n",
      "06/03/2019     95\n",
      "27/04/2019     94\n",
      "24/04/2019     92\n",
      "3/05/2019      90\n",
      "15/04/2019     89\n",
      "21/04/2019     82\n",
      "18/04/2019     67\n",
      "12/04/2019     63\n",
      "1/03/2019      47\n",
      "Name: Date_of_Journey, dtype: int64\n"
     ]
    },
    {
     "data": {
      "image/png": "[encoded data removed]",
      "text/plain": [
       "<Figure size 3240x360 with 1 Axes>"
      ]
     },
     "metadata": {
      "needs_background": "light"
     },
     "output_type": "display_data"
    }
   ],
   "source": [
    "plt.figure(figsize=(45,5))\n",
    "ax=sns.countplot(x=\"Date_of_Journey\", data=train)\n",
    "print(train[\"Date_of_Journey\"].value_counts())"
   ]
  },
  {
   "cell_type": "markdown",
   "id": "73898983",
   "metadata": {},
   "source": [
    "18/05/2019 and 06/06/2019 dates has maximumnumber of travellers."
   ]
  },
  {
   "cell_type": "code",
   "execution_count": 42,
   "id": "170fa79a",
   "metadata": {},
   "outputs": [
    {
     "name": "stdout",
     "output_type": "stream",
     "text": [
      "Delhi       4537\n",
      "Kolkata     2871\n",
      "Banglore    2197\n",
      "Mumbai       697\n",
      "Chennai      381\n",
      "Name: Source, dtype: int64\n"
     ]
    },
    {
     "data": {
      "image/png": "[encoded data removed]",
      "text/plain": [
       "<Figure size 432x288 with 1 Axes>"
      ]
     },
     "metadata": {
      "needs_background": "light"
     },
     "output_type": "display_data"
    }
   ],
   "source": [
    "ax=sns.countplot(x=\"Source\", data=train)\n",
    "print(train[\"Source\"].value_counts())"
   ]
  },
  {
   "cell_type": "markdown",
   "id": "6a27d694",
   "metadata": {},
   "source": [
    "Delhi has high count of 4537 "
   ]
  },
  {
   "cell_type": "code",
   "execution_count": 31,
   "id": "587b42d7",
   "metadata": {},
   "outputs": [
    {
     "name": "stdout",
     "output_type": "stream",
     "text": [
      "Cochin       4537\n",
      "Banglore     2871\n",
      "Delhi        1265\n",
      "New Delhi     932\n",
      "Hyderabad     697\n",
      "Kolkata       381\n",
      "Name: Destination, dtype: int64\n"
     ]
    },
    {
     "data": {
      "image/png": "[encoded data removed]",
      "text/plain": [
       "<Figure size 432x288 with 1 Axes>"
      ]
     },
     "metadata": {
      "needs_background": "light"
     },
     "output_type": "display_data"
    }
   ],
   "source": [
    "ax=sns.countplot(x=\"Destination\", data=train)\n",
    "print(train[\"Destination\"].value_counts())"
   ]
  },
  {
   "cell_type": "markdown",
   "id": "b4fa21c0",
   "metadata": {},
   "source": [
    "Maximum destination travelled is Cochin."
   ]
  },
  {
   "cell_type": "code",
   "execution_count": 6,
   "id": "bc6ceac3",
   "metadata": {},
   "outputs": [
    {
     "name": "stdout",
     "output_type": "stream",
     "text": [
      "DEL → BOM → COK                2377\n",
      "BLR → DEL                      1552\n",
      "CCU → BOM → BLR                 979\n",
      "CCU → BLR                       724\n",
      "BOM → HYD                       621\n",
      "                               ... \n",
      "BLR → HBX → BOM → AMD → DEL       1\n",
      "BLR → HBX → BOM → NAG → DEL       1\n",
      "CCU → IXB → DEL → BLR             1\n",
      "BLR → HBX → BOM → BHO → DEL       1\n",
      "BOM → JAI → DEL → HYD             1\n",
      "Name: Route, Length: 128, dtype: int64\n"
     ]
    },
    {
     "data": {
      "image/png": "[encoded data removed]",
      "text/plain": [
       "<Figure size 3600x576 with 1 Axes>"
      ]
     },
     "metadata": {
      "needs_background": "light"
     },
     "output_type": "display_data"
    }
   ],
   "source": [
    "plt.figure(figsize=(50,8))\n",
    "ax=sns.countplot(x=\"Route\", data=train)\n",
    "print(train[\"Route\"].value_counts())"
   ]
  },
  {
   "cell_type": "markdown",
   "id": "5f37d3d1",
   "metadata": {},
   "source": [
    "DEL → BOM → COK route was travelled maximum time."
   ]
  },
  {
   "cell_type": "code",
   "execution_count": 45,
   "id": "6a87bb3c",
   "metadata": {},
   "outputs": [
    {
     "name": "stdout",
     "output_type": "stream",
     "text": [
      "18:55    233\n",
      "17:00    227\n",
      "07:05    205\n",
      "10:00    203\n",
      "07:10    202\n",
      "        ... \n",
      "04:50      1\n",
      "12:45      1\n",
      "16:25      1\n",
      "22:25      1\n",
      "01:35      1\n",
      "Name: Dep_Time, Length: 222, dtype: int64\n"
     ]
    },
    {
     "data": {
      "image/png": "[encoded data removed]",
      "text/plain": [
       "<Figure size 1296x360 with 1 Axes>"
      ]
     },
     "metadata": {
      "needs_background": "light"
     },
     "output_type": "display_data"
    }
   ],
   "source": [
    "plt.figure(figsize=(18,5))\n",
    "ax=sns.countplot(x=\"Dep_Time\", data=train)\n",
    "print(train[\"Dep_Time\"].value_counts())"
   ]
  },
  {
   "cell_type": "markdown",
   "id": "bbdc7257",
   "metadata": {},
   "source": [
    "18:55 depature time has maximum count."
   ]
  },
  {
   "cell_type": "code",
   "execution_count": 46,
   "id": "10df5ddb",
   "metadata": {},
   "outputs": [
    {
     "name": "stdout",
     "output_type": "stream",
     "text": [
      "19:00           423\n",
      "21:00           360\n",
      "19:15           333\n",
      "16:10           154\n",
      "12:35           122\n",
      "               ... \n",
      "02:20 04 Apr      1\n",
      "04:35 04 Jun      1\n",
      "01:10 22 Mar      1\n",
      "02:20 04 Jun      1\n",
      "14:35 25 May      1\n",
      "Name: Arrival_Time, Length: 1343, dtype: int64\n"
     ]
    },
    {
     "data": {
      "image/png": "[encoded data removed]",
      "text/plain": [
       "<Figure size 1296x360 with 1 Axes>"
      ]
     },
     "metadata": {
      "needs_background": "light"
     },
     "output_type": "display_data"
    }
   ],
   "source": [
    "plt.figure(figsize=(18,5))\n",
    "ax=sns.countplot(x=\"Arrival_Time\", data=train)\n",
    "print(train[\"Arrival_Time\"].value_counts())"
   ]
  },
  {
   "cell_type": "markdown",
   "id": "1cdd2e2f",
   "metadata": {},
   "source": [
    "19:00 arrival time has maximum count."
   ]
  },
  {
   "cell_type": "code",
   "execution_count": 47,
   "id": "894faf7e",
   "metadata": {},
   "outputs": [
    {
     "name": "stdout",
     "output_type": "stream",
     "text": [
      "2h 50m     550\n",
      "1h 30m     386\n",
      "2h 45m     337\n",
      "2h 55m     337\n",
      "2h 35m     329\n",
      "          ... \n",
      "28h 30m      1\n",
      "32h 20m      1\n",
      "37h 10m      1\n",
      "13h 35m      1\n",
      "47h          1\n",
      "Name: Duration, Length: 368, dtype: int64\n"
     ]
    },
    {
     "data": {
      "image/png": "[encoded data removed]",
      "text/plain": [
       "<Figure size 1296x360 with 1 Axes>"
      ]
     },
     "metadata": {
      "needs_background": "light"
     },
     "output_type": "display_data"
    }
   ],
   "source": [
    "plt.figure(figsize=(18,5))\n",
    "ax=sns.countplot(x=\"Duration\", data=train)\n",
    "print(train[\"Duration\"].value_counts())"
   ]
  },
  {
   "cell_type": "markdown",
   "id": "a2e7a23b",
   "metadata": {},
   "source": [
    "2h 50m duration has maximum count."
   ]
  },
  {
   "cell_type": "code",
   "execution_count": 30,
   "id": "4dafa280",
   "metadata": {},
   "outputs": [
    {
     "name": "stdout",
     "output_type": "stream",
     "text": [
      "1 stop      5626\n",
      "non-stop    3491\n",
      "2 stops     1520\n",
      "3 stops       45\n",
      "4 stops        1\n",
      "Name: Total_Stops, dtype: int64\n"
     ]
    },
    {
     "data": {
      "image/png": "[encoded data removed]",
      "text/plain": [
       "<Figure size 432x288 with 1 Axes>"
      ]
     },
     "metadata": {
      "needs_background": "light"
     },
     "output_type": "display_data"
    }
   ],
   "source": [
    "ax=sns.countplot(x=\"Total_Stops\", data=train)\n",
    "print(train[\"Total_Stops\"].value_counts())"
   ]
  },
  {
   "cell_type": "markdown",
   "id": "6ea9d969",
   "metadata": {},
   "source": [
    "Maximum count is of 1 stop: 5626 "
   ]
  },
  {
   "cell_type": "code",
   "execution_count": 49,
   "id": "c2e7d3a7",
   "metadata": {},
   "outputs": [
    {
     "name": "stdout",
     "output_type": "stream",
     "text": [
      "No info                         8345\n",
      "In-flight meal not included     1982\n",
      "No check-in baggage included     320\n",
      "1 Long layover                    19\n",
      "Change airports                    7\n",
      "Business class                     4\n",
      "No Info                            3\n",
      "2 Long layover                     1\n",
      "Red-eye flight                     1\n",
      "1 Short layover                    1\n",
      "Name: Additional_Info, dtype: int64\n"
     ]
    },
    {
     "data": {
      "image/png": "[encoded data removed]",
      "text/plain": [
       "<Figure size 1296x360 with 1 Axes>"
      ]
     },
     "metadata": {
      "needs_background": "light"
     },
     "output_type": "display_data"
    }
   ],
   "source": [
    "plt.figure(figsize=(18,5))\n",
    "ax=sns.countplot(x=\"Additional_Info\", data=train)\n",
    "print(train[\"Additional_Info\"].value_counts())"
   ]
  },
  {
   "cell_type": "markdown",
   "id": "19a94f82",
   "metadata": {},
   "source": [
    "No infor has maximum count"
   ]
  },
  {
   "cell_type": "code",
   "execution_count": 126,
   "id": "ee7932c9",
   "metadata": {},
   "outputs": [
    {
     "data": {
      "text/plain": [
       "<seaborn.axisgrid.FacetGrid at 0x174ad132340>"
      ]
     },
     "execution_count": 126,
     "metadata": {},
     "output_type": "execute_result"
    },
    {
     "data": {
      "text/plain": [
       "<Figure size 1440x360 with 0 Axes>"
      ]
     },
     "metadata": {},
     "output_type": "display_data"
    },
    {
     "data": {
      "image/png": "[encoded data removed]",
      "text/plain": [
       "<Figure size 360x360 with 1 Axes>"
      ]
     },
     "metadata": {
      "needs_background": "light"
     },
     "output_type": "display_data"
    }
   ],
   "source": [
    "plt.figure(figsize=(20,5))\n",
    "sns.catplot(x = \"Price\", y = \"Source\", data = train)"
   ]
  },
  {
   "cell_type": "markdown",
   "id": "3ca3b743",
   "metadata": {},
   "source": [
    "Price of Delhi source is high"
   ]
  },
  {
   "cell_type": "code",
   "execution_count": 127,
   "id": "9ffea8f7",
   "metadata": {},
   "outputs": [
    {
     "data": {
      "text/plain": [
       "<seaborn.axisgrid.FacetGrid at 0x174ad425460>"
      ]
     },
     "execution_count": 127,
     "metadata": {},
     "output_type": "execute_result"
    },
    {
     "data": {
      "text/plain": [
       "<Figure size 1440x360 with 0 Axes>"
      ]
     },
     "metadata": {},
     "output_type": "display_data"
    },
    {
     "data": {
      "image/png": "[encoded data removed]",
      "text/plain": [
       "<Figure size 360x360 with 1 Axes>"
      ]
     },
     "metadata": {
      "needs_background": "light"
     },
     "output_type": "display_data"
    }
   ],
   "source": [
    "plt.figure(figsize=(20,5))\n",
    "sns.catplot(x = \"Price\", y = \"Destination\", data = train)"
   ]
  },
  {
   "cell_type": "markdown",
   "id": "5177746f",
   "metadata": {},
   "source": [
    "Common range in all destination lies between 0 to 100000"
   ]
  },
  {
   "cell_type": "code",
   "execution_count": 128,
   "id": "85c81991",
   "metadata": {},
   "outputs": [
    {
     "data": {
      "text/plain": [
       "<seaborn.axisgrid.FacetGrid at 0x174ad425100>"
      ]
     },
     "execution_count": 128,
     "metadata": {},
     "output_type": "execute_result"
    },
    {
     "data": {
      "text/plain": [
       "<Figure size 1440x360 with 0 Axes>"
      ]
     },
     "metadata": {},
     "output_type": "display_data"
    },
    {
     "data": {
      "image/png": "[encoded data removed]",
      "text/plain": [
       "<Figure size 360x360 with 1 Axes>"
      ]
     },
     "metadata": {
      "needs_background": "light"
     },
     "output_type": "display_data"
    }
   ],
   "source": [
    "plt.figure(figsize=(20,5))\n",
    "sns.catplot(x = \"Price\", y = \"Total_Stops\", data = train)"
   ]
  },
  {
   "cell_type": "markdown",
   "id": "8a76b719",
   "metadata": {},
   "source": [
    "Maximum prices are for 1 stop "
   ]
  },
  {
   "cell_type": "markdown",
   "id": "91240ca8",
   "metadata": {},
   "source": [
    "# Encoding of DataFrame:"
   ]
  },
  {
   "cell_type": "code",
   "execution_count": 415,
   "id": "2aeb8714",
   "metadata": {},
   "outputs": [],
   "source": [
    "# Label Encoding for object to numeric datatype:\n",
    "from sklearn.preprocessing import LabelEncoder\n",
    "en= LabelEncoder()\n",
    "for i in train.columns:\n",
    "    if train[i].dtypes==\"object\":\n",
    "        train[i]=en.fit_transform(train[i].values.reshape(-1,1))"
   ]
  },
  {
   "cell_type": "code",
   "execution_count": 416,
   "id": "c2785cd1",
   "metadata": {},
   "outputs": [
    {
     "data": {
      "text/html": [
       "<div>\n",
       "<style scoped>\n",
       "    .dataframe tbody tr th:only-of-type {\n",
       "        vertical-align: middle;\n",
       "    }\n",
       "\n",
       "    .dataframe tbody tr th {\n",
       "        vertical-align: top;\n",
       "    }\n",
       "\n",
       "    .dataframe thead th {\n",
       "        text-align: right;\n",
       "    }\n",
       "</style>\n",
       "<table border=\"1\" class=\"dataframe\">\n",
       "  <thead>\n",
       "    <tr style=\"text-align: right;\">\n",
       "      <th></th>\n",
       "      <th>Airline</th>\n",
       "      <th>Date_of_Journey</th>\n",
       "      <th>Source</th>\n",
       "      <th>Destination</th>\n",
       "      <th>Route</th>\n",
       "      <th>Dep_Time</th>\n",
       "      <th>Arrival_Time</th>\n",
       "      <th>Duration</th>\n",
       "      <th>Total_Stops</th>\n",
       "      <th>Additional_Info</th>\n",
       "      <th>Price</th>\n",
       "    </tr>\n",
       "  </thead>\n",
       "  <tbody>\n",
       "    <tr>\n",
       "      <th>0</th>\n",
       "      <td>3</td>\n",
       "      <td>24</td>\n",
       "      <td>0</td>\n",
       "      <td>5</td>\n",
       "      <td>18</td>\n",
       "      <td>211</td>\n",
       "      <td>233</td>\n",
       "      <td>240</td>\n",
       "      <td>4</td>\n",
       "      <td>8</td>\n",
       "      <td>3897</td>\n",
       "    </tr>\n",
       "    <tr>\n",
       "      <th>1</th>\n",
       "      <td>1</td>\n",
       "      <td>6</td>\n",
       "      <td>3</td>\n",
       "      <td>0</td>\n",
       "      <td>84</td>\n",
       "      <td>31</td>\n",
       "      <td>906</td>\n",
       "      <td>336</td>\n",
       "      <td>1</td>\n",
       "      <td>8</td>\n",
       "      <td>7662</td>\n",
       "    </tr>\n",
       "    <tr>\n",
       "      <th>2</th>\n",
       "      <td>4</td>\n",
       "      <td>43</td>\n",
       "      <td>2</td>\n",
       "      <td>1</td>\n",
       "      <td>118</td>\n",
       "      <td>70</td>\n",
       "      <td>413</td>\n",
       "      <td>106</td>\n",
       "      <td>1</td>\n",
       "      <td>8</td>\n",
       "      <td>13882</td>\n",
       "    </tr>\n",
       "    <tr>\n",
       "      <th>3</th>\n",
       "      <td>3</td>\n",
       "      <td>10</td>\n",
       "      <td>3</td>\n",
       "      <td>0</td>\n",
       "      <td>91</td>\n",
       "      <td>164</td>\n",
       "      <td>1324</td>\n",
       "      <td>311</td>\n",
       "      <td>0</td>\n",
       "      <td>8</td>\n",
       "      <td>6218</td>\n",
       "    </tr>\n",
       "    <tr>\n",
       "      <th>4</th>\n",
       "      <td>3</td>\n",
       "      <td>0</td>\n",
       "      <td>0</td>\n",
       "      <td>5</td>\n",
       "      <td>29</td>\n",
       "      <td>149</td>\n",
       "      <td>1237</td>\n",
       "      <td>303</td>\n",
       "      <td>0</td>\n",
       "      <td>8</td>\n",
       "      <td>13302</td>\n",
       "    </tr>\n",
       "  </tbody>\n",
       "</table>\n",
       "</div>"
      ],
      "text/plain": [
       "   Airline  Date_of_Journey  Source  Destination  Route  Dep_Time  \\\n",
       "0        3               24       0            5     18       211   \n",
       "1        1                6       3            0     84        31   \n",
       "2        4               43       2            1    118        70   \n",
       "3        3               10       3            0     91       164   \n",
       "4        3                0       0            5     29       149   \n",
       "\n",
       "   Arrival_Time  Duration  Total_Stops  Additional_Info  Price  \n",
       "0           233       240            4                8   3897  \n",
       "1           906       336            1                8   7662  \n",
       "2           413       106            1                8  13882  \n",
       "3          1324       311            0                8   6218  \n",
       "4          1237       303            0                8  13302  "
      ]
     },
     "execution_count": 416,
     "metadata": {},
     "output_type": "execute_result"
    }
   ],
   "source": [
    "train.head()"
   ]
  },
  {
   "cell_type": "markdown",
   "id": "62635d5e",
   "metadata": {},
   "source": [
    "train dataset encoded."
   ]
  },
  {
   "cell_type": "code",
   "execution_count": 417,
   "id": "76cc99e6",
   "metadata": {},
   "outputs": [],
   "source": [
    "# Label Encoding for object to numeric test datatype:\n",
    "from sklearn.preprocessing import LabelEncoder\n",
    "en= LabelEncoder()\n",
    "for i in test.columns:\n",
    "    if test[i].dtypes==\"object\":\n",
    "        test[i]=en.fit_transform(test[i].values.reshape(-1,1))"
   ]
  },
  {
   "cell_type": "code",
   "execution_count": 418,
   "id": "81284e7a",
   "metadata": {},
   "outputs": [
    {
     "data": {
      "text/html": [
       "<div>\n",
       "<style scoped>\n",
       "    .dataframe tbody tr th:only-of-type {\n",
       "        vertical-align: middle;\n",
       "    }\n",
       "\n",
       "    .dataframe tbody tr th {\n",
       "        vertical-align: top;\n",
       "    }\n",
       "\n",
       "    .dataframe thead th {\n",
       "        text-align: right;\n",
       "    }\n",
       "</style>\n",
       "<table border=\"1\" class=\"dataframe\">\n",
       "  <thead>\n",
       "    <tr style=\"text-align: right;\">\n",
       "      <th></th>\n",
       "      <th>Airline</th>\n",
       "      <th>Date_of_Journey</th>\n",
       "      <th>Source</th>\n",
       "      <th>Destination</th>\n",
       "      <th>Route</th>\n",
       "      <th>Dep_Time</th>\n",
       "      <th>Arrival_Time</th>\n",
       "      <th>Duration</th>\n",
       "      <th>Total_Stops</th>\n",
       "      <th>Additional_Info</th>\n",
       "    </tr>\n",
       "  </thead>\n",
       "  <tbody>\n",
       "    <tr>\n",
       "      <th>0</th>\n",
       "      <td>4</td>\n",
       "      <td>39</td>\n",
       "      <td>2</td>\n",
       "      <td>1</td>\n",
       "      <td>76</td>\n",
       "      <td>138</td>\n",
       "      <td>150</td>\n",
       "      <td>10</td>\n",
       "      <td>0</td>\n",
       "      <td>5</td>\n",
       "    </tr>\n",
       "    <tr>\n",
       "      <th>1</th>\n",
       "      <td>3</td>\n",
       "      <td>10</td>\n",
       "      <td>3</td>\n",
       "      <td>0</td>\n",
       "      <td>65</td>\n",
       "      <td>31</td>\n",
       "      <td>353</td>\n",
       "      <td>248</td>\n",
       "      <td>0</td>\n",
       "      <td>5</td>\n",
       "    </tr>\n",
       "    <tr>\n",
       "      <th>2</th>\n",
       "      <td>4</td>\n",
       "      <td>22</td>\n",
       "      <td>2</td>\n",
       "      <td>1</td>\n",
       "      <td>76</td>\n",
       "      <td>156</td>\n",
       "      <td>566</td>\n",
       "      <td>148</td>\n",
       "      <td>0</td>\n",
       "      <td>3</td>\n",
       "    </tr>\n",
       "    <tr>\n",
       "      <th>3</th>\n",
       "      <td>6</td>\n",
       "      <td>22</td>\n",
       "      <td>2</td>\n",
       "      <td>1</td>\n",
       "      <td>76</td>\n",
       "      <td>48</td>\n",
       "      <td>633</td>\n",
       "      <td>36</td>\n",
       "      <td>0</td>\n",
       "      <td>5</td>\n",
       "    </tr>\n",
       "    <tr>\n",
       "      <th>4</th>\n",
       "      <td>0</td>\n",
       "      <td>27</td>\n",
       "      <td>0</td>\n",
       "      <td>2</td>\n",
       "      <td>16</td>\n",
       "      <td>198</td>\n",
       "      <td>135</td>\n",
       "      <td>216</td>\n",
       "      <td>4</td>\n",
       "      <td>5</td>\n",
       "    </tr>\n",
       "  </tbody>\n",
       "</table>\n",
       "</div>"
      ],
      "text/plain": [
       "   Airline  Date_of_Journey  Source  Destination  Route  Dep_Time  \\\n",
       "0        4               39       2            1     76       138   \n",
       "1        3               10       3            0     65        31   \n",
       "2        4               22       2            1     76       156   \n",
       "3        6               22       2            1     76        48   \n",
       "4        0               27       0            2     16       198   \n",
       "\n",
       "   Arrival_Time  Duration  Total_Stops  Additional_Info  \n",
       "0           150        10            0                5  \n",
       "1           353       248            0                5  \n",
       "2           566       148            0                3  \n",
       "3           633        36            0                5  \n",
       "4           135       216            4                5  "
      ]
     },
     "execution_count": 418,
     "metadata": {},
     "output_type": "execute_result"
    }
   ],
   "source": [
    "test.head()"
   ]
  },
  {
   "cell_type": "markdown",
   "id": "d7659d14",
   "metadata": {},
   "source": [
    "test dataset encoded"
   ]
  },
  {
   "cell_type": "markdown",
   "id": "f1ebc133",
   "metadata": {},
   "source": [
    "## Describing the dataset"
   ]
  },
  {
   "cell_type": "code",
   "execution_count": 419,
   "id": "ebdc0f5f",
   "metadata": {},
   "outputs": [
    {
     "data": {
      "text/html": [
       "<div>\n",
       "<style scoped>\n",
       "    .dataframe tbody tr th:only-of-type {\n",
       "        vertical-align: middle;\n",
       "    }\n",
       "\n",
       "    .dataframe tbody tr th {\n",
       "        vertical-align: top;\n",
       "    }\n",
       "\n",
       "    .dataframe thead th {\n",
       "        text-align: right;\n",
       "    }\n",
       "</style>\n",
       "<table border=\"1\" class=\"dataframe\">\n",
       "  <thead>\n",
       "    <tr style=\"text-align: right;\">\n",
       "      <th></th>\n",
       "      <th>Airline</th>\n",
       "      <th>Date_of_Journey</th>\n",
       "      <th>Source</th>\n",
       "      <th>Destination</th>\n",
       "      <th>Route</th>\n",
       "      <th>Dep_Time</th>\n",
       "      <th>Arrival_Time</th>\n",
       "      <th>Duration</th>\n",
       "      <th>Total_Stops</th>\n",
       "      <th>Additional_Info</th>\n",
       "      <th>Price</th>\n",
       "    </tr>\n",
       "  </thead>\n",
       "  <tbody>\n",
       "    <tr>\n",
       "      <th>count</th>\n",
       "      <td>10682.000000</td>\n",
       "      <td>10682.000000</td>\n",
       "      <td>10682.000000</td>\n",
       "      <td>10682.000000</td>\n",
       "      <td>10682.000000</td>\n",
       "      <td>10682.000000</td>\n",
       "      <td>10682.000000</td>\n",
       "      <td>10682.000000</td>\n",
       "      <td>10682.000000</td>\n",
       "      <td>10682.000000</td>\n",
       "      <td>10682.000000</td>\n",
       "    </tr>\n",
       "    <tr>\n",
       "      <th>mean</th>\n",
       "      <td>3.966205</td>\n",
       "      <td>23.733758</td>\n",
       "      <td>1.952256</td>\n",
       "      <td>1.436154</td>\n",
       "      <td>74.820165</td>\n",
       "      <td>107.983898</td>\n",
       "      <td>869.846564</td>\n",
       "      <td>194.072177</td>\n",
       "      <td>1.458248</td>\n",
       "      <td>7.392998</td>\n",
       "      <td>9087.214567</td>\n",
       "    </tr>\n",
       "    <tr>\n",
       "      <th>std</th>\n",
       "      <td>2.352090</td>\n",
       "      <td>12.337569</td>\n",
       "      <td>1.177276</td>\n",
       "      <td>1.474845</td>\n",
       "      <td>36.729039</td>\n",
       "      <td>61.087537</td>\n",
       "      <td>331.519717</td>\n",
       "      <td>108.625225</td>\n",
       "      <td>1.806320</td>\n",
       "      <td>1.214254</td>\n",
       "      <td>4611.548810</td>\n",
       "    </tr>\n",
       "    <tr>\n",
       "      <th>min</th>\n",
       "      <td>0.000000</td>\n",
       "      <td>0.000000</td>\n",
       "      <td>0.000000</td>\n",
       "      <td>0.000000</td>\n",
       "      <td>0.000000</td>\n",
       "      <td>0.000000</td>\n",
       "      <td>0.000000</td>\n",
       "      <td>0.000000</td>\n",
       "      <td>0.000000</td>\n",
       "      <td>0.000000</td>\n",
       "      <td>1759.000000</td>\n",
       "    </tr>\n",
       "    <tr>\n",
       "      <th>25%</th>\n",
       "      <td>3.000000</td>\n",
       "      <td>14.000000</td>\n",
       "      <td>2.000000</td>\n",
       "      <td>0.000000</td>\n",
       "      <td>48.000000</td>\n",
       "      <td>55.000000</td>\n",
       "      <td>603.000000</td>\n",
       "      <td>106.000000</td>\n",
       "      <td>0.000000</td>\n",
       "      <td>8.000000</td>\n",
       "      <td>5277.000000</td>\n",
       "    </tr>\n",
       "    <tr>\n",
       "      <th>50%</th>\n",
       "      <td>4.000000</td>\n",
       "      <td>24.000000</td>\n",
       "      <td>2.000000</td>\n",
       "      <td>1.000000</td>\n",
       "      <td>73.000000</td>\n",
       "      <td>96.000000</td>\n",
       "      <td>937.000000</td>\n",
       "      <td>233.000000</td>\n",
       "      <td>0.000000</td>\n",
       "      <td>8.000000</td>\n",
       "      <td>8372.000000</td>\n",
       "    </tr>\n",
       "    <tr>\n",
       "      <th>75%</th>\n",
       "      <td>4.000000</td>\n",
       "      <td>35.000000</td>\n",
       "      <td>3.000000</td>\n",
       "      <td>2.000000</td>\n",
       "      <td>104.000000</td>\n",
       "      <td>164.000000</td>\n",
       "      <td>1141.000000</td>\n",
       "      <td>280.000000</td>\n",
       "      <td>4.000000</td>\n",
       "      <td>8.000000</td>\n",
       "      <td>12373.000000</td>\n",
       "    </tr>\n",
       "    <tr>\n",
       "      <th>max</th>\n",
       "      <td>11.000000</td>\n",
       "      <td>43.000000</td>\n",
       "      <td>4.000000</td>\n",
       "      <td>5.000000</td>\n",
       "      <td>127.000000</td>\n",
       "      <td>221.000000</td>\n",
       "      <td>1342.000000</td>\n",
       "      <td>367.000000</td>\n",
       "      <td>4.000000</td>\n",
       "      <td>9.000000</td>\n",
       "      <td>79512.000000</td>\n",
       "    </tr>\n",
       "  </tbody>\n",
       "</table>\n",
       "</div>"
      ],
      "text/plain": [
       "            Airline  Date_of_Journey        Source   Destination  \\\n",
       "count  10682.000000     10682.000000  10682.000000  10682.000000   \n",
       "mean       3.966205        23.733758      1.952256      1.436154   \n",
       "std        2.352090        12.337569      1.177276      1.474845   \n",
       "min        0.000000         0.000000      0.000000      0.000000   \n",
       "25%        3.000000        14.000000      2.000000      0.000000   \n",
       "50%        4.000000        24.000000      2.000000      1.000000   \n",
       "75%        4.000000        35.000000      3.000000      2.000000   \n",
       "max       11.000000        43.000000      4.000000      5.000000   \n",
       "\n",
       "              Route      Dep_Time  Arrival_Time      Duration   Total_Stops  \\\n",
       "count  10682.000000  10682.000000  10682.000000  10682.000000  10682.000000   \n",
       "mean      74.820165    107.983898    869.846564    194.072177      1.458248   \n",
       "std       36.729039     61.087537    331.519717    108.625225      1.806320   \n",
       "min        0.000000      0.000000      0.000000      0.000000      0.000000   \n",
       "25%       48.000000     55.000000    603.000000    106.000000      0.000000   \n",
       "50%       73.000000     96.000000    937.000000    233.000000      0.000000   \n",
       "75%      104.000000    164.000000   1141.000000    280.000000      4.000000   \n",
       "max      127.000000    221.000000   1342.000000    367.000000      4.000000   \n",
       "\n",
       "       Additional_Info         Price  \n",
       "count     10682.000000  10682.000000  \n",
       "mean          7.392998   9087.214567  \n",
       "std           1.214254   4611.548810  \n",
       "min           0.000000   1759.000000  \n",
       "25%           8.000000   5277.000000  \n",
       "50%           8.000000   8372.000000  \n",
       "75%           8.000000  12373.000000  \n",
       "max           9.000000  79512.000000  "
      ]
     },
     "execution_count": 419,
     "metadata": {},
     "output_type": "execute_result"
    }
   ],
   "source": [
    "train.describe()"
   ]
  },
  {
   "cell_type": "markdown",
   "id": "7b38ffbc",
   "metadata": {},
   "source": [
    "Key Observations:\n",
    "\n",
    "    1. Mean and Median: Values of mean and median have differences alternatively so skewness are present.\n",
    "    2. 75% percentile and max: Airline, source, additional info and price has outliers.\n",
    "    3. Standard deviation is less than mean so high peak data."
   ]
  },
  {
   "cell_type": "code",
   "execution_count": 420,
   "id": "6130fa8b",
   "metadata": {},
   "outputs": [
    {
     "data": {
      "text/html": [
       "<div>\n",
       "<style scoped>\n",
       "    .dataframe tbody tr th:only-of-type {\n",
       "        vertical-align: middle;\n",
       "    }\n",
       "\n",
       "    .dataframe tbody tr th {\n",
       "        vertical-align: top;\n",
       "    }\n",
       "\n",
       "    .dataframe thead th {\n",
       "        text-align: right;\n",
       "    }\n",
       "</style>\n",
       "<table border=\"1\" class=\"dataframe\">\n",
       "  <thead>\n",
       "    <tr style=\"text-align: right;\">\n",
       "      <th></th>\n",
       "      <th>Airline</th>\n",
       "      <th>Date_of_Journey</th>\n",
       "      <th>Source</th>\n",
       "      <th>Destination</th>\n",
       "      <th>Route</th>\n",
       "      <th>Dep_Time</th>\n",
       "      <th>Arrival_Time</th>\n",
       "      <th>Duration</th>\n",
       "      <th>Total_Stops</th>\n",
       "      <th>Additional_Info</th>\n",
       "    </tr>\n",
       "  </thead>\n",
       "  <tbody>\n",
       "    <tr>\n",
       "      <th>count</th>\n",
       "      <td>2671.000000</td>\n",
       "      <td>2671.000000</td>\n",
       "      <td>2671.000000</td>\n",
       "      <td>2671.000000</td>\n",
       "      <td>2671.000000</td>\n",
       "      <td>2671.000000</td>\n",
       "      <td>2671.000000</td>\n",
       "      <td>2671.000000</td>\n",
       "      <td>2671.000000</td>\n",
       "      <td>2671.000000</td>\n",
       "    </tr>\n",
       "    <tr>\n",
       "      <th>mean</th>\n",
       "      <td>3.972669</td>\n",
       "      <td>23.662673</td>\n",
       "      <td>1.961438</td>\n",
       "      <td>1.432797</td>\n",
       "      <td>54.356421</td>\n",
       "      <td>96.249719</td>\n",
       "      <td>435.586672</td>\n",
       "      <td>169.453014</td>\n",
       "      <td>1.422688</td>\n",
       "      <td>4.634594</td>\n",
       "    </tr>\n",
       "    <tr>\n",
       "      <th>std</th>\n",
       "      <td>2.295657</td>\n",
       "      <td>12.536017</td>\n",
       "      <td>1.184328</td>\n",
       "      <td>1.467971</td>\n",
       "      <td>27.128993</td>\n",
       "      <td>54.620936</td>\n",
       "      <td>193.250349</td>\n",
       "      <td>93.907162</td>\n",
       "      <td>1.795728</td>\n",
       "      <td>0.760781</td>\n",
       "    </tr>\n",
       "    <tr>\n",
       "      <th>min</th>\n",
       "      <td>0.000000</td>\n",
       "      <td>0.000000</td>\n",
       "      <td>0.000000</td>\n",
       "      <td>0.000000</td>\n",
       "      <td>0.000000</td>\n",
       "      <td>0.000000</td>\n",
       "      <td>0.000000</td>\n",
       "      <td>0.000000</td>\n",
       "      <td>0.000000</td>\n",
       "      <td>0.000000</td>\n",
       "    </tr>\n",
       "    <tr>\n",
       "      <th>25%</th>\n",
       "      <td>3.000000</td>\n",
       "      <td>14.000000</td>\n",
       "      <td>2.000000</td>\n",
       "      <td>0.000000</td>\n",
       "      <td>33.000000</td>\n",
       "      <td>48.000000</td>\n",
       "      <td>276.000000</td>\n",
       "      <td>91.000000</td>\n",
       "      <td>0.000000</td>\n",
       "      <td>5.000000</td>\n",
       "    </tr>\n",
       "    <tr>\n",
       "      <th>50%</th>\n",
       "      <td>4.000000</td>\n",
       "      <td>24.000000</td>\n",
       "      <td>2.000000</td>\n",
       "      <td>1.000000</td>\n",
       "      <td>51.000000</td>\n",
       "      <td>88.000000</td>\n",
       "      <td>481.000000</td>\n",
       "      <td>209.000000</td>\n",
       "      <td>0.000000</td>\n",
       "      <td>5.000000</td>\n",
       "    </tr>\n",
       "    <tr>\n",
       "      <th>75%</th>\n",
       "      <td>6.000000</td>\n",
       "      <td>35.000000</td>\n",
       "      <td>3.000000</td>\n",
       "      <td>2.000000</td>\n",
       "      <td>76.000000</td>\n",
       "      <td>146.000000</td>\n",
       "      <td>600.000000</td>\n",
       "      <td>241.000000</td>\n",
       "      <td>4.000000</td>\n",
       "      <td>5.000000</td>\n",
       "    </tr>\n",
       "    <tr>\n",
       "      <th>max</th>\n",
       "      <td>10.000000</td>\n",
       "      <td>43.000000</td>\n",
       "      <td>4.000000</td>\n",
       "      <td>5.000000</td>\n",
       "      <td>99.000000</td>\n",
       "      <td>198.000000</td>\n",
       "      <td>703.000000</td>\n",
       "      <td>319.000000</td>\n",
       "      <td>4.000000</td>\n",
       "      <td>5.000000</td>\n",
       "    </tr>\n",
       "  </tbody>\n",
       "</table>\n",
       "</div>"
      ],
      "text/plain": [
       "           Airline  Date_of_Journey       Source  Destination        Route  \\\n",
       "count  2671.000000      2671.000000  2671.000000  2671.000000  2671.000000   \n",
       "mean      3.972669        23.662673     1.961438     1.432797    54.356421   \n",
       "std       2.295657        12.536017     1.184328     1.467971    27.128993   \n",
       "min       0.000000         0.000000     0.000000     0.000000     0.000000   \n",
       "25%       3.000000        14.000000     2.000000     0.000000    33.000000   \n",
       "50%       4.000000        24.000000     2.000000     1.000000    51.000000   \n",
       "75%       6.000000        35.000000     3.000000     2.000000    76.000000   \n",
       "max      10.000000        43.000000     4.000000     5.000000    99.000000   \n",
       "\n",
       "          Dep_Time  Arrival_Time     Duration  Total_Stops  Additional_Info  \n",
       "count  2671.000000   2671.000000  2671.000000  2671.000000      2671.000000  \n",
       "mean     96.249719    435.586672   169.453014     1.422688         4.634594  \n",
       "std      54.620936    193.250349    93.907162     1.795728         0.760781  \n",
       "min       0.000000      0.000000     0.000000     0.000000         0.000000  \n",
       "25%      48.000000    276.000000    91.000000     0.000000         5.000000  \n",
       "50%      88.000000    481.000000   209.000000     0.000000         5.000000  \n",
       "75%     146.000000    600.000000   241.000000     4.000000         5.000000  \n",
       "max     198.000000    703.000000   319.000000     4.000000         5.000000  "
      ]
     },
     "execution_count": 420,
     "metadata": {},
     "output_type": "execute_result"
    }
   ],
   "source": [
    "test.describe()"
   ]
  },
  {
   "cell_type": "markdown",
   "id": "eec3f533",
   "metadata": {},
   "source": [
    "Key Observations:\n",
    "\n",
    "    1. Mean and Median: Values of mean and median have differences alternatively so skewness are present.\n",
    "    2. 75% percentile and max: Dep_Time and duration have highest outliers.\n",
    "    3. Standard deviation is less than mean so high peak data."
   ]
  },
  {
   "cell_type": "code",
   "execution_count": 421,
   "id": "d5f44540",
   "metadata": {},
   "outputs": [
    {
     "data": {
      "text/plain": [
       "<AxesSubplot:>"
      ]
     },
     "execution_count": 421,
     "metadata": {},
     "output_type": "execute_result"
    },
    {
     "data": {
      "image/png": "[encoded data removed]",
      "text/plain": [
       "<Figure size 1584x504 with 2 Axes>"
      ]
     },
     "metadata": {
      "needs_background": "light"
     },
     "output_type": "display_data"
    }
   ],
   "source": [
    "import matplotlib.pyplot as plt\n",
    "plt.figure(figsize=(22,7))\n",
    "sns.heatmap(train.describe(),annot=True,linewidths=0.1,linecolor=\"Green\",fmt=\"0.2f\")"
   ]
  },
  {
   "cell_type": "markdown",
   "id": "244edb78",
   "metadata": {},
   "source": [
    "Heatmap representation of dataset description"
   ]
  },
  {
   "cell_type": "markdown",
   "id": "8aec30c6",
   "metadata": {},
   "source": [
    "## Outliers"
   ]
  },
  {
   "cell_type": "code",
   "execution_count": 422,
   "id": "509fb9b8",
   "metadata": {},
   "outputs": [
    {
     "data": {
      "text/plain": [
       "Airline                AxesSubplot(0.125,0.71587;0.110714x0.16413)\n",
       "Date_of_Journey     AxesSubplot(0.257857,0.71587;0.110714x0.16413)\n",
       "Source              AxesSubplot(0.390714,0.71587;0.110714x0.16413)\n",
       "Destination         AxesSubplot(0.523571,0.71587;0.110714x0.16413)\n",
       "Route               AxesSubplot(0.656429,0.71587;0.110714x0.16413)\n",
       "Dep_Time            AxesSubplot(0.789286,0.71587;0.110714x0.16413)\n",
       "Arrival_Time          AxesSubplot(0.125,0.518913;0.110714x0.16413)\n",
       "Duration           AxesSubplot(0.257857,0.518913;0.110714x0.16413)\n",
       "Total_Stops        AxesSubplot(0.390714,0.518913;0.110714x0.16413)\n",
       "Additional_Info    AxesSubplot(0.523571,0.518913;0.110714x0.16413)\n",
       "Price              AxesSubplot(0.656429,0.518913;0.110714x0.16413)\n",
       "dtype: object"
      ]
     },
     "execution_count": 422,
     "metadata": {},
     "output_type": "execute_result"
    },
    {
     "data": {
      "image/png": "[encoded data removed]",
      "text/plain": [
       "<Figure size 864x864 with 24 Axes>"
      ]
     },
     "metadata": {
      "needs_background": "light"
     },
     "output_type": "display_data"
    }
   ],
   "source": [
    "train.plot(kind='box',subplots=True,layout=(4,6),figsize=(12,12))"
   ]
  },
  {
   "cell_type": "markdown",
   "id": "e64f0d7a",
   "metadata": {},
   "source": [
    "Airline, source, additional info and price has outliers."
   ]
  },
  {
   "cell_type": "code",
   "execution_count": 423,
   "id": "ac58c16a",
   "metadata": {},
   "outputs": [
    {
     "data": {
      "text/plain": [
       "Airline                AxesSubplot(0.125,0.71587;0.110714x0.16413)\n",
       "Date_of_Journey     AxesSubplot(0.257857,0.71587;0.110714x0.16413)\n",
       "Source              AxesSubplot(0.390714,0.71587;0.110714x0.16413)\n",
       "Destination         AxesSubplot(0.523571,0.71587;0.110714x0.16413)\n",
       "Route               AxesSubplot(0.656429,0.71587;0.110714x0.16413)\n",
       "Dep_Time            AxesSubplot(0.789286,0.71587;0.110714x0.16413)\n",
       "Arrival_Time          AxesSubplot(0.125,0.518913;0.110714x0.16413)\n",
       "Duration           AxesSubplot(0.257857,0.518913;0.110714x0.16413)\n",
       "Total_Stops        AxesSubplot(0.390714,0.518913;0.110714x0.16413)\n",
       "Additional_Info    AxesSubplot(0.523571,0.518913;0.110714x0.16413)\n",
       "dtype: object"
      ]
     },
     "execution_count": 423,
     "metadata": {},
     "output_type": "execute_result"
    },
    {
     "data": {
      "image/png": "[encoded data removed]",
      "text/plain": [
       "<Figure size 864x864 with 24 Axes>"
      ]
     },
     "metadata": {
      "needs_background": "light"
     },
     "output_type": "display_data"
    }
   ],
   "source": [
    "test.plot(kind='box',subplots=True,layout=(4,6),figsize=(12,12))"
   ]
  },
  {
   "cell_type": "markdown",
   "id": "a1266104",
   "metadata": {},
   "source": [
    "Only additional infor has small dataset"
   ]
  },
  {
   "cell_type": "code",
   "execution_count": 424,
   "id": "d437c6b1",
   "metadata": {},
   "outputs": [
    {
     "data": {
      "text/plain": [
       "(array([  123,   396,   486,   510,   597,   628,   657,   785,   785,\n",
       "          826,   936,   946,   959,   975,  1043,  1196,  1246,  1341,\n",
       "         1424,  1466,  1478,  1629,  1654,  1785,  1918,  2055,  2079,\n",
       "         2099,  2108,  2405,  2481,  2495,  2495,  2556,  2556,  2618,\n",
       "         2635,  2693,  2924,  2924,  3032,  3032,  3111,  3111,  3257,\n",
       "         3400,  3535,  3700,  3700,  3788,  4012,  4521,  4521,  4676,\n",
       "         4829,  5013,  5013,  5136,  5372,  5372,  5439,  5628,  5662,\n",
       "         5701,  5710,  5719,  5738,  5745,  5856,  5986,  6024,  6314,\n",
       "         6336,  6407,  6576,  6576,  6588,  6605,  6991,  7351,  7356,\n",
       "         7377,  7537,  7554,  7617,  7713,  7724,  7724,  7756,  7902,\n",
       "         8020,  8080,  8451,  8470,  8536,  8598,  8856,  8940,  8957,\n",
       "         8957,  8990,  9019,  9019,  9192,  9238,  9631,  9656,  9714,\n",
       "         9973, 10051, 10112, 10159, 10181, 10188, 10352, 10363, 10363,\n",
       "        10382, 10438, 10510, 10510], dtype=int64),\n",
       " array([10, 10, 10, 10, 10, 10, 10,  9, 10, 10, 10, 10, 10, 10,  9, 10, 10,\n",
       "        10, 10, 10, 10, 10, 10, 10, 10, 10,  9, 10, 10,  9,  9,  9, 10,  9,\n",
       "        10, 10, 10, 10,  9, 10,  9, 10,  9, 10, 10, 10, 10,  9, 10,  9, 10,\n",
       "         9, 10, 10, 10,  9, 10, 10,  9, 10, 10,  9, 10, 10, 10, 10, 10, 10,\n",
       "        10, 10,  9, 10,  9, 10,  9, 10, 10, 10, 10, 10, 10, 10, 10, 10, 10,\n",
       "        10,  9, 10, 10, 10, 10, 10, 10, 10, 10, 10, 10, 10,  9, 10, 10,  9,\n",
       "        10, 10, 10, 10,  9, 10, 10, 10, 10, 10, 10, 10, 10,  9, 10, 10, 10,\n",
       "         9, 10], dtype=int64))"
      ]
     },
     "execution_count": 424,
     "metadata": {},
     "output_type": "execute_result"
    }
   ],
   "source": [
    "#zscore for outlier removal\n",
    "\n",
    "from scipy.stats import zscore\n",
    "import numpy as np\n",
    "z = np.abs(zscore(train))\n",
    "threshold=3\n",
    "np.where(z>3)"
   ]
  },
  {
   "cell_type": "code",
   "execution_count": 425,
   "id": "c7f72d00",
   "metadata": {},
   "outputs": [],
   "source": [
    "#removing value greater than threshold value \n",
    "\n",
    "df_new=train[(z<3).all(axis=1)]\n",
    "train= df_new\n"
   ]
  },
  {
   "cell_type": "markdown",
   "id": "06e57234",
   "metadata": {},
   "source": [
    "Outliers removed"
   ]
  },
  {
   "cell_type": "code",
   "execution_count": 426,
   "id": "de3cd381",
   "metadata": {},
   "outputs": [
    {
     "data": {
      "text/html": [
       "<div>\n",
       "<style scoped>\n",
       "    .dataframe tbody tr th:only-of-type {\n",
       "        vertical-align: middle;\n",
       "    }\n",
       "\n",
       "    .dataframe tbody tr th {\n",
       "        vertical-align: top;\n",
       "    }\n",
       "\n",
       "    .dataframe thead th {\n",
       "        text-align: right;\n",
       "    }\n",
       "</style>\n",
       "<table border=\"1\" class=\"dataframe\">\n",
       "  <thead>\n",
       "    <tr style=\"text-align: right;\">\n",
       "      <th></th>\n",
       "      <th>Airline</th>\n",
       "      <th>Date_of_Journey</th>\n",
       "      <th>Source</th>\n",
       "      <th>Destination</th>\n",
       "      <th>Route</th>\n",
       "      <th>Dep_Time</th>\n",
       "      <th>Arrival_Time</th>\n",
       "      <th>Duration</th>\n",
       "      <th>Total_Stops</th>\n",
       "      <th>Additional_Info</th>\n",
       "      <th>Price</th>\n",
       "    </tr>\n",
       "  </thead>\n",
       "  <tbody>\n",
       "    <tr>\n",
       "      <th>0</th>\n",
       "      <td>3</td>\n",
       "      <td>24</td>\n",
       "      <td>0</td>\n",
       "      <td>5</td>\n",
       "      <td>18</td>\n",
       "      <td>211</td>\n",
       "      <td>233</td>\n",
       "      <td>240</td>\n",
       "      <td>4</td>\n",
       "      <td>8</td>\n",
       "      <td>3897</td>\n",
       "    </tr>\n",
       "    <tr>\n",
       "      <th>1</th>\n",
       "      <td>1</td>\n",
       "      <td>6</td>\n",
       "      <td>3</td>\n",
       "      <td>0</td>\n",
       "      <td>84</td>\n",
       "      <td>31</td>\n",
       "      <td>906</td>\n",
       "      <td>336</td>\n",
       "      <td>1</td>\n",
       "      <td>8</td>\n",
       "      <td>7662</td>\n",
       "    </tr>\n",
       "    <tr>\n",
       "      <th>2</th>\n",
       "      <td>4</td>\n",
       "      <td>43</td>\n",
       "      <td>2</td>\n",
       "      <td>1</td>\n",
       "      <td>118</td>\n",
       "      <td>70</td>\n",
       "      <td>413</td>\n",
       "      <td>106</td>\n",
       "      <td>1</td>\n",
       "      <td>8</td>\n",
       "      <td>13882</td>\n",
       "    </tr>\n",
       "    <tr>\n",
       "      <th>3</th>\n",
       "      <td>3</td>\n",
       "      <td>10</td>\n",
       "      <td>3</td>\n",
       "      <td>0</td>\n",
       "      <td>91</td>\n",
       "      <td>164</td>\n",
       "      <td>1324</td>\n",
       "      <td>311</td>\n",
       "      <td>0</td>\n",
       "      <td>8</td>\n",
       "      <td>6218</td>\n",
       "    </tr>\n",
       "    <tr>\n",
       "      <th>4</th>\n",
       "      <td>3</td>\n",
       "      <td>0</td>\n",
       "      <td>0</td>\n",
       "      <td>5</td>\n",
       "      <td>29</td>\n",
       "      <td>149</td>\n",
       "      <td>1237</td>\n",
       "      <td>303</td>\n",
       "      <td>0</td>\n",
       "      <td>8</td>\n",
       "      <td>13302</td>\n",
       "    </tr>\n",
       "  </tbody>\n",
       "</table>\n",
       "</div>"
      ],
      "text/plain": [
       "   Airline  Date_of_Journey  Source  Destination  Route  Dep_Time  \\\n",
       "0        3               24       0            5     18       211   \n",
       "1        1                6       3            0     84        31   \n",
       "2        4               43       2            1    118        70   \n",
       "3        3               10       3            0     91       164   \n",
       "4        3                0       0            5     29       149   \n",
       "\n",
       "   Arrival_Time  Duration  Total_Stops  Additional_Info  Price  \n",
       "0           233       240            4                8   3897  \n",
       "1           906       336            1                8   7662  \n",
       "2           413       106            1                8  13882  \n",
       "3          1324       311            0                8   6218  \n",
       "4          1237       303            0                8  13302  "
      ]
     },
     "execution_count": 426,
     "metadata": {},
     "output_type": "execute_result"
    }
   ],
   "source": [
    "train.head()"
   ]
  },
  {
   "cell_type": "code",
   "execution_count": 427,
   "id": "a2fb9875",
   "metadata": {},
   "outputs": [
    {
     "data": {
      "text/plain": [
       "(10577, 11)"
      ]
     },
     "execution_count": 427,
     "metadata": {},
     "output_type": "execute_result"
    }
   ],
   "source": [
    "train.shape"
   ]
  },
  {
   "cell_type": "code",
   "execution_count": 428,
   "id": "dc2c0898",
   "metadata": {},
   "outputs": [],
   "source": [
    "Rows: 10572 ; Column: 11"
   ]
  },
  {
   "cell_type": "markdown",
   "id": "363e28d1",
   "metadata": {},
   "source": [
    "#### Percentage Loss of data: Train dataset"
   ]
  },
  {
   "cell_type": "code",
   "execution_count": 429,
   "id": "539d5a81",
   "metadata": {},
   "outputs": [
    {
     "data": {
      "text/plain": [
       "1.0390339792193204"
      ]
     },
     "execution_count": 429,
     "metadata": {},
     "output_type": "execute_result"
    }
   ],
   "source": [
    "Data_loss=((10683-10572)/10683)*100\n",
    "Data_loss"
   ]
  },
  {
   "cell_type": "markdown",
   "id": "906ccd3f",
   "metadata": {},
   "source": [
    "1% data loss"
   ]
  },
  {
   "cell_type": "markdown",
   "id": "592f7d73",
   "metadata": {},
   "source": [
    "# Correlation of the columns with the target columns:"
   ]
  },
  {
   "cell_type": "code",
   "execution_count": 430,
   "id": "e736e55f",
   "metadata": {},
   "outputs": [
    {
     "data": {
      "text/html": [
       "<div>\n",
       "<style scoped>\n",
       "    .dataframe tbody tr th:only-of-type {\n",
       "        vertical-align: middle;\n",
       "    }\n",
       "\n",
       "    .dataframe tbody tr th {\n",
       "        vertical-align: top;\n",
       "    }\n",
       "\n",
       "    .dataframe thead th {\n",
       "        text-align: right;\n",
       "    }\n",
       "</style>\n",
       "<table border=\"1\" class=\"dataframe\">\n",
       "  <thead>\n",
       "    <tr style=\"text-align: right;\">\n",
       "      <th></th>\n",
       "      <th>Airline</th>\n",
       "      <th>Date_of_Journey</th>\n",
       "      <th>Source</th>\n",
       "      <th>Destination</th>\n",
       "      <th>Route</th>\n",
       "      <th>Dep_Time</th>\n",
       "      <th>Arrival_Time</th>\n",
       "      <th>Duration</th>\n",
       "      <th>Total_Stops</th>\n",
       "      <th>Additional_Info</th>\n",
       "      <th>Price</th>\n",
       "    </tr>\n",
       "  </thead>\n",
       "  <tbody>\n",
       "    <tr>\n",
       "      <th>Airline</th>\n",
       "      <td>1.000000</td>\n",
       "      <td>0.020230</td>\n",
       "      <td>-0.015334</td>\n",
       "      <td>0.022059</td>\n",
       "      <td>0.022966</td>\n",
       "      <td>-0.040582</td>\n",
       "      <td>-0.014182</td>\n",
       "      <td>0.027133</td>\n",
       "      <td>0.036283</td>\n",
       "      <td>-0.067733</td>\n",
       "      <td>-0.044535</td>\n",
       "    </tr>\n",
       "    <tr>\n",
       "      <th>Date_of_Journey</th>\n",
       "      <td>0.020230</td>\n",
       "      <td>1.000000</td>\n",
       "      <td>0.147610</td>\n",
       "      <td>-0.248444</td>\n",
       "      <td>0.256375</td>\n",
       "      <td>-0.010257</td>\n",
       "      <td>-0.011386</td>\n",
       "      <td>-0.002251</td>\n",
       "      <td>-0.055443</td>\n",
       "      <td>-0.012156</td>\n",
       "      <td>0.025642</td>\n",
       "    </tr>\n",
       "    <tr>\n",
       "      <th>Source</th>\n",
       "      <td>-0.015334</td>\n",
       "      <td>0.147610</td>\n",
       "      <td>1.000000</td>\n",
       "      <td>-0.582837</td>\n",
       "      <td>0.390602</td>\n",
       "      <td>0.055611</td>\n",
       "      <td>0.020406</td>\n",
       "      <td>-0.195907</td>\n",
       "      <td>-0.237867</td>\n",
       "      <td>-0.041733</td>\n",
       "      <td>0.077215</td>\n",
       "    </tr>\n",
       "    <tr>\n",
       "      <th>Destination</th>\n",
       "      <td>0.022059</td>\n",
       "      <td>-0.248444</td>\n",
       "      <td>-0.582837</td>\n",
       "      <td>1.000000</td>\n",
       "      <td>-0.442636</td>\n",
       "      <td>-0.064592</td>\n",
       "      <td>-0.037922</td>\n",
       "      <td>0.023395</td>\n",
       "      <td>0.360340</td>\n",
       "      <td>0.054750</td>\n",
       "      <td>-0.175534</td>\n",
       "    </tr>\n",
       "    <tr>\n",
       "      <th>Route</th>\n",
       "      <td>0.022966</td>\n",
       "      <td>0.256375</td>\n",
       "      <td>0.390602</td>\n",
       "      <td>-0.442636</td>\n",
       "      <td>1.000000</td>\n",
       "      <td>-0.084290</td>\n",
       "      <td>0.011584</td>\n",
       "      <td>-0.063814</td>\n",
       "      <td>-0.454731</td>\n",
       "      <td>0.018228</td>\n",
       "      <td>0.255378</td>\n",
       "    </tr>\n",
       "    <tr>\n",
       "      <th>Dep_Time</th>\n",
       "      <td>-0.040582</td>\n",
       "      <td>-0.010257</td>\n",
       "      <td>0.055611</td>\n",
       "      <td>-0.064592</td>\n",
       "      <td>-0.084290</td>\n",
       "      <td>1.000000</td>\n",
       "      <td>-0.020277</td>\n",
       "      <td>0.041005</td>\n",
       "      <td>0.044246</td>\n",
       "      <td>-0.056142</td>\n",
       "      <td>0.001756</td>\n",
       "    </tr>\n",
       "    <tr>\n",
       "      <th>Arrival_Time</th>\n",
       "      <td>-0.014182</td>\n",
       "      <td>-0.011386</td>\n",
       "      <td>0.020406</td>\n",
       "      <td>-0.037922</td>\n",
       "      <td>0.011584</td>\n",
       "      <td>-0.020277</td>\n",
       "      <td>1.000000</td>\n",
       "      <td>0.028571</td>\n",
       "      <td>-0.099283</td>\n",
       "      <td>0.019897</td>\n",
       "      <td>0.040803</td>\n",
       "    </tr>\n",
       "    <tr>\n",
       "      <th>Duration</th>\n",
       "      <td>0.027133</td>\n",
       "      <td>-0.002251</td>\n",
       "      <td>-0.195907</td>\n",
       "      <td>0.023395</td>\n",
       "      <td>-0.063814</td>\n",
       "      <td>0.041005</td>\n",
       "      <td>0.028571</td>\n",
       "      <td>1.000000</td>\n",
       "      <td>0.176168</td>\n",
       "      <td>0.076945</td>\n",
       "      <td>-0.170010</td>\n",
       "    </tr>\n",
       "    <tr>\n",
       "      <th>Total_Stops</th>\n",
       "      <td>0.036283</td>\n",
       "      <td>-0.055443</td>\n",
       "      <td>-0.237867</td>\n",
       "      <td>0.360340</td>\n",
       "      <td>-0.454731</td>\n",
       "      <td>0.044246</td>\n",
       "      <td>-0.099283</td>\n",
       "      <td>0.176168</td>\n",
       "      <td>1.000000</td>\n",
       "      <td>0.162907</td>\n",
       "      <td>-0.621744</td>\n",
       "    </tr>\n",
       "    <tr>\n",
       "      <th>Additional_Info</th>\n",
       "      <td>-0.067733</td>\n",
       "      <td>-0.012156</td>\n",
       "      <td>-0.041733</td>\n",
       "      <td>0.054750</td>\n",
       "      <td>0.018228</td>\n",
       "      <td>-0.056142</td>\n",
       "      <td>0.019897</td>\n",
       "      <td>0.076945</td>\n",
       "      <td>0.162907</td>\n",
       "      <td>1.000000</td>\n",
       "      <td>-0.038248</td>\n",
       "    </tr>\n",
       "    <tr>\n",
       "      <th>Price</th>\n",
       "      <td>-0.044535</td>\n",
       "      <td>0.025642</td>\n",
       "      <td>0.077215</td>\n",
       "      <td>-0.175534</td>\n",
       "      <td>0.255378</td>\n",
       "      <td>0.001756</td>\n",
       "      <td>0.040803</td>\n",
       "      <td>-0.170010</td>\n",
       "      <td>-0.621744</td>\n",
       "      <td>-0.038248</td>\n",
       "      <td>1.000000</td>\n",
       "    </tr>\n",
       "  </tbody>\n",
       "</table>\n",
       "</div>"
      ],
      "text/plain": [
       "                  Airline  Date_of_Journey    Source  Destination     Route  \\\n",
       "Airline          1.000000         0.020230 -0.015334     0.022059  0.022966   \n",
       "Date_of_Journey  0.020230         1.000000  0.147610    -0.248444  0.256375   \n",
       "Source          -0.015334         0.147610  1.000000    -0.582837  0.390602   \n",
       "Destination      0.022059        -0.248444 -0.582837     1.000000 -0.442636   \n",
       "Route            0.022966         0.256375  0.390602    -0.442636  1.000000   \n",
       "Dep_Time        -0.040582        -0.010257  0.055611    -0.064592 -0.084290   \n",
       "Arrival_Time    -0.014182        -0.011386  0.020406    -0.037922  0.011584   \n",
       "Duration         0.027133        -0.002251 -0.195907     0.023395 -0.063814   \n",
       "Total_Stops      0.036283        -0.055443 -0.237867     0.360340 -0.454731   \n",
       "Additional_Info -0.067733        -0.012156 -0.041733     0.054750  0.018228   \n",
       "Price           -0.044535         0.025642  0.077215    -0.175534  0.255378   \n",
       "\n",
       "                 Dep_Time  Arrival_Time  Duration  Total_Stops  \\\n",
       "Airline         -0.040582     -0.014182  0.027133     0.036283   \n",
       "Date_of_Journey -0.010257     -0.011386 -0.002251    -0.055443   \n",
       "Source           0.055611      0.020406 -0.195907    -0.237867   \n",
       "Destination     -0.064592     -0.037922  0.023395     0.360340   \n",
       "Route           -0.084290      0.011584 -0.063814    -0.454731   \n",
       "Dep_Time         1.000000     -0.020277  0.041005     0.044246   \n",
       "Arrival_Time    -0.020277      1.000000  0.028571    -0.099283   \n",
       "Duration         0.041005      0.028571  1.000000     0.176168   \n",
       "Total_Stops      0.044246     -0.099283  0.176168     1.000000   \n",
       "Additional_Info -0.056142      0.019897  0.076945     0.162907   \n",
       "Price            0.001756      0.040803 -0.170010    -0.621744   \n",
       "\n",
       "                 Additional_Info     Price  \n",
       "Airline                -0.067733 -0.044535  \n",
       "Date_of_Journey        -0.012156  0.025642  \n",
       "Source                 -0.041733  0.077215  \n",
       "Destination             0.054750 -0.175534  \n",
       "Route                   0.018228  0.255378  \n",
       "Dep_Time               -0.056142  0.001756  \n",
       "Arrival_Time            0.019897  0.040803  \n",
       "Duration                0.076945 -0.170010  \n",
       "Total_Stops             0.162907 -0.621744  \n",
       "Additional_Info         1.000000 -0.038248  \n",
       "Price                  -0.038248  1.000000  "
      ]
     },
     "execution_count": 430,
     "metadata": {},
     "output_type": "execute_result"
    }
   ],
   "source": [
    "train.corr()"
   ]
  },
  {
   "cell_type": "markdown",
   "id": "48e63033",
   "metadata": {},
   "source": [
    "correlation of input with target variable Price"
   ]
  },
  {
   "cell_type": "code",
   "execution_count": 431,
   "id": "2b1989c5",
   "metadata": {},
   "outputs": [
    {
     "data": {
      "text/plain": [
       "<AxesSubplot:>"
      ]
     },
     "execution_count": 431,
     "metadata": {},
     "output_type": "execute_result"
    },
    {
     "data": {
      "image/png": "[encoded data removed]",
      "text/plain": [
       "<Figure size 720x504 with 2 Axes>"
      ]
     },
     "metadata": {
      "needs_background": "light"
     },
     "output_type": "display_data"
    }
   ],
   "source": [
    "plt.figure(figsize=(10,7))\n",
    "sns.heatmap(train.corr(),annot=True,linewidths=0.1,linecolor=\"Black\",fmt=\"0.2f\")"
   ]
  },
  {
   "cell_type": "markdown",
   "id": "66a65f54",
   "metadata": {},
   "source": [
    "Key Observation:\n",
    " 1. Price have positive correlation with Route and negative correlation with Total_Stops.\n",
    " 2. Route has positive correlation with Source and negative correlation with Total_Stops\n",
    " 3. Multicollinearity exist"
   ]
  },
  {
   "cell_type": "markdown",
   "id": "425e6bc3",
   "metadata": {},
   "source": [
    "## Separating Target and feature variables"
   ]
  },
  {
   "cell_type": "code",
   "execution_count": 432,
   "id": "2d7fd57b",
   "metadata": {},
   "outputs": [],
   "source": [
    "x= train.drop(\"Price\",axis=1)\n",
    "y= train[\"Price\"]\n"
   ]
  },
  {
   "cell_type": "markdown",
   "id": "044257a1",
   "metadata": {},
   "source": [
    "### Multicollinearity removal using VIF\n"
   ]
  },
  {
   "cell_type": "code",
   "execution_count": 433,
   "id": "3c3e0ef7",
   "metadata": {},
   "outputs": [],
   "source": [
    "# Importing library:\n",
    "from statsmodels.stats.outliers_influence import variance_inflation_factor"
   ]
  },
  {
   "cell_type": "code",
   "execution_count": 434,
   "id": "39cedd39",
   "metadata": {},
   "outputs": [],
   "source": [
    "def vif_calc():\n",
    "    vif=pd.DataFrame()\n",
    "    vif[\"VIF Factor\"]=[variance_inflation_factor(x.values,i) for i in range(x.shape[1])]\n",
    "    vif[\"features\"]=x.columns\n",
    "    print(vif)"
   ]
  },
  {
   "cell_type": "code",
   "execution_count": 435,
   "id": "8de0a33d",
   "metadata": {},
   "outputs": [
    {
     "name": "stdout",
     "output_type": "stream",
     "text": [
      "   VIF Factor         features\n",
      "0    3.671174          Airline\n",
      "1    5.111955  Date_of_Journey\n",
      "2    5.745781           Source\n",
      "3    3.050086      Destination\n",
      "4    7.995677            Route\n",
      "5    3.927396         Dep_Time\n",
      "6    0.464033     Arrival_Time\n",
      "7    4.437446         Duration\n",
      "8    2.390229      Total_Stops\n",
      "9   22.142154  Additional_Info\n"
     ]
    }
   ],
   "source": [
    "vif_calc()"
   ]
  },
  {
   "cell_type": "markdown",
   "id": "2cea0312",
   "metadata": {},
   "source": [
    "Only Additional_Info has higher skewness()"
   ]
  },
  {
   "cell_type": "markdown",
   "id": "62e2b725",
   "metadata": {},
   "source": [
    "## Data Cleaning:"
   ]
  },
  {
   "cell_type": "code",
   "execution_count": 436,
   "id": "58ba3c67",
   "metadata": {},
   "outputs": [
    {
     "data": {
      "text/html": [
       "<div>\n",
       "<style scoped>\n",
       "    .dataframe tbody tr th:only-of-type {\n",
       "        vertical-align: middle;\n",
       "    }\n",
       "\n",
       "    .dataframe tbody tr th {\n",
       "        vertical-align: top;\n",
       "    }\n",
       "\n",
       "    .dataframe thead th {\n",
       "        text-align: right;\n",
       "    }\n",
       "</style>\n",
       "<table border=\"1\" class=\"dataframe\">\n",
       "  <thead>\n",
       "    <tr style=\"text-align: right;\">\n",
       "      <th></th>\n",
       "      <th>Airline</th>\n",
       "      <th>Date_of_Journey</th>\n",
       "      <th>Source</th>\n",
       "      <th>Destination</th>\n",
       "      <th>Dep_Time</th>\n",
       "      <th>Arrival_Time</th>\n",
       "      <th>Duration</th>\n",
       "      <th>Total_Stops</th>\n",
       "    </tr>\n",
       "  </thead>\n",
       "  <tbody>\n",
       "    <tr>\n",
       "      <th>0</th>\n",
       "      <td>3</td>\n",
       "      <td>24</td>\n",
       "      <td>0</td>\n",
       "      <td>5</td>\n",
       "      <td>211</td>\n",
       "      <td>233</td>\n",
       "      <td>240</td>\n",
       "      <td>4</td>\n",
       "    </tr>\n",
       "    <tr>\n",
       "      <th>1</th>\n",
       "      <td>1</td>\n",
       "      <td>6</td>\n",
       "      <td>3</td>\n",
       "      <td>0</td>\n",
       "      <td>31</td>\n",
       "      <td>906</td>\n",
       "      <td>336</td>\n",
       "      <td>1</td>\n",
       "    </tr>\n",
       "    <tr>\n",
       "      <th>2</th>\n",
       "      <td>4</td>\n",
       "      <td>43</td>\n",
       "      <td>2</td>\n",
       "      <td>1</td>\n",
       "      <td>70</td>\n",
       "      <td>413</td>\n",
       "      <td>106</td>\n",
       "      <td>1</td>\n",
       "    </tr>\n",
       "    <tr>\n",
       "      <th>3</th>\n",
       "      <td>3</td>\n",
       "      <td>10</td>\n",
       "      <td>3</td>\n",
       "      <td>0</td>\n",
       "      <td>164</td>\n",
       "      <td>1324</td>\n",
       "      <td>311</td>\n",
       "      <td>0</td>\n",
       "    </tr>\n",
       "    <tr>\n",
       "      <th>4</th>\n",
       "      <td>3</td>\n",
       "      <td>0</td>\n",
       "      <td>0</td>\n",
       "      <td>5</td>\n",
       "      <td>149</td>\n",
       "      <td>1237</td>\n",
       "      <td>303</td>\n",
       "      <td>0</td>\n",
       "    </tr>\n",
       "  </tbody>\n",
       "</table>\n",
       "</div>"
      ],
      "text/plain": [
       "   Airline  Date_of_Journey  Source  Destination  Dep_Time  Arrival_Time  \\\n",
       "0        3               24       0            5       211           233   \n",
       "1        1                6       3            0        31           906   \n",
       "2        4               43       2            1        70           413   \n",
       "3        3               10       3            0       164          1324   \n",
       "4        3                0       0            5       149          1237   \n",
       "\n",
       "   Duration  Total_Stops  \n",
       "0       240            4  \n",
       "1       336            1  \n",
       "2       106            1  \n",
       "3       311            0  \n",
       "4       303            0  "
      ]
     },
     "execution_count": 436,
     "metadata": {},
     "output_type": "execute_result"
    }
   ],
   "source": [
    "x.drop(['Additional_Info','Route'],axis=1,inplace=True)\n",
    "x.head()"
   ]
  },
  {
   "cell_type": "markdown",
   "id": "0ef607bd",
   "metadata": {},
   "source": [
    "Additional_Info dropped as its vif value is high."
   ]
  },
  {
   "cell_type": "markdown",
   "id": "5be53931",
   "metadata": {},
   "source": [
    "## Skewness: "
   ]
  },
  {
   "cell_type": "code",
   "execution_count": 437,
   "id": "d58cc993",
   "metadata": {},
   "outputs": [
    {
     "data": {
      "text/plain": [
       "Airline            0.731671\n",
       "Date_of_Journey   -0.061745\n",
       "Source            -0.439175\n",
       "Destination        1.269331\n",
       "Dep_Time           0.193999\n",
       "Arrival_Time      -0.608421\n",
       "Duration          -0.216167\n",
       "Total_Stops        0.618057\n",
       "dtype: float64"
      ]
     },
     "execution_count": 437,
     "metadata": {},
     "output_type": "execute_result"
    }
   ],
   "source": [
    "x.skew()"
   ]
  },
  {
   "cell_type": "markdown",
   "id": "a7c39df8",
   "metadata": {},
   "source": [
    "Taking range of skewness between +/- 0.5, all values are under control so no need to remove skewness."
   ]
  },
  {
   "cell_type": "code",
   "execution_count": 438,
   "id": "e218942c",
   "metadata": {},
   "outputs": [],
   "source": [
    "from sklearn.preprocessing import power_transform\n",
    "x=power_transform(x,method='yeo-johnson')"
   ]
  },
  {
   "cell_type": "code",
   "execution_count": 439,
   "id": "168e0aa4",
   "metadata": {},
   "outputs": [],
   "source": [
    "#converting ndarray to dataframe:\n",
    "x=pd.DataFrame(x)\n",
    "#x.skew()"
   ]
  },
  {
   "cell_type": "code",
   "execution_count": 440,
   "id": "f26b313e",
   "metadata": {},
   "outputs": [
    {
     "data": {
      "text/plain": [
       "0   -0.015559\n",
       "1   -0.214215\n",
       "2   -0.234461\n",
       "3    0.040873\n",
       "4   -0.150750\n",
       "5   -0.382585\n",
       "6   -0.391226\n",
       "7    0.316936\n",
       "dtype: float64"
      ]
     },
     "execution_count": 440,
     "metadata": {},
     "output_type": "execute_result"
    }
   ],
   "source": [
    "x.skew()"
   ]
  },
  {
   "cell_type": "markdown",
   "id": "db8d2533",
   "metadata": {},
   "source": [
    "skewness removed"
   ]
  },
  {
   "cell_type": "markdown",
   "id": "19fe23cb",
   "metadata": {},
   "source": [
    "# Scaling Data"
   ]
  },
  {
   "cell_type": "code",
   "execution_count": 441,
   "id": "a8145d41",
   "metadata": {},
   "outputs": [
    {
     "data": {
      "text/plain": [
       "array([[-0.2949382 ,  0.05882919, -1.61518992, ..., -1.79713824,\n",
       "         0.45947604,  1.28725538],\n",
       "       [-1.41828256, -1.51922563,  0.89696943, ...,  0.040615  ,\n",
       "         1.24240327,  0.34209003],\n",
       "       [ 0.14733965,  1.48832913, -0.02768761, ..., -1.38582843,\n",
       "        -0.74978597,  0.34209003],\n",
       "       ...,\n",
       "       [ 0.14733965,  0.45019765, -1.61518992, ..., -0.22054108,\n",
       "         0.79179844,  1.28725538],\n",
       "       [ 2.11609816, -2.20872491, -1.61518992, ...,  0.14473559,\n",
       "         0.44259671,  1.28725538],\n",
       "       [-1.41828256,  1.41646811, -0.02768761, ...,  0.77280053,\n",
       "         1.32917468,  0.34209003]])"
      ]
     },
     "execution_count": 441,
     "metadata": {},
     "output_type": "execute_result"
    }
   ],
   "source": [
    "# Train dataset\n",
    "from sklearn.preprocessing import StandardScaler\n",
    "sc = StandardScaler()\n",
    "x=sc.fit_transform(x)\n",
    "x"
   ]
  },
  {
   "cell_type": "markdown",
   "id": "cb035f0b",
   "metadata": {},
   "source": [
    "# Model Selection :\n",
    "\n",
    "## Linear Regression:"
   ]
  },
  {
   "cell_type": "code",
   "execution_count": 442,
   "id": "1cc1bc0f",
   "metadata": {},
   "outputs": [],
   "source": [
    "from sklearn.metrics import r2_score \n",
    "from sklearn.linear_model import LinearRegression\n",
    "lr=LinearRegression()\n",
    "from sklearn.metrics import mean_squared_error,mean_absolute_error\n",
    "from sklearn.metrics import accuracy_score\n",
    "from sklearn.model_selection import train_test_split\n",
    "\n",
    "import warnings\n",
    "warnings.filterwarnings('ignore')"
   ]
  },
  {
   "cell_type": "code",
   "execution_count": 443,
   "id": "72bef5b6",
   "metadata": {},
   "outputs": [
    {
     "name": "stdout",
     "output_type": "stream",
     "text": [
      "At random state 0,the training accuracy is:- 0.29919707159408937\n",
      "At random state 0,the testing accuracy is:- 0.2732548366809868\n",
      "\n",
      "\n",
      "At random state 1,the training accuracy is:- 0.29750572702730027\n",
      "At random state 1,the testing accuracy is:- 0.2791235037435871\n",
      "\n",
      "\n",
      "At random state 2,the training accuracy is:- 0.2942691105478352\n",
      "At random state 2,the testing accuracy is:- 0.29278543882456876\n",
      "\n",
      "\n",
      "At random state 3,the training accuracy is:- 0.29229310920130447\n",
      "At random state 3,the testing accuracy is:- 0.3001114568645725\n",
      "\n",
      "\n",
      "At random state 4,the training accuracy is:- 0.293939442442513\n",
      "At random state 4,the testing accuracy is:- 0.29386008509777806\n",
      "\n",
      "\n",
      "At random state 5,the training accuracy is:- 0.30088486463147723\n",
      "At random state 5,the testing accuracy is:- 0.26446190644267775\n",
      "\n",
      "\n",
      "At random state 6,the training accuracy is:- 0.2991769854535188\n",
      "At random state 6,the testing accuracy is:- 0.2728260971023927\n",
      "\n",
      "\n",
      "At random state 7,the training accuracy is:- 0.2966201046702297\n",
      "At random state 7,the testing accuracy is:- 0.28029201270337245\n",
      "\n",
      "\n",
      "At random state 8,the training accuracy is:- 0.2893432655152113\n",
      "At random state 8,the testing accuracy is:- 0.3113825631679794\n",
      "\n",
      "\n",
      "At random state 9,the training accuracy is:- 0.29246335074337715\n",
      "At random state 9,the testing accuracy is:- 0.29988766722283944\n",
      "\n",
      "\n",
      "At random state 10,the training accuracy is:- 0.29740058645160705\n",
      "At random state 10,the testing accuracy is:- 0.2788578210892625\n",
      "\n",
      "\n",
      "At random state 11,the training accuracy is:- 0.294157394650856\n",
      "At random state 11,the testing accuracy is:- 0.29321052707976036\n",
      "\n",
      "\n",
      "At random state 12,the training accuracy is:- 0.29452664741482815\n",
      "At random state 12,the testing accuracy is:- 0.2905839484551198\n",
      "\n",
      "\n",
      "At random state 13,the training accuracy is:- 0.29238638174447606\n",
      "At random state 13,the testing accuracy is:- 0.29968921453975383\n",
      "\n",
      "\n",
      "At random state 14,the training accuracy is:- 0.2940319822790095\n",
      "At random state 14,the testing accuracy is:- 0.2934260410315782\n",
      "\n",
      "\n",
      "At random state 15,the training accuracy is:- 0.2933219666085629\n",
      "At random state 15,the testing accuracy is:- 0.29590138427299495\n",
      "\n",
      "\n",
      "At random state 16,the training accuracy is:- 0.29275673336713215\n",
      "At random state 16,the testing accuracy is:- 0.29776646169363785\n",
      "\n",
      "\n",
      "At random state 17,the training accuracy is:- 0.29760593901363774\n",
      "At random state 17,the testing accuracy is:- 0.2788637634695764\n",
      "\n",
      "\n",
      "At random state 18,the training accuracy is:- 0.2957569408993359\n",
      "At random state 18,the testing accuracy is:- 0.286698748474309\n",
      "\n",
      "\n",
      "At random state 19,the training accuracy is:- 0.2947819609389246\n",
      "At random state 19,the testing accuracy is:- 0.2901184945741905\n",
      "\n",
      "\n",
      "At random state 20,the training accuracy is:- 0.290524950045871\n",
      "At random state 20,the testing accuracy is:- 0.3073460835376546\n",
      "\n",
      "\n",
      "At random state 21,the training accuracy is:- 0.29875705825860743\n",
      "At random state 21,the testing accuracy is:- 0.27510567373524974\n",
      "\n",
      "\n",
      "At random state 22,the training accuracy is:- 0.29292467599063055\n",
      "At random state 22,the testing accuracy is:- 0.2977599019594247\n",
      "\n",
      "\n",
      "At random state 23,the training accuracy is:- 0.2902262920619224\n",
      "At random state 23,the testing accuracy is:- 0.3083637837073875\n",
      "\n",
      "\n",
      "At random state 24,the training accuracy is:- 0.29770521641405856\n",
      "At random state 24,the testing accuracy is:- 0.2779220976954555\n",
      "\n",
      "\n",
      "At random state 25,the training accuracy is:- 0.29520705963351157\n",
      "At random state 25,the testing accuracy is:- 0.28866094253928454\n",
      "\n",
      "\n",
      "At random state 26,the training accuracy is:- 0.2952507711474577\n",
      "At random state 26,the testing accuracy is:- 0.288173792028213\n",
      "\n",
      "\n",
      "At random state 27,the training accuracy is:- 0.2922856264420405\n",
      "At random state 27,the testing accuracy is:- 0.3001002862322554\n",
      "\n",
      "\n",
      "At random state 28,the training accuracy is:- 0.30096874321184974\n",
      "At random state 28,the testing accuracy is:- 0.2654957348191618\n",
      "\n",
      "\n",
      "At random state 29,the training accuracy is:- 0.30136783357888286\n",
      "At random state 29,the testing accuracy is:- 0.26309890238970535\n",
      "\n",
      "\n",
      "At random state 30,the training accuracy is:- 0.29949979789341774\n",
      "At random state 30,the testing accuracy is:- 0.27122349361111553\n",
      "\n",
      "\n",
      "At random state 31,the training accuracy is:- 0.2957614571229633\n",
      "At random state 31,the testing accuracy is:- 0.2866458718748891\n",
      "\n",
      "\n",
      "At random state 32,the training accuracy is:- 0.29009618155122263\n",
      "At random state 32,the testing accuracy is:- 0.30794519037580337\n",
      "\n",
      "\n",
      "At random state 33,the training accuracy is:- 0.2959511555318203\n",
      "At random state 33,the testing accuracy is:- 0.28290748860338877\n",
      "\n",
      "\n",
      "At random state 34,the training accuracy is:- 0.2889767121663629\n",
      "At random state 34,the testing accuracy is:- 0.3132808273893001\n",
      "\n",
      "\n",
      "At random state 35,the training accuracy is:- 0.29201182386614144\n",
      "At random state 35,the testing accuracy is:- 0.3008782888518964\n",
      "\n",
      "\n",
      "At random state 36,the training accuracy is:- 0.287697390881419\n",
      "At random state 36,the testing accuracy is:- 0.3191015888671417\n",
      "\n",
      "\n",
      "At random state 37,the training accuracy is:- 0.300135086346914\n",
      "At random state 37,the testing accuracy is:- 0.26864135341465323\n",
      "\n",
      "\n",
      "At random state 38,the training accuracy is:- 0.29372337236282076\n",
      "At random state 38,the testing accuracy is:- 0.2938482622006503\n",
      "\n",
      "\n",
      "At random state 39,the training accuracy is:- 0.29742802235740595\n",
      "At random state 39,the testing accuracy is:- 0.27977358817005094\n",
      "\n",
      "\n",
      "At random state 40,the training accuracy is:- 0.29811899441664524\n",
      "At random state 40,the testing accuracy is:- 0.2760090667543924\n",
      "\n",
      "\n",
      "At random state 41,the training accuracy is:- 0.29014192659276294\n",
      "At random state 41,the testing accuracy is:- 0.30826596147793284\n",
      "\n",
      "\n",
      "At random state 42,the training accuracy is:- 0.2951500393018621\n",
      "At random state 42,the testing accuracy is:- 0.288812552129875\n",
      "\n",
      "\n",
      "At random state 43,the training accuracy is:- 0.2880920285064853\n",
      "At random state 43,the testing accuracy is:- 0.3169818043006358\n",
      "\n",
      "\n",
      "At random state 44,the training accuracy is:- 0.2925049596947169\n",
      "At random state 44,the testing accuracy is:- 0.29939004137205705\n",
      "\n",
      "\n",
      "At random state 45,the training accuracy is:- 0.30303201926439494\n",
      "At random state 45,the testing accuracy is:- 0.2574009865685961\n",
      "\n",
      "\n",
      "At random state 46,the training accuracy is:- 0.29568058376095163\n",
      "At random state 46,the testing accuracy is:- 0.28639352215812297\n",
      "\n",
      "\n",
      "At random state 47,the training accuracy is:- 0.29242536937263475\n",
      "At random state 47,the testing accuracy is:- 0.2998804624657254\n",
      "\n",
      "\n",
      "At random state 48,the training accuracy is:- 0.29208353308341095\n",
      "At random state 48,the testing accuracy is:- 0.30071188880748156\n",
      "\n",
      "\n",
      "At random state 49,the training accuracy is:- 0.2915633706828109\n",
      "At random state 49,the testing accuracy is:- 0.3037216813629804\n",
      "\n",
      "\n",
      "At random state 50,the training accuracy is:- 0.29769399160014753\n",
      "At random state 50,the testing accuracy is:- 0.27858995068132864\n",
      "\n",
      "\n",
      "At random state 51,the training accuracy is:- 0.28868069701732135\n",
      "At random state 51,the testing accuracy is:- 0.31364229280678246\n",
      "\n",
      "\n",
      "At random state 52,the training accuracy is:- 0.30063406280150073\n",
      "At random state 52,the testing accuracy is:- 0.2650335806963907\n",
      "\n",
      "\n",
      "At random state 53,the training accuracy is:- 0.29837705237970946\n",
      "At random state 53,the testing accuracy is:- 0.2750282543389114\n",
      "\n",
      "\n",
      "At random state 54,the training accuracy is:- 0.2941817389848843\n",
      "At random state 54,the testing accuracy is:- 0.29265499454643884\n",
      "\n",
      "\n",
      "At random state 55,the training accuracy is:- 0.29580954540824744\n",
      "At random state 55,the testing accuracy is:- 0.28382597493770656\n",
      "\n",
      "\n",
      "At random state 56,the training accuracy is:- 0.29896711055489555\n",
      "At random state 56,the testing accuracy is:- 0.2738565976840238\n",
      "\n",
      "\n",
      "At random state 57,the training accuracy is:- 0.2934658444196011\n",
      "At random state 57,the testing accuracy is:- 0.29550931750057674\n",
      "\n",
      "\n",
      "At random state 58,the training accuracy is:- 0.28973471416429275\n",
      "At random state 58,the testing accuracy is:- 0.3102632309264204\n",
      "\n",
      "\n",
      "At random state 59,the training accuracy is:- 0.2888497902155267\n",
      "At random state 59,the testing accuracy is:- 0.3136788623982556\n",
      "\n",
      "\n",
      "At random state 60,the training accuracy is:- 0.295588800821608\n",
      "At random state 60,the testing accuracy is:- 0.2872044686823857\n",
      "\n",
      "\n",
      "At random state 61,the training accuracy is:- 0.29448004389460347\n",
      "At random state 61,the testing accuracy is:- 0.2909666623650027\n",
      "\n",
      "\n",
      "At random state 62,the training accuracy is:- 0.2919708367870666\n",
      "At random state 62,the testing accuracy is:- 0.30148487673325663\n",
      "\n",
      "\n",
      "At random state 63,the training accuracy is:- 0.29306953590551976\n",
      "At random state 63,the testing accuracy is:- 0.2972988865994861\n",
      "\n",
      "\n",
      "At random state 64,the training accuracy is:- 0.29130378399892165\n",
      "At random state 64,the testing accuracy is:- 0.30395652868830125\n",
      "\n",
      "\n",
      "At random state 65,the training accuracy is:- 0.2978270942027199\n",
      "At random state 65,the testing accuracy is:- 0.27723234419499\n",
      "\n",
      "\n",
      "At random state 66,the training accuracy is:- 0.291957179855043\n",
      "At random state 66,the testing accuracy is:- 0.3009972363658854\n",
      "\n",
      "\n",
      "At random state 67,the training accuracy is:- 0.295946982783157\n",
      "At random state 67,the testing accuracy is:- 0.28542616925705633\n",
      "\n",
      "\n",
      "At random state 68,the training accuracy is:- 0.29317104137653305\n",
      "At random state 68,the testing accuracy is:- 0.2961641100814544\n",
      "\n",
      "\n",
      "At random state 69,the training accuracy is:- 0.2861759356161815\n",
      "At random state 69,the testing accuracy is:- 0.3249536607213307\n",
      "\n",
      "\n",
      "At random state 70,the training accuracy is:- 0.29557764872663583\n"
     ]
    },
    {
     "name": "stdout",
     "output_type": "stream",
     "text": [
      "At random state 70,the testing accuracy is:- 0.2872441384991785\n",
      "\n",
      "\n",
      "At random state 71,the training accuracy is:- 0.29299871654953913\n",
      "At random state 71,the testing accuracy is:- 0.29708180541389007\n",
      "\n",
      "\n",
      "At random state 72,the training accuracy is:- 0.2948049892459481\n",
      "At random state 72,the testing accuracy is:- 0.2902758207809655\n",
      "\n",
      "\n",
      "At random state 73,the training accuracy is:- 0.28926653218562615\n",
      "At random state 73,the testing accuracy is:- 0.31187097667480534\n",
      "\n",
      "\n",
      "At random state 74,the training accuracy is:- 0.284462474550478\n",
      "At random state 74,the testing accuracy is:- 0.33202518394633895\n",
      "\n",
      "\n",
      "At random state 75,the training accuracy is:- 0.296174621963336\n",
      "At random state 75,the testing accuracy is:- 0.2834733939723002\n",
      "\n",
      "\n",
      "At random state 76,the training accuracy is:- 0.2946457707526605\n",
      "At random state 76,the testing accuracy is:- 0.2898308287504199\n",
      "\n",
      "\n",
      "At random state 77,the training accuracy is:- 0.2991862378922774\n",
      "At random state 77,the testing accuracy is:- 0.2711447900352896\n",
      "\n",
      "\n",
      "At random state 78,the training accuracy is:- 0.2896927446262384\n",
      "At random state 78,the testing accuracy is:- 0.3107642251655256\n",
      "\n",
      "\n",
      "At random state 79,the training accuracy is:- 0.29568985616896826\n",
      "At random state 79,the testing accuracy is:- 0.2846952467614826\n",
      "\n",
      "\n",
      "At random state 80,the training accuracy is:- 0.29007977570341126\n",
      "At random state 80,the testing accuracy is:- 0.3093641117537258\n",
      "\n",
      "\n",
      "At random state 81,the training accuracy is:- 0.29482976865747335\n",
      "At random state 81,the testing accuracy is:- 0.28915502874316745\n",
      "\n",
      "\n",
      "At random state 82,the training accuracy is:- 0.2954648143562061\n",
      "At random state 82,the testing accuracy is:- 0.2875601988168508\n",
      "\n",
      "\n",
      "At random state 83,the training accuracy is:- 0.29637472299738266\n",
      "At random state 83,the testing accuracy is:- 0.28311918211521936\n",
      "\n",
      "\n",
      "At random state 84,the training accuracy is:- 0.2943094643867953\n",
      "At random state 84,the testing accuracy is:- 0.29241540128123267\n",
      "\n",
      "\n",
      "At random state 85,the training accuracy is:- 0.29418844000035616\n",
      "At random state 85,the testing accuracy is:- 0.2925034237164188\n",
      "\n",
      "\n",
      "At random state 86,the training accuracy is:- 0.28988526132323167\n",
      "At random state 86,the testing accuracy is:- 0.308281078380903\n",
      "\n",
      "\n",
      "At random state 87,the training accuracy is:- 0.2943045659167912\n",
      "At random state 87,the testing accuracy is:- 0.29175344571801554\n",
      "\n",
      "\n",
      "At random state 88,the training accuracy is:- 0.29669813380871235\n",
      "At random state 88,the testing accuracy is:- 0.2810874729131555\n",
      "\n",
      "\n",
      "At random state 89,the training accuracy is:- 0.2962238710891699\n",
      "At random state 89,the testing accuracy is:- 0.28468357655359466\n",
      "\n",
      "\n",
      "At random state 90,the training accuracy is:- 0.2927352001653213\n",
      "At random state 90,the testing accuracy is:- 0.2963306806867788\n",
      "\n",
      "\n",
      "At random state 91,the training accuracy is:- 0.29244632644969026\n",
      "At random state 91,the testing accuracy is:- 0.2996251620392607\n",
      "\n",
      "\n",
      "At random state 92,the training accuracy is:- 0.2955170864714346\n",
      "At random state 92,the testing accuracy is:- 0.2868147314069558\n",
      "\n",
      "\n",
      "At random state 93,the training accuracy is:- 0.29944432641486785\n",
      "At random state 93,the testing accuracy is:- 0.2700242467068972\n",
      "\n",
      "\n",
      "At random state 94,the training accuracy is:- 0.29297850103980083\n",
      "At random state 94,the testing accuracy is:- 0.2965785935402063\n",
      "\n",
      "\n",
      "At random state 95,the training accuracy is:- 0.2895758158017915\n",
      "At random state 95,the testing accuracy is:- 0.3110322796476449\n",
      "\n",
      "\n",
      "At random state 96,the training accuracy is:- 0.299884702466521\n",
      "At random state 96,the testing accuracy is:- 0.2685791955757598\n",
      "\n",
      "\n",
      "At random state 97,the training accuracy is:- 0.29645974986104073\n",
      "At random state 97,the testing accuracy is:- 0.2834858678766926\n",
      "\n",
      "\n",
      "At random state 98,the training accuracy is:- 0.29912733894718246\n",
      "At random state 98,the testing accuracy is:- 0.27320313954931774\n",
      "\n",
      "\n",
      "At random state 99,the training accuracy is:- 0.2909477156095518\n",
      "At random state 99,the testing accuracy is:- 0.3052749198422047\n",
      "\n",
      "\n"
     ]
    }
   ],
   "source": [
    "for i in range(0,100):\n",
    "    train_x,test_x,train_y,test_y=train_test_split(x,y,test_size=0.2,random_state=i)\n",
    "    lr.fit(train_x,train_y)\n",
    "    pred_train=lr.predict(train_x)\n",
    "    pred_test=lr.predict(test_x)\n",
    "    print(f\"At random state {i},the training accuracy is:- {r2_score(train_y,pred_train)}\")\n",
    "    print(f\"At random state {i},the testing accuracy is:- {r2_score(test_y,pred_test)}\")\n",
    "    print(\"\\n\")"
   ]
  },
  {
   "cell_type": "code",
   "execution_count": 444,
   "id": "72282b49",
   "metadata": {},
   "outputs": [
    {
     "data": {
      "text/plain": [
       "0.3052749198422047"
      ]
     },
     "execution_count": 444,
     "metadata": {},
     "output_type": "execute_result"
    }
   ],
   "source": [
    "lr.fit(train_x,train_y)\n",
    "lr.score(test_x,test_y)"
   ]
  },
  {
   "cell_type": "markdown",
   "id": "3ffbe0bd",
   "metadata": {},
   "source": [
    "30% is Linear regression score"
   ]
  },
  {
   "cell_type": "code",
   "execution_count": 445,
   "id": "d22b3647",
   "metadata": {},
   "outputs": [
    {
     "data": {
      "text/plain": [
       "array([10847.32850043,  8326.66601145,  8600.96091998, ...,\n",
       "        5476.94388272,  5918.93158282,  8424.89262039])"
      ]
     },
     "execution_count": 445,
     "metadata": {},
     "output_type": "execute_result"
    }
   ],
   "source": [
    "#Predicted data\n",
    "pred=lr.predict(test_x)\n",
    "pred"
   ]
  },
  {
   "cell_type": "code",
   "execution_count": 446,
   "id": "66195b14",
   "metadata": {},
   "outputs": [
    {
     "name": "stdout",
     "output_type": "stream",
     "text": [
      "Mean squared error: 11800917.76598578\n",
      "Mean absolute error: 2799.1601260756047\n",
      "R2Score: 0.3052749198422047\n"
     ]
    }
   ],
   "source": [
    "print(\"Mean squared error:\",mean_squared_error(test_y,pred))\n",
    "print(\"Mean absolute error:\",mean_absolute_error(test_y,pred))\n",
    "print(\"R2Score:\",r2_score(test_y,pred))"
   ]
  },
  {
   "cell_type": "markdown",
   "id": "e2770cd9",
   "metadata": {},
   "source": [
    "R2Score = 30%"
   ]
  },
  {
   "cell_type": "markdown",
   "id": "0125ab88",
   "metadata": {},
   "source": [
    "### Cross-Validation of the model:"
   ]
  },
  {
   "cell_type": "code",
   "execution_count": 447,
   "id": "bb8025cb",
   "metadata": {},
   "outputs": [
    {
     "name": "stdout",
     "output_type": "stream",
     "text": [
      "At cross fold 2 the cv score is 0.29168238787117695 and accuracy score for training is 0.2909477156095518 and accuracy for the testing is 0.3052749198422047\n",
      "\n",
      "\n",
      "At cross fold 3 the cv score is 0.2922665927513784 and accuracy score for training is 0.2909477156095518 and accuracy for the testing is 0.3052749198422047\n",
      "\n",
      "\n",
      "At cross fold 4 the cv score is 0.2925148090258367 and accuracy score for training is 0.2909477156095518 and accuracy for the testing is 0.3052749198422047\n",
      "\n",
      "\n",
      "At cross fold 5 the cv score is 0.2919406281721674 and accuracy score for training is 0.2909477156095518 and accuracy for the testing is 0.3052749198422047\n",
      "\n",
      "\n",
      "At cross fold 6 the cv score is 0.291400820722682 and accuracy score for training is 0.2909477156095518 and accuracy for the testing is 0.3052749198422047\n",
      "\n",
      "\n",
      "At cross fold 7 the cv score is 0.2916328209579794 and accuracy score for training is 0.2909477156095518 and accuracy for the testing is 0.3052749198422047\n",
      "\n",
      "\n",
      "At cross fold 8 the cv score is 0.2923843344376408 and accuracy score for training is 0.2909477156095518 and accuracy for the testing is 0.3052749198422047\n",
      "\n",
      "\n",
      "At cross fold 9 the cv score is 0.2920857072159498 and accuracy score for training is 0.2909477156095518 and accuracy for the testing is 0.3052749198422047\n",
      "\n",
      "\n"
     ]
    }
   ],
   "source": [
    "Train_accuracy=r2_score(train_y,pred_train)\n",
    "Test_accuracy=r2_score(test_y,pred_test)\n",
    "\n",
    "from sklearn.model_selection import cross_val_score\n",
    "for j in range(2,10):\n",
    "    cv_score=cross_val_score(lr,x,y,cv=j)\n",
    "    cv_mean=cv_score.mean()\n",
    "    print(f\"At cross fold {j} the cv score is {cv_mean} and accuracy score for training is {Train_accuracy} and accuracy for the testing is {Test_accuracy}\")\n",
    "    print(\"\\n\")"
   ]
  },
  {
   "cell_type": "markdown",
   "id": "1a4579a3",
   "metadata": {},
   "source": [
    "cv score calculated"
   ]
  },
  {
   "cell_type": "code",
   "execution_count": 448,
   "id": "d7dbdb70",
   "metadata": {},
   "outputs": [
    {
     "data": {
      "image/png": "[encoded data removed]",
      "text/plain": [
       "<Figure size 576x432 with 1 Axes>"
      ]
     },
     "metadata": {
      "needs_background": "light"
     },
     "output_type": "display_data"
    }
   ],
   "source": [
    "import matplotlib.pyplot as plt\n",
    "plt.figure(figsize=(8,6))\n",
    "plt.scatter(x=test_y, y=pred_test, color='r')\n",
    "plt.plot(test_y,test_y, color='b')\n",
    "plt.xlabel('Actual data',fontsize=14)\n",
    "plt.ylabel('Predicted data',fontsize=14)\n",
    "plt.title('Linear Regression',fontsize=18)\n",
    "plt.show()"
   ]
  },
  {
   "cell_type": "markdown",
   "id": "c992ef5e",
   "metadata": {},
   "source": [
    "Plotting of Predicted and actual data"
   ]
  },
  {
   "cell_type": "markdown",
   "id": "d524c176",
   "metadata": {},
   "source": [
    "### Regularization"
   ]
  },
  {
   "cell_type": "code",
   "execution_count": 449,
   "id": "3914eee9",
   "metadata": {},
   "outputs": [],
   "source": [
    "# Importing Libraries and Hyper parameter tuning:\n",
    "from sklearn.model_selection import GridSearchCV\n",
    "from sklearn.model_selection import cross_val_score\n",
    "import warnings\n",
    "warnings.filterwarnings('ignore')"
   ]
  },
  {
   "cell_type": "code",
   "execution_count": 450,
   "id": "eb8afdc9",
   "metadata": {},
   "outputs": [
    {
     "name": "stdout",
     "output_type": "stream",
     "text": [
      "{'alpha': 1, 'random_state': 0}\n"
     ]
    }
   ],
   "source": [
    "from sklearn.linear_model import Lasso\n",
    "\n",
    "parameters = {'alpha':[.0001, .001, .01, .1, 1,10],'random_state':list(range(0,10))}\n",
    "ls = Lasso()\n",
    "clf = GridSearchCV(ls,parameters)\n",
    "clf.fit(train_x,train_y)\n",
    "\n",
    "print(clf.best_params_)"
   ]
  },
  {
   "cell_type": "markdown",
   "id": "6b20c659",
   "metadata": {},
   "source": [
    "Best parameters for Linear Regression"
   ]
  },
  {
   "cell_type": "code",
   "execution_count": 451,
   "id": "0cc17550",
   "metadata": {},
   "outputs": [
    {
     "name": "stdout",
     "output_type": "stream",
     "text": [
      "ls score 0.29094704120729964\n",
      "r2 score 30.526019268653236\n"
     ]
    }
   ],
   "source": [
    "ls = Lasso(alpha=1,random_state=0)\n",
    "ls.fit(train_x,train_y)\n",
    "ls.score(train_x,train_y)\n",
    "print('ls score',ls.score(train_x,train_y))\n",
    "pred_ls = ls.predict(test_x)\n",
    "\n",
    "r2s = r2_score(test_y,pred_ls)\n",
    "print('r2 score',r2s*100)"
   ]
  },
  {
   "cell_type": "markdown",
   "id": "900ee3aa",
   "metadata": {},
   "source": [
    "Ls score is 29% and r2score is 30.5%"
   ]
  },
  {
   "cell_type": "code",
   "execution_count": 452,
   "id": "e0695252",
   "metadata": {},
   "outputs": [
    {
     "data": {
      "text/plain": [
       "0.2919504057770228"
      ]
     },
     "execution_count": 452,
     "metadata": {},
     "output_type": "execute_result"
    }
   ],
   "source": [
    "cv_score=cross_val_score(ls,x,y,cv=5)\n",
    "cv_mean=cv_score.mean()\n",
    "cv_mean"
   ]
  },
  {
   "cell_type": "markdown",
   "id": "26bf2ff8",
   "metadata": {},
   "source": [
    "cv score is 29%"
   ]
  },
  {
   "cell_type": "markdown",
   "id": "c0b645f8",
   "metadata": {},
   "source": [
    "## 1. Random Forest Regressor\n"
   ]
  },
  {
   "cell_type": "code",
   "execution_count": 453,
   "id": "0faa0e21",
   "metadata": {},
   "outputs": [
    {
     "ename": "KeyboardInterrupt",
     "evalue": "",
     "output_type": "error",
     "traceback": [
      "\u001b[1;31m---------------------------------------------------------------------------\u001b[0m",
      "\u001b[1;31mKeyboardInterrupt\u001b[0m                         Traceback (most recent call last)",
      "\u001b[1;32m<ipython-input-453-2f1e368bf657>\u001b[0m in \u001b[0;36m<module>\u001b[1;34m\u001b[0m\n\u001b[0;32m      6\u001b[0m \u001b[0mrf\u001b[0m \u001b[1;33m=\u001b[0m\u001b[0mRandomForestRegressor\u001b[0m\u001b[1;33m(\u001b[0m\u001b[1;33m)\u001b[0m\u001b[1;33m\u001b[0m\u001b[1;33m\u001b[0m\u001b[0m\n\u001b[0;32m      7\u001b[0m \u001b[0mclf\u001b[0m \u001b[1;33m=\u001b[0m \u001b[0mGridSearchCV\u001b[0m\u001b[1;33m(\u001b[0m\u001b[0mrf\u001b[0m\u001b[1;33m,\u001b[0m\u001b[0mparameters\u001b[0m\u001b[1;33m)\u001b[0m\u001b[1;33m\u001b[0m\u001b[1;33m\u001b[0m\u001b[0m\n\u001b[1;32m----> 8\u001b[1;33m \u001b[0mclf\u001b[0m\u001b[1;33m.\u001b[0m\u001b[0mfit\u001b[0m\u001b[1;33m(\u001b[0m\u001b[0mtrain_x\u001b[0m\u001b[1;33m,\u001b[0m\u001b[0mtrain_y\u001b[0m\u001b[1;33m)\u001b[0m\u001b[1;33m\u001b[0m\u001b[1;33m\u001b[0m\u001b[0m\n\u001b[0m\u001b[0;32m      9\u001b[0m \u001b[1;33m\u001b[0m\u001b[0m\n\u001b[0;32m     10\u001b[0m \u001b[0mprint\u001b[0m\u001b[1;33m(\u001b[0m\u001b[0mclf\u001b[0m\u001b[1;33m.\u001b[0m\u001b[0mbest_params_\u001b[0m\u001b[1;33m)\u001b[0m\u001b[1;33m\u001b[0m\u001b[1;33m\u001b[0m\u001b[0m\n",
      "\u001b[1;32mD:\\Anaconda\\lib\\site-packages\\sklearn\\utils\\validation.py\u001b[0m in \u001b[0;36minner_f\u001b[1;34m(*args, **kwargs)\u001b[0m\n\u001b[0;32m     61\u001b[0m             \u001b[0mextra_args\u001b[0m \u001b[1;33m=\u001b[0m \u001b[0mlen\u001b[0m\u001b[1;33m(\u001b[0m\u001b[0margs\u001b[0m\u001b[1;33m)\u001b[0m \u001b[1;33m-\u001b[0m \u001b[0mlen\u001b[0m\u001b[1;33m(\u001b[0m\u001b[0mall_args\u001b[0m\u001b[1;33m)\u001b[0m\u001b[1;33m\u001b[0m\u001b[1;33m\u001b[0m\u001b[0m\n\u001b[0;32m     62\u001b[0m             \u001b[1;32mif\u001b[0m \u001b[0mextra_args\u001b[0m \u001b[1;33m<=\u001b[0m \u001b[1;36m0\u001b[0m\u001b[1;33m:\u001b[0m\u001b[1;33m\u001b[0m\u001b[1;33m\u001b[0m\u001b[0m\n\u001b[1;32m---> 63\u001b[1;33m                 \u001b[1;32mreturn\u001b[0m \u001b[0mf\u001b[0m\u001b[1;33m(\u001b[0m\u001b[1;33m*\u001b[0m\u001b[0margs\u001b[0m\u001b[1;33m,\u001b[0m \u001b[1;33m**\u001b[0m\u001b[0mkwargs\u001b[0m\u001b[1;33m)\u001b[0m\u001b[1;33m\u001b[0m\u001b[1;33m\u001b[0m\u001b[0m\n\u001b[0m\u001b[0;32m     64\u001b[0m \u001b[1;33m\u001b[0m\u001b[0m\n\u001b[0;32m     65\u001b[0m             \u001b[1;31m# extra_args > 0\u001b[0m\u001b[1;33m\u001b[0m\u001b[1;33m\u001b[0m\u001b[1;33m\u001b[0m\u001b[0m\n",
      "\u001b[1;32mD:\\Anaconda\\lib\\site-packages\\sklearn\\model_selection\\_search.py\u001b[0m in \u001b[0;36mfit\u001b[1;34m(self, X, y, groups, **fit_params)\u001b[0m\n\u001b[0;32m    839\u001b[0m                 \u001b[1;32mreturn\u001b[0m \u001b[0mresults\u001b[0m\u001b[1;33m\u001b[0m\u001b[1;33m\u001b[0m\u001b[0m\n\u001b[0;32m    840\u001b[0m \u001b[1;33m\u001b[0m\u001b[0m\n\u001b[1;32m--> 841\u001b[1;33m             \u001b[0mself\u001b[0m\u001b[1;33m.\u001b[0m\u001b[0m_run_search\u001b[0m\u001b[1;33m(\u001b[0m\u001b[0mevaluate_candidates\u001b[0m\u001b[1;33m)\u001b[0m\u001b[1;33m\u001b[0m\u001b[1;33m\u001b[0m\u001b[0m\n\u001b[0m\u001b[0;32m    842\u001b[0m \u001b[1;33m\u001b[0m\u001b[0m\n\u001b[0;32m    843\u001b[0m             \u001b[1;31m# multimetric is determined here because in the case of a callable\u001b[0m\u001b[1;33m\u001b[0m\u001b[1;33m\u001b[0m\u001b[1;33m\u001b[0m\u001b[0m\n",
      "\u001b[1;32mD:\\Anaconda\\lib\\site-packages\\sklearn\\model_selection\\_search.py\u001b[0m in \u001b[0;36m_run_search\u001b[1;34m(self, evaluate_candidates)\u001b[0m\n\u001b[0;32m   1286\u001b[0m     \u001b[1;32mdef\u001b[0m \u001b[0m_run_search\u001b[0m\u001b[1;33m(\u001b[0m\u001b[0mself\u001b[0m\u001b[1;33m,\u001b[0m \u001b[0mevaluate_candidates\u001b[0m\u001b[1;33m)\u001b[0m\u001b[1;33m:\u001b[0m\u001b[1;33m\u001b[0m\u001b[1;33m\u001b[0m\u001b[0m\n\u001b[0;32m   1287\u001b[0m         \u001b[1;34m\"\"\"Search all candidates in param_grid\"\"\"\u001b[0m\u001b[1;33m\u001b[0m\u001b[1;33m\u001b[0m\u001b[0m\n\u001b[1;32m-> 1288\u001b[1;33m         \u001b[0mevaluate_candidates\u001b[0m\u001b[1;33m(\u001b[0m\u001b[0mParameterGrid\u001b[0m\u001b[1;33m(\u001b[0m\u001b[0mself\u001b[0m\u001b[1;33m.\u001b[0m\u001b[0mparam_grid\u001b[0m\u001b[1;33m)\u001b[0m\u001b[1;33m)\u001b[0m\u001b[1;33m\u001b[0m\u001b[1;33m\u001b[0m\u001b[0m\n\u001b[0m\u001b[0;32m   1289\u001b[0m \u001b[1;33m\u001b[0m\u001b[0m\n\u001b[0;32m   1290\u001b[0m \u001b[1;33m\u001b[0m\u001b[0m\n",
      "\u001b[1;32mD:\\Anaconda\\lib\\site-packages\\sklearn\\model_selection\\_search.py\u001b[0m in \u001b[0;36mevaluate_candidates\u001b[1;34m(candidate_params, cv, more_results)\u001b[0m\n\u001b[0;32m    793\u001b[0m                               n_splits, n_candidates, n_candidates * n_splits))\n\u001b[0;32m    794\u001b[0m \u001b[1;33m\u001b[0m\u001b[0m\n\u001b[1;32m--> 795\u001b[1;33m                 out = parallel(delayed(_fit_and_score)(clone(base_estimator),\n\u001b[0m\u001b[0;32m    796\u001b[0m                                                        \u001b[0mX\u001b[0m\u001b[1;33m,\u001b[0m \u001b[0my\u001b[0m\u001b[1;33m,\u001b[0m\u001b[1;33m\u001b[0m\u001b[1;33m\u001b[0m\u001b[0m\n\u001b[0;32m    797\u001b[0m                                                        \u001b[0mtrain\u001b[0m\u001b[1;33m=\u001b[0m\u001b[0mtrain\u001b[0m\u001b[1;33m,\u001b[0m \u001b[0mtest\u001b[0m\u001b[1;33m=\u001b[0m\u001b[0mtest\u001b[0m\u001b[1;33m,\u001b[0m\u001b[1;33m\u001b[0m\u001b[1;33m\u001b[0m\u001b[0m\n",
      "\u001b[1;32mD:\\Anaconda\\lib\\site-packages\\joblib\\parallel.py\u001b[0m in \u001b[0;36m__call__\u001b[1;34m(self, iterable)\u001b[0m\n\u001b[0;32m   1042\u001b[0m                 \u001b[0mself\u001b[0m\u001b[1;33m.\u001b[0m\u001b[0m_iterating\u001b[0m \u001b[1;33m=\u001b[0m \u001b[0mself\u001b[0m\u001b[1;33m.\u001b[0m\u001b[0m_original_iterator\u001b[0m \u001b[1;32mis\u001b[0m \u001b[1;32mnot\u001b[0m \u001b[1;32mNone\u001b[0m\u001b[1;33m\u001b[0m\u001b[1;33m\u001b[0m\u001b[0m\n\u001b[0;32m   1043\u001b[0m \u001b[1;33m\u001b[0m\u001b[0m\n\u001b[1;32m-> 1044\u001b[1;33m             \u001b[1;32mwhile\u001b[0m \u001b[0mself\u001b[0m\u001b[1;33m.\u001b[0m\u001b[0mdispatch_one_batch\u001b[0m\u001b[1;33m(\u001b[0m\u001b[0miterator\u001b[0m\u001b[1;33m)\u001b[0m\u001b[1;33m:\u001b[0m\u001b[1;33m\u001b[0m\u001b[1;33m\u001b[0m\u001b[0m\n\u001b[0m\u001b[0;32m   1045\u001b[0m                 \u001b[1;32mpass\u001b[0m\u001b[1;33m\u001b[0m\u001b[1;33m\u001b[0m\u001b[0m\n\u001b[0;32m   1046\u001b[0m \u001b[1;33m\u001b[0m\u001b[0m\n",
      "\u001b[1;32mD:\\Anaconda\\lib\\site-packages\\joblib\\parallel.py\u001b[0m in \u001b[0;36mdispatch_one_batch\u001b[1;34m(self, iterator)\u001b[0m\n\u001b[0;32m    857\u001b[0m                 \u001b[1;32mreturn\u001b[0m \u001b[1;32mFalse\u001b[0m\u001b[1;33m\u001b[0m\u001b[1;33m\u001b[0m\u001b[0m\n\u001b[0;32m    858\u001b[0m             \u001b[1;32melse\u001b[0m\u001b[1;33m:\u001b[0m\u001b[1;33m\u001b[0m\u001b[1;33m\u001b[0m\u001b[0m\n\u001b[1;32m--> 859\u001b[1;33m                 \u001b[0mself\u001b[0m\u001b[1;33m.\u001b[0m\u001b[0m_dispatch\u001b[0m\u001b[1;33m(\u001b[0m\u001b[0mtasks\u001b[0m\u001b[1;33m)\u001b[0m\u001b[1;33m\u001b[0m\u001b[1;33m\u001b[0m\u001b[0m\n\u001b[0m\u001b[0;32m    860\u001b[0m                 \u001b[1;32mreturn\u001b[0m \u001b[1;32mTrue\u001b[0m\u001b[1;33m\u001b[0m\u001b[1;33m\u001b[0m\u001b[0m\n\u001b[0;32m    861\u001b[0m \u001b[1;33m\u001b[0m\u001b[0m\n",
      "\u001b[1;32mD:\\Anaconda\\lib\\site-packages\\joblib\\parallel.py\u001b[0m in \u001b[0;36m_dispatch\u001b[1;34m(self, batch)\u001b[0m\n\u001b[0;32m    775\u001b[0m         \u001b[1;32mwith\u001b[0m \u001b[0mself\u001b[0m\u001b[1;33m.\u001b[0m\u001b[0m_lock\u001b[0m\u001b[1;33m:\u001b[0m\u001b[1;33m\u001b[0m\u001b[1;33m\u001b[0m\u001b[0m\n\u001b[0;32m    776\u001b[0m             \u001b[0mjob_idx\u001b[0m \u001b[1;33m=\u001b[0m \u001b[0mlen\u001b[0m\u001b[1;33m(\u001b[0m\u001b[0mself\u001b[0m\u001b[1;33m.\u001b[0m\u001b[0m_jobs\u001b[0m\u001b[1;33m)\u001b[0m\u001b[1;33m\u001b[0m\u001b[1;33m\u001b[0m\u001b[0m\n\u001b[1;32m--> 777\u001b[1;33m             \u001b[0mjob\u001b[0m \u001b[1;33m=\u001b[0m \u001b[0mself\u001b[0m\u001b[1;33m.\u001b[0m\u001b[0m_backend\u001b[0m\u001b[1;33m.\u001b[0m\u001b[0mapply_async\u001b[0m\u001b[1;33m(\u001b[0m\u001b[0mbatch\u001b[0m\u001b[1;33m,\u001b[0m \u001b[0mcallback\u001b[0m\u001b[1;33m=\u001b[0m\u001b[0mcb\u001b[0m\u001b[1;33m)\u001b[0m\u001b[1;33m\u001b[0m\u001b[1;33m\u001b[0m\u001b[0m\n\u001b[0m\u001b[0;32m    778\u001b[0m             \u001b[1;31m# A job can complete so quickly than its callback is\u001b[0m\u001b[1;33m\u001b[0m\u001b[1;33m\u001b[0m\u001b[1;33m\u001b[0m\u001b[0m\n\u001b[0;32m    779\u001b[0m             \u001b[1;31m# called before we get here, causing self._jobs to\u001b[0m\u001b[1;33m\u001b[0m\u001b[1;33m\u001b[0m\u001b[1;33m\u001b[0m\u001b[0m\n",
      "\u001b[1;32mD:\\Anaconda\\lib\\site-packages\\joblib\\_parallel_backends.py\u001b[0m in \u001b[0;36mapply_async\u001b[1;34m(self, func, callback)\u001b[0m\n\u001b[0;32m    206\u001b[0m     \u001b[1;32mdef\u001b[0m \u001b[0mapply_async\u001b[0m\u001b[1;33m(\u001b[0m\u001b[0mself\u001b[0m\u001b[1;33m,\u001b[0m \u001b[0mfunc\u001b[0m\u001b[1;33m,\u001b[0m \u001b[0mcallback\u001b[0m\u001b[1;33m=\u001b[0m\u001b[1;32mNone\u001b[0m\u001b[1;33m)\u001b[0m\u001b[1;33m:\u001b[0m\u001b[1;33m\u001b[0m\u001b[1;33m\u001b[0m\u001b[0m\n\u001b[0;32m    207\u001b[0m         \u001b[1;34m\"\"\"Schedule a func to be run\"\"\"\u001b[0m\u001b[1;33m\u001b[0m\u001b[1;33m\u001b[0m\u001b[0m\n\u001b[1;32m--> 208\u001b[1;33m         \u001b[0mresult\u001b[0m \u001b[1;33m=\u001b[0m \u001b[0mImmediateResult\u001b[0m\u001b[1;33m(\u001b[0m\u001b[0mfunc\u001b[0m\u001b[1;33m)\u001b[0m\u001b[1;33m\u001b[0m\u001b[1;33m\u001b[0m\u001b[0m\n\u001b[0m\u001b[0;32m    209\u001b[0m         \u001b[1;32mif\u001b[0m \u001b[0mcallback\u001b[0m\u001b[1;33m:\u001b[0m\u001b[1;33m\u001b[0m\u001b[1;33m\u001b[0m\u001b[0m\n\u001b[0;32m    210\u001b[0m             \u001b[0mcallback\u001b[0m\u001b[1;33m(\u001b[0m\u001b[0mresult\u001b[0m\u001b[1;33m)\u001b[0m\u001b[1;33m\u001b[0m\u001b[1;33m\u001b[0m\u001b[0m\n",
      "\u001b[1;32mD:\\Anaconda\\lib\\site-packages\\joblib\\_parallel_backends.py\u001b[0m in \u001b[0;36m__init__\u001b[1;34m(self, batch)\u001b[0m\n\u001b[0;32m    570\u001b[0m         \u001b[1;31m# Don't delay the application, to avoid keeping the input\u001b[0m\u001b[1;33m\u001b[0m\u001b[1;33m\u001b[0m\u001b[1;33m\u001b[0m\u001b[0m\n\u001b[0;32m    571\u001b[0m         \u001b[1;31m# arguments in memory\u001b[0m\u001b[1;33m\u001b[0m\u001b[1;33m\u001b[0m\u001b[1;33m\u001b[0m\u001b[0m\n\u001b[1;32m--> 572\u001b[1;33m         \u001b[0mself\u001b[0m\u001b[1;33m.\u001b[0m\u001b[0mresults\u001b[0m \u001b[1;33m=\u001b[0m \u001b[0mbatch\u001b[0m\u001b[1;33m(\u001b[0m\u001b[1;33m)\u001b[0m\u001b[1;33m\u001b[0m\u001b[1;33m\u001b[0m\u001b[0m\n\u001b[0m\u001b[0;32m    573\u001b[0m \u001b[1;33m\u001b[0m\u001b[0m\n\u001b[0;32m    574\u001b[0m     \u001b[1;32mdef\u001b[0m \u001b[0mget\u001b[0m\u001b[1;33m(\u001b[0m\u001b[0mself\u001b[0m\u001b[1;33m)\u001b[0m\u001b[1;33m:\u001b[0m\u001b[1;33m\u001b[0m\u001b[1;33m\u001b[0m\u001b[0m\n",
      "\u001b[1;32mD:\\Anaconda\\lib\\site-packages\\joblib\\parallel.py\u001b[0m in \u001b[0;36m__call__\u001b[1;34m(self)\u001b[0m\n\u001b[0;32m    260\u001b[0m         \u001b[1;31m# change the default number of processes to -1\u001b[0m\u001b[1;33m\u001b[0m\u001b[1;33m\u001b[0m\u001b[1;33m\u001b[0m\u001b[0m\n\u001b[0;32m    261\u001b[0m         \u001b[1;32mwith\u001b[0m \u001b[0mparallel_backend\u001b[0m\u001b[1;33m(\u001b[0m\u001b[0mself\u001b[0m\u001b[1;33m.\u001b[0m\u001b[0m_backend\u001b[0m\u001b[1;33m,\u001b[0m \u001b[0mn_jobs\u001b[0m\u001b[1;33m=\u001b[0m\u001b[0mself\u001b[0m\u001b[1;33m.\u001b[0m\u001b[0m_n_jobs\u001b[0m\u001b[1;33m)\u001b[0m\u001b[1;33m:\u001b[0m\u001b[1;33m\u001b[0m\u001b[1;33m\u001b[0m\u001b[0m\n\u001b[1;32m--> 262\u001b[1;33m             return [func(*args, **kwargs)\n\u001b[0m\u001b[0;32m    263\u001b[0m                     for func, args, kwargs in self.items]\n\u001b[0;32m    264\u001b[0m \u001b[1;33m\u001b[0m\u001b[0m\n",
      "\u001b[1;32mD:\\Anaconda\\lib\\site-packages\\joblib\\parallel.py\u001b[0m in \u001b[0;36m<listcomp>\u001b[1;34m(.0)\u001b[0m\n\u001b[0;32m    260\u001b[0m         \u001b[1;31m# change the default number of processes to -1\u001b[0m\u001b[1;33m\u001b[0m\u001b[1;33m\u001b[0m\u001b[1;33m\u001b[0m\u001b[0m\n\u001b[0;32m    261\u001b[0m         \u001b[1;32mwith\u001b[0m \u001b[0mparallel_backend\u001b[0m\u001b[1;33m(\u001b[0m\u001b[0mself\u001b[0m\u001b[1;33m.\u001b[0m\u001b[0m_backend\u001b[0m\u001b[1;33m,\u001b[0m \u001b[0mn_jobs\u001b[0m\u001b[1;33m=\u001b[0m\u001b[0mself\u001b[0m\u001b[1;33m.\u001b[0m\u001b[0m_n_jobs\u001b[0m\u001b[1;33m)\u001b[0m\u001b[1;33m:\u001b[0m\u001b[1;33m\u001b[0m\u001b[1;33m\u001b[0m\u001b[0m\n\u001b[1;32m--> 262\u001b[1;33m             return [func(*args, **kwargs)\n\u001b[0m\u001b[0;32m    263\u001b[0m                     for func, args, kwargs in self.items]\n\u001b[0;32m    264\u001b[0m \u001b[1;33m\u001b[0m\u001b[0m\n",
      "\u001b[1;32mD:\\Anaconda\\lib\\site-packages\\sklearn\\utils\\fixes.py\u001b[0m in \u001b[0;36m__call__\u001b[1;34m(self, *args, **kwargs)\u001b[0m\n\u001b[0;32m    220\u001b[0m     \u001b[1;32mdef\u001b[0m \u001b[0m__call__\u001b[0m\u001b[1;33m(\u001b[0m\u001b[0mself\u001b[0m\u001b[1;33m,\u001b[0m \u001b[1;33m*\u001b[0m\u001b[0margs\u001b[0m\u001b[1;33m,\u001b[0m \u001b[1;33m**\u001b[0m\u001b[0mkwargs\u001b[0m\u001b[1;33m)\u001b[0m\u001b[1;33m:\u001b[0m\u001b[1;33m\u001b[0m\u001b[1;33m\u001b[0m\u001b[0m\n\u001b[0;32m    221\u001b[0m         \u001b[1;32mwith\u001b[0m \u001b[0mconfig_context\u001b[0m\u001b[1;33m(\u001b[0m\u001b[1;33m**\u001b[0m\u001b[0mself\u001b[0m\u001b[1;33m.\u001b[0m\u001b[0mconfig\u001b[0m\u001b[1;33m)\u001b[0m\u001b[1;33m:\u001b[0m\u001b[1;33m\u001b[0m\u001b[1;33m\u001b[0m\u001b[0m\n\u001b[1;32m--> 222\u001b[1;33m             \u001b[1;32mreturn\u001b[0m \u001b[0mself\u001b[0m\u001b[1;33m.\u001b[0m\u001b[0mfunction\u001b[0m\u001b[1;33m(\u001b[0m\u001b[1;33m*\u001b[0m\u001b[0margs\u001b[0m\u001b[1;33m,\u001b[0m \u001b[1;33m**\u001b[0m\u001b[0mkwargs\u001b[0m\u001b[1;33m)\u001b[0m\u001b[1;33m\u001b[0m\u001b[1;33m\u001b[0m\u001b[0m\n\u001b[0m",
      "\u001b[1;32mD:\\Anaconda\\lib\\site-packages\\sklearn\\model_selection\\_validation.py\u001b[0m in \u001b[0;36m_fit_and_score\u001b[1;34m(estimator, X, y, scorer, train, test, verbose, parameters, fit_params, return_train_score, return_parameters, return_n_test_samples, return_times, return_estimator, split_progress, candidate_progress, error_score)\u001b[0m\n\u001b[0;32m    591\u001b[0m             \u001b[0mestimator\u001b[0m\u001b[1;33m.\u001b[0m\u001b[0mfit\u001b[0m\u001b[1;33m(\u001b[0m\u001b[0mX_train\u001b[0m\u001b[1;33m,\u001b[0m \u001b[1;33m**\u001b[0m\u001b[0mfit_params\u001b[0m\u001b[1;33m)\u001b[0m\u001b[1;33m\u001b[0m\u001b[1;33m\u001b[0m\u001b[0m\n\u001b[0;32m    592\u001b[0m         \u001b[1;32melse\u001b[0m\u001b[1;33m:\u001b[0m\u001b[1;33m\u001b[0m\u001b[1;33m\u001b[0m\u001b[0m\n\u001b[1;32m--> 593\u001b[1;33m             \u001b[0mestimator\u001b[0m\u001b[1;33m.\u001b[0m\u001b[0mfit\u001b[0m\u001b[1;33m(\u001b[0m\u001b[0mX_train\u001b[0m\u001b[1;33m,\u001b[0m \u001b[0my_train\u001b[0m\u001b[1;33m,\u001b[0m \u001b[1;33m**\u001b[0m\u001b[0mfit_params\u001b[0m\u001b[1;33m)\u001b[0m\u001b[1;33m\u001b[0m\u001b[1;33m\u001b[0m\u001b[0m\n\u001b[0m\u001b[0;32m    594\u001b[0m \u001b[1;33m\u001b[0m\u001b[0m\n\u001b[0;32m    595\u001b[0m     \u001b[1;32mexcept\u001b[0m \u001b[0mException\u001b[0m \u001b[1;32mas\u001b[0m \u001b[0me\u001b[0m\u001b[1;33m:\u001b[0m\u001b[1;33m\u001b[0m\u001b[1;33m\u001b[0m\u001b[0m\n",
      "\u001b[1;32mD:\\Anaconda\\lib\\site-packages\\sklearn\\ensemble\\_forest.py\u001b[0m in \u001b[0;36mfit\u001b[1;34m(self, X, y, sample_weight)\u001b[0m\n\u001b[0;32m    385\u001b[0m             \u001b[1;31m# parallel_backend contexts set at a higher level,\u001b[0m\u001b[1;33m\u001b[0m\u001b[1;33m\u001b[0m\u001b[1;33m\u001b[0m\u001b[0m\n\u001b[0;32m    386\u001b[0m             \u001b[1;31m# since correctness does not rely on using threads.\u001b[0m\u001b[1;33m\u001b[0m\u001b[1;33m\u001b[0m\u001b[1;33m\u001b[0m\u001b[0m\n\u001b[1;32m--> 387\u001b[1;33m             trees = Parallel(n_jobs=self.n_jobs, verbose=self.verbose,\n\u001b[0m\u001b[0;32m    388\u001b[0m                              \u001b[1;33m**\u001b[0m\u001b[0m_joblib_parallel_args\u001b[0m\u001b[1;33m(\u001b[0m\u001b[0mprefer\u001b[0m\u001b[1;33m=\u001b[0m\u001b[1;34m'threads'\u001b[0m\u001b[1;33m)\u001b[0m\u001b[1;33m)\u001b[0m\u001b[1;33m(\u001b[0m\u001b[1;33m\u001b[0m\u001b[1;33m\u001b[0m\u001b[0m\n\u001b[0;32m    389\u001b[0m                 delayed(_parallel_build_trees)(\n",
      "\u001b[1;32mD:\\Anaconda\\lib\\site-packages\\joblib\\parallel.py\u001b[0m in \u001b[0;36m__call__\u001b[1;34m(self, iterable)\u001b[0m\n\u001b[0;32m   1042\u001b[0m                 \u001b[0mself\u001b[0m\u001b[1;33m.\u001b[0m\u001b[0m_iterating\u001b[0m \u001b[1;33m=\u001b[0m \u001b[0mself\u001b[0m\u001b[1;33m.\u001b[0m\u001b[0m_original_iterator\u001b[0m \u001b[1;32mis\u001b[0m \u001b[1;32mnot\u001b[0m \u001b[1;32mNone\u001b[0m\u001b[1;33m\u001b[0m\u001b[1;33m\u001b[0m\u001b[0m\n\u001b[0;32m   1043\u001b[0m \u001b[1;33m\u001b[0m\u001b[0m\n\u001b[1;32m-> 1044\u001b[1;33m             \u001b[1;32mwhile\u001b[0m \u001b[0mself\u001b[0m\u001b[1;33m.\u001b[0m\u001b[0mdispatch_one_batch\u001b[0m\u001b[1;33m(\u001b[0m\u001b[0miterator\u001b[0m\u001b[1;33m)\u001b[0m\u001b[1;33m:\u001b[0m\u001b[1;33m\u001b[0m\u001b[1;33m\u001b[0m\u001b[0m\n\u001b[0m\u001b[0;32m   1045\u001b[0m                 \u001b[1;32mpass\u001b[0m\u001b[1;33m\u001b[0m\u001b[1;33m\u001b[0m\u001b[0m\n\u001b[0;32m   1046\u001b[0m \u001b[1;33m\u001b[0m\u001b[0m\n",
      "\u001b[1;32mD:\\Anaconda\\lib\\site-packages\\joblib\\parallel.py\u001b[0m in \u001b[0;36mdispatch_one_batch\u001b[1;34m(self, iterator)\u001b[0m\n\u001b[0;32m    857\u001b[0m                 \u001b[1;32mreturn\u001b[0m \u001b[1;32mFalse\u001b[0m\u001b[1;33m\u001b[0m\u001b[1;33m\u001b[0m\u001b[0m\n\u001b[0;32m    858\u001b[0m             \u001b[1;32melse\u001b[0m\u001b[1;33m:\u001b[0m\u001b[1;33m\u001b[0m\u001b[1;33m\u001b[0m\u001b[0m\n\u001b[1;32m--> 859\u001b[1;33m                 \u001b[0mself\u001b[0m\u001b[1;33m.\u001b[0m\u001b[0m_dispatch\u001b[0m\u001b[1;33m(\u001b[0m\u001b[0mtasks\u001b[0m\u001b[1;33m)\u001b[0m\u001b[1;33m\u001b[0m\u001b[1;33m\u001b[0m\u001b[0m\n\u001b[0m\u001b[0;32m    860\u001b[0m                 \u001b[1;32mreturn\u001b[0m \u001b[1;32mTrue\u001b[0m\u001b[1;33m\u001b[0m\u001b[1;33m\u001b[0m\u001b[0m\n\u001b[0;32m    861\u001b[0m \u001b[1;33m\u001b[0m\u001b[0m\n",
      "\u001b[1;32mD:\\Anaconda\\lib\\site-packages\\joblib\\parallel.py\u001b[0m in \u001b[0;36m_dispatch\u001b[1;34m(self, batch)\u001b[0m\n\u001b[0;32m    775\u001b[0m         \u001b[1;32mwith\u001b[0m \u001b[0mself\u001b[0m\u001b[1;33m.\u001b[0m\u001b[0m_lock\u001b[0m\u001b[1;33m:\u001b[0m\u001b[1;33m\u001b[0m\u001b[1;33m\u001b[0m\u001b[0m\n\u001b[0;32m    776\u001b[0m             \u001b[0mjob_idx\u001b[0m \u001b[1;33m=\u001b[0m \u001b[0mlen\u001b[0m\u001b[1;33m(\u001b[0m\u001b[0mself\u001b[0m\u001b[1;33m.\u001b[0m\u001b[0m_jobs\u001b[0m\u001b[1;33m)\u001b[0m\u001b[1;33m\u001b[0m\u001b[1;33m\u001b[0m\u001b[0m\n\u001b[1;32m--> 777\u001b[1;33m             \u001b[0mjob\u001b[0m \u001b[1;33m=\u001b[0m \u001b[0mself\u001b[0m\u001b[1;33m.\u001b[0m\u001b[0m_backend\u001b[0m\u001b[1;33m.\u001b[0m\u001b[0mapply_async\u001b[0m\u001b[1;33m(\u001b[0m\u001b[0mbatch\u001b[0m\u001b[1;33m,\u001b[0m \u001b[0mcallback\u001b[0m\u001b[1;33m=\u001b[0m\u001b[0mcb\u001b[0m\u001b[1;33m)\u001b[0m\u001b[1;33m\u001b[0m\u001b[1;33m\u001b[0m\u001b[0m\n\u001b[0m\u001b[0;32m    778\u001b[0m             \u001b[1;31m# A job can complete so quickly than its callback is\u001b[0m\u001b[1;33m\u001b[0m\u001b[1;33m\u001b[0m\u001b[1;33m\u001b[0m\u001b[0m\n\u001b[0;32m    779\u001b[0m             \u001b[1;31m# called before we get here, causing self._jobs to\u001b[0m\u001b[1;33m\u001b[0m\u001b[1;33m\u001b[0m\u001b[1;33m\u001b[0m\u001b[0m\n",
      "\u001b[1;32mD:\\Anaconda\\lib\\site-packages\\joblib\\_parallel_backends.py\u001b[0m in \u001b[0;36mapply_async\u001b[1;34m(self, func, callback)\u001b[0m\n\u001b[0;32m    206\u001b[0m     \u001b[1;32mdef\u001b[0m \u001b[0mapply_async\u001b[0m\u001b[1;33m(\u001b[0m\u001b[0mself\u001b[0m\u001b[1;33m,\u001b[0m \u001b[0mfunc\u001b[0m\u001b[1;33m,\u001b[0m \u001b[0mcallback\u001b[0m\u001b[1;33m=\u001b[0m\u001b[1;32mNone\u001b[0m\u001b[1;33m)\u001b[0m\u001b[1;33m:\u001b[0m\u001b[1;33m\u001b[0m\u001b[1;33m\u001b[0m\u001b[0m\n\u001b[0;32m    207\u001b[0m         \u001b[1;34m\"\"\"Schedule a func to be run\"\"\"\u001b[0m\u001b[1;33m\u001b[0m\u001b[1;33m\u001b[0m\u001b[0m\n\u001b[1;32m--> 208\u001b[1;33m         \u001b[0mresult\u001b[0m \u001b[1;33m=\u001b[0m \u001b[0mImmediateResult\u001b[0m\u001b[1;33m(\u001b[0m\u001b[0mfunc\u001b[0m\u001b[1;33m)\u001b[0m\u001b[1;33m\u001b[0m\u001b[1;33m\u001b[0m\u001b[0m\n\u001b[0m\u001b[0;32m    209\u001b[0m         \u001b[1;32mif\u001b[0m \u001b[0mcallback\u001b[0m\u001b[1;33m:\u001b[0m\u001b[1;33m\u001b[0m\u001b[1;33m\u001b[0m\u001b[0m\n\u001b[0;32m    210\u001b[0m             \u001b[0mcallback\u001b[0m\u001b[1;33m(\u001b[0m\u001b[0mresult\u001b[0m\u001b[1;33m)\u001b[0m\u001b[1;33m\u001b[0m\u001b[1;33m\u001b[0m\u001b[0m\n",
      "\u001b[1;32mD:\\Anaconda\\lib\\site-packages\\joblib\\_parallel_backends.py\u001b[0m in \u001b[0;36m__init__\u001b[1;34m(self, batch)\u001b[0m\n\u001b[0;32m    570\u001b[0m         \u001b[1;31m# Don't delay the application, to avoid keeping the input\u001b[0m\u001b[1;33m\u001b[0m\u001b[1;33m\u001b[0m\u001b[1;33m\u001b[0m\u001b[0m\n\u001b[0;32m    571\u001b[0m         \u001b[1;31m# arguments in memory\u001b[0m\u001b[1;33m\u001b[0m\u001b[1;33m\u001b[0m\u001b[1;33m\u001b[0m\u001b[0m\n\u001b[1;32m--> 572\u001b[1;33m         \u001b[0mself\u001b[0m\u001b[1;33m.\u001b[0m\u001b[0mresults\u001b[0m \u001b[1;33m=\u001b[0m \u001b[0mbatch\u001b[0m\u001b[1;33m(\u001b[0m\u001b[1;33m)\u001b[0m\u001b[1;33m\u001b[0m\u001b[1;33m\u001b[0m\u001b[0m\n\u001b[0m\u001b[0;32m    573\u001b[0m \u001b[1;33m\u001b[0m\u001b[0m\n\u001b[0;32m    574\u001b[0m     \u001b[1;32mdef\u001b[0m \u001b[0mget\u001b[0m\u001b[1;33m(\u001b[0m\u001b[0mself\u001b[0m\u001b[1;33m)\u001b[0m\u001b[1;33m:\u001b[0m\u001b[1;33m\u001b[0m\u001b[1;33m\u001b[0m\u001b[0m\n",
      "\u001b[1;32mD:\\Anaconda\\lib\\site-packages\\joblib\\parallel.py\u001b[0m in \u001b[0;36m__call__\u001b[1;34m(self)\u001b[0m\n\u001b[0;32m    260\u001b[0m         \u001b[1;31m# change the default number of processes to -1\u001b[0m\u001b[1;33m\u001b[0m\u001b[1;33m\u001b[0m\u001b[1;33m\u001b[0m\u001b[0m\n\u001b[0;32m    261\u001b[0m         \u001b[1;32mwith\u001b[0m \u001b[0mparallel_backend\u001b[0m\u001b[1;33m(\u001b[0m\u001b[0mself\u001b[0m\u001b[1;33m.\u001b[0m\u001b[0m_backend\u001b[0m\u001b[1;33m,\u001b[0m \u001b[0mn_jobs\u001b[0m\u001b[1;33m=\u001b[0m\u001b[0mself\u001b[0m\u001b[1;33m.\u001b[0m\u001b[0m_n_jobs\u001b[0m\u001b[1;33m)\u001b[0m\u001b[1;33m:\u001b[0m\u001b[1;33m\u001b[0m\u001b[1;33m\u001b[0m\u001b[0m\n\u001b[1;32m--> 262\u001b[1;33m             return [func(*args, **kwargs)\n\u001b[0m\u001b[0;32m    263\u001b[0m                     for func, args, kwargs in self.items]\n\u001b[0;32m    264\u001b[0m \u001b[1;33m\u001b[0m\u001b[0m\n",
      "\u001b[1;32mD:\\Anaconda\\lib\\site-packages\\joblib\\parallel.py\u001b[0m in \u001b[0;36m<listcomp>\u001b[1;34m(.0)\u001b[0m\n\u001b[0;32m    260\u001b[0m         \u001b[1;31m# change the default number of processes to -1\u001b[0m\u001b[1;33m\u001b[0m\u001b[1;33m\u001b[0m\u001b[1;33m\u001b[0m\u001b[0m\n\u001b[0;32m    261\u001b[0m         \u001b[1;32mwith\u001b[0m \u001b[0mparallel_backend\u001b[0m\u001b[1;33m(\u001b[0m\u001b[0mself\u001b[0m\u001b[1;33m.\u001b[0m\u001b[0m_backend\u001b[0m\u001b[1;33m,\u001b[0m \u001b[0mn_jobs\u001b[0m\u001b[1;33m=\u001b[0m\u001b[0mself\u001b[0m\u001b[1;33m.\u001b[0m\u001b[0m_n_jobs\u001b[0m\u001b[1;33m)\u001b[0m\u001b[1;33m:\u001b[0m\u001b[1;33m\u001b[0m\u001b[1;33m\u001b[0m\u001b[0m\n\u001b[1;32m--> 262\u001b[1;33m             return [func(*args, **kwargs)\n\u001b[0m\u001b[0;32m    263\u001b[0m                     for func, args, kwargs in self.items]\n\u001b[0;32m    264\u001b[0m \u001b[1;33m\u001b[0m\u001b[0m\n",
      "\u001b[1;32mD:\\Anaconda\\lib\\site-packages\\sklearn\\utils\\fixes.py\u001b[0m in \u001b[0;36m__call__\u001b[1;34m(self, *args, **kwargs)\u001b[0m\n\u001b[0;32m    220\u001b[0m     \u001b[1;32mdef\u001b[0m \u001b[0m__call__\u001b[0m\u001b[1;33m(\u001b[0m\u001b[0mself\u001b[0m\u001b[1;33m,\u001b[0m \u001b[1;33m*\u001b[0m\u001b[0margs\u001b[0m\u001b[1;33m,\u001b[0m \u001b[1;33m**\u001b[0m\u001b[0mkwargs\u001b[0m\u001b[1;33m)\u001b[0m\u001b[1;33m:\u001b[0m\u001b[1;33m\u001b[0m\u001b[1;33m\u001b[0m\u001b[0m\n\u001b[0;32m    221\u001b[0m         \u001b[1;32mwith\u001b[0m \u001b[0mconfig_context\u001b[0m\u001b[1;33m(\u001b[0m\u001b[1;33m**\u001b[0m\u001b[0mself\u001b[0m\u001b[1;33m.\u001b[0m\u001b[0mconfig\u001b[0m\u001b[1;33m)\u001b[0m\u001b[1;33m:\u001b[0m\u001b[1;33m\u001b[0m\u001b[1;33m\u001b[0m\u001b[0m\n\u001b[1;32m--> 222\u001b[1;33m             \u001b[1;32mreturn\u001b[0m \u001b[0mself\u001b[0m\u001b[1;33m.\u001b[0m\u001b[0mfunction\u001b[0m\u001b[1;33m(\u001b[0m\u001b[1;33m*\u001b[0m\u001b[0margs\u001b[0m\u001b[1;33m,\u001b[0m \u001b[1;33m**\u001b[0m\u001b[0mkwargs\u001b[0m\u001b[1;33m)\u001b[0m\u001b[1;33m\u001b[0m\u001b[1;33m\u001b[0m\u001b[0m\n\u001b[0m",
      "\u001b[1;32mD:\\Anaconda\\lib\\site-packages\\sklearn\\ensemble\\_forest.py\u001b[0m in \u001b[0;36m_parallel_build_trees\u001b[1;34m(tree, forest, X, y, sample_weight, tree_idx, n_trees, verbose, class_weight, n_samples_bootstrap)\u001b[0m\n\u001b[0;32m    167\u001b[0m                                                         indices=indices)\n\u001b[0;32m    168\u001b[0m \u001b[1;33m\u001b[0m\u001b[0m\n\u001b[1;32m--> 169\u001b[1;33m         \u001b[0mtree\u001b[0m\u001b[1;33m.\u001b[0m\u001b[0mfit\u001b[0m\u001b[1;33m(\u001b[0m\u001b[0mX\u001b[0m\u001b[1;33m,\u001b[0m \u001b[0my\u001b[0m\u001b[1;33m,\u001b[0m \u001b[0msample_weight\u001b[0m\u001b[1;33m=\u001b[0m\u001b[0mcurr_sample_weight\u001b[0m\u001b[1;33m,\u001b[0m \u001b[0mcheck_input\u001b[0m\u001b[1;33m=\u001b[0m\u001b[1;32mFalse\u001b[0m\u001b[1;33m)\u001b[0m\u001b[1;33m\u001b[0m\u001b[1;33m\u001b[0m\u001b[0m\n\u001b[0m\u001b[0;32m    170\u001b[0m     \u001b[1;32melse\u001b[0m\u001b[1;33m:\u001b[0m\u001b[1;33m\u001b[0m\u001b[1;33m\u001b[0m\u001b[0m\n\u001b[0;32m    171\u001b[0m         \u001b[0mtree\u001b[0m\u001b[1;33m.\u001b[0m\u001b[0mfit\u001b[0m\u001b[1;33m(\u001b[0m\u001b[0mX\u001b[0m\u001b[1;33m,\u001b[0m \u001b[0my\u001b[0m\u001b[1;33m,\u001b[0m \u001b[0msample_weight\u001b[0m\u001b[1;33m=\u001b[0m\u001b[0msample_weight\u001b[0m\u001b[1;33m,\u001b[0m \u001b[0mcheck_input\u001b[0m\u001b[1;33m=\u001b[0m\u001b[1;32mFalse\u001b[0m\u001b[1;33m)\u001b[0m\u001b[1;33m\u001b[0m\u001b[1;33m\u001b[0m\u001b[0m\n",
      "\u001b[1;32mD:\\Anaconda\\lib\\site-packages\\sklearn\\tree\\_classes.py\u001b[0m in \u001b[0;36mfit\u001b[1;34m(self, X, y, sample_weight, check_input, X_idx_sorted)\u001b[0m\n\u001b[0;32m   1245\u001b[0m         \"\"\"\n\u001b[0;32m   1246\u001b[0m \u001b[1;33m\u001b[0m\u001b[0m\n\u001b[1;32m-> 1247\u001b[1;33m         super().fit(\n\u001b[0m\u001b[0;32m   1248\u001b[0m             \u001b[0mX\u001b[0m\u001b[1;33m,\u001b[0m \u001b[0my\u001b[0m\u001b[1;33m,\u001b[0m\u001b[1;33m\u001b[0m\u001b[1;33m\u001b[0m\u001b[0m\n\u001b[0;32m   1249\u001b[0m             \u001b[0msample_weight\u001b[0m\u001b[1;33m=\u001b[0m\u001b[0msample_weight\u001b[0m\u001b[1;33m,\u001b[0m\u001b[1;33m\u001b[0m\u001b[1;33m\u001b[0m\u001b[0m\n",
      "\u001b[1;32mD:\\Anaconda\\lib\\site-packages\\sklearn\\tree\\_classes.py\u001b[0m in \u001b[0;36mfit\u001b[1;34m(self, X, y, sample_weight, check_input, X_idx_sorted)\u001b[0m\n\u001b[0;32m    387\u001b[0m                                            min_impurity_split)\n\u001b[0;32m    388\u001b[0m \u001b[1;33m\u001b[0m\u001b[0m\n\u001b[1;32m--> 389\u001b[1;33m         \u001b[0mbuilder\u001b[0m\u001b[1;33m.\u001b[0m\u001b[0mbuild\u001b[0m\u001b[1;33m(\u001b[0m\u001b[0mself\u001b[0m\u001b[1;33m.\u001b[0m\u001b[0mtree_\u001b[0m\u001b[1;33m,\u001b[0m \u001b[0mX\u001b[0m\u001b[1;33m,\u001b[0m \u001b[0my\u001b[0m\u001b[1;33m,\u001b[0m \u001b[0msample_weight\u001b[0m\u001b[1;33m)\u001b[0m\u001b[1;33m\u001b[0m\u001b[1;33m\u001b[0m\u001b[0m\n\u001b[0m\u001b[0;32m    390\u001b[0m \u001b[1;33m\u001b[0m\u001b[0m\n\u001b[0;32m    391\u001b[0m         \u001b[1;32mif\u001b[0m \u001b[0mself\u001b[0m\u001b[1;33m.\u001b[0m\u001b[0mn_outputs_\u001b[0m \u001b[1;33m==\u001b[0m \u001b[1;36m1\u001b[0m \u001b[1;32mand\u001b[0m \u001b[0mis_classifier\u001b[0m\u001b[1;33m(\u001b[0m\u001b[0mself\u001b[0m\u001b[1;33m)\u001b[0m\u001b[1;33m:\u001b[0m\u001b[1;33m\u001b[0m\u001b[1;33m\u001b[0m\u001b[0m\n",
      "\u001b[1;31mKeyboardInterrupt\u001b[0m: "
     ]
    }
   ],
   "source": [
    "# Importing Libraries and Hyper parameter tuning:\n",
    "from sklearn.model_selection import GridSearchCV\n",
    "from sklearn.ensemble import RandomForestRegressor\n",
    "\n",
    "parameters = {'criterion':['mse', 'mae'],'max_features':[\"auto\", \"sqrt\", \"log2\"]}\n",
    "rf =RandomForestRegressor()\n",
    "clf = GridSearchCV(rf,parameters)\n",
    "clf.fit(train_x,train_y)\n",
    "\n",
    "print(clf.best_params_)"
   ]
  },
  {
   "cell_type": "markdown",
   "id": "c6376aa4",
   "metadata": {},
   "source": [
    "Best parameters for Random Forest Regressor"
   ]
  },
  {
   "cell_type": "code",
   "execution_count": null,
   "id": "c38d1823",
   "metadata": {},
   "outputs": [],
   "source": [
    "rf= RandomForestRegressor(criterion=\"mse\",max_features=\"log2\")\n",
    "rf.fit(train_x,train_y)\n",
    "rf.score(train_x,train_y)\n",
    "predrf = rf.predict(test_x)\n",
    "print('rf score',rf.score(train_x,train_y))\n",
    "rfs = r2_score(test_y,predrf)\n",
    "print('R2 Score:',rfs*100)\n",
    "\n",
    "rfscore = cross_val_score(rf,x,y,cv=9)\n",
    "rfc = rfscore.mean()\n",
    "print('Cross Val Score:',rfc*100)\n",
    "print(\"Mean squared error:\",mean_squared_error(test_y,predrf))\n",
    "print(\"Mean absolute error:\",mean_absolute_error(test_y,predrf))"
   ]
  },
  {
   "cell_type": "markdown",
   "id": "4c3c20c3",
   "metadata": {},
   "source": [
    "rf score 96.9% R2 Score: 77% Cross Val Score: 79%"
   ]
  },
  {
   "cell_type": "code",
   "execution_count": null,
   "id": "fb0877a7",
   "metadata": {},
   "outputs": [],
   "source": [
    "import matplotlib.pyplot as plt\n",
    "plt.figure(figsize=(8,6))\n",
    "plt.scatter(x=test_y, y=predrf, color='r')\n",
    "plt.plot(test_y,test_y, color='b')\n",
    "plt.xlabel('Actual data',fontsize=14)\n",
    "plt.ylabel('Predicted data',fontsize=14)\n",
    "plt.title('Random Forest Regressor',fontsize=18)\n",
    "plt.show()"
   ]
  },
  {
   "cell_type": "code",
   "execution_count": null,
   "id": "f0e670e1",
   "metadata": {},
   "outputs": [],
   "source": []
  },
  {
   "cell_type": "markdown",
   "id": "67654dbd",
   "metadata": {},
   "source": [
    "## 2. Decision Tree Regressor"
   ]
  },
  {
   "cell_type": "code",
   "execution_count": 454,
   "id": "f54759aa",
   "metadata": {},
   "outputs": [
    {
     "name": "stdout",
     "output_type": "stream",
     "text": [
      "{'criterion': 'mse', 'max_depth': 8, 'max_features': 'auto', 'min_samples_split': 0.25}\n"
     ]
    }
   ],
   "source": [
    "# Importing Libraries and Hyper parameter tuning:\n",
    "from sklearn.model_selection import GridSearchCV\n",
    "from sklearn.tree import DecisionTreeRegressor\n",
    "\n",
    "parameters = {'criterion':['mse', 'mae'],\n",
    "              'max_features':[\"auto\",\"sqrt\", \"log2\"],\n",
    "              'max_depth':[2,4,8,10,None],\n",
    "            'min_samples_split':[0.25,0.5,1.0]}\n",
    "dt =DecisionTreeRegressor()\n",
    "clf = GridSearchCV(dt,parameters)\n",
    "clf.fit(train_x,train_y)\n",
    "\n",
    "print(clf.best_params_)"
   ]
  },
  {
   "cell_type": "markdown",
   "id": "2525c5f8",
   "metadata": {},
   "source": [
    "Best parameters for DecisionTreeRegressor"
   ]
  },
  {
   "cell_type": "code",
   "execution_count": 455,
   "id": "3ab435a8",
   "metadata": {},
   "outputs": [
    {
     "name": "stdout",
     "output_type": "stream",
     "text": [
      "dt score 0.5804691243027915\n",
      "R2 Score: 59.60427205254606\n",
      "Cross Val Score: 57.846588972516535\n",
      "Mean squared error: 6861802.995463494\n",
      "Mean absolute error: 2026.545734931325\n"
     ]
    }
   ],
   "source": [
    "dt =DecisionTreeRegressor(criterion=\"mse\",max_features=\"auto\",max_depth=8,min_samples_split=0.25)\n",
    "dt.fit(train_x,train_y)\n",
    "dt.score(train_x,train_y)\n",
    "predt = dt.predict(test_x)\n",
    "print('dt score',dt.score(train_x,train_y))\n",
    "dts = r2_score(test_y,predt)\n",
    "print('R2 Score:',dts*100)\n",
    "\n",
    "dtscore = cross_val_score(dt,x,y,cv=9)\n",
    "dtc = dtscore.mean()\n",
    "print('Cross Val Score:',dtc*100)\n",
    "print(\"Mean squared error:\",mean_squared_error(test_y,predt))\n",
    "print(\"Mean absolute error:\",mean_absolute_error(test_y,predt))"
   ]
  },
  {
   "cell_type": "markdown",
   "id": "f0744ad3",
   "metadata": {},
   "source": [
    "dt score is 58% , r2score is 59.6% and cross val score is 57.8%"
   ]
  },
  {
   "cell_type": "code",
   "execution_count": 456,
   "id": "de3afd6c",
   "metadata": {},
   "outputs": [
    {
     "data": {
      "image/png": "[encoded data removed]",
      "text/plain": [
       "<Figure size 576x432 with 1 Axes>"
      ]
     },
     "metadata": {
      "needs_background": "light"
     },
     "output_type": "display_data"
    }
   ],
   "source": [
    "import matplotlib.pyplot as plt\n",
    "plt.figure(figsize=(8,6))\n",
    "plt.scatter(x=test_y, y=predt, color='r')\n",
    "plt.plot(test_y,test_y, color='b')\n",
    "plt.xlabel('Actual data',fontsize=14)\n",
    "plt.ylabel('Predicted data',fontsize=14)\n",
    "plt.title('Decision Tree Regressor',fontsize=18)\n",
    "plt.show()"
   ]
  },
  {
   "cell_type": "markdown",
   "id": "6a7cfbc6",
   "metadata": {},
   "source": [
    "## 3. KNeighborsRegressor"
   ]
  },
  {
   "cell_type": "code",
   "execution_count": 457,
   "id": "4246f8fd",
   "metadata": {},
   "outputs": [
    {
     "name": "stdout",
     "output_type": "stream",
     "text": [
      "{'algorithm': 'brute', 'n_neighbors': 6, 'weights': 'uniform'}\n"
     ]
    }
   ],
   "source": [
    "# Importing Libraries and Hyper parameter tuning:\n",
    "from sklearn.neighbors import KNeighborsRegressor\n",
    "from sklearn.model_selection import GridSearchCV\n",
    "from sklearn.metrics import mean_squared_error,mean_absolute_error\n",
    "\n",
    "parameters = {'n_neighbors':list(range(0,10)),\n",
    "              'weights':['uniform', 'distance'],\n",
    "              'algorithm':['auto', 'ball_tree', 'kd_tree', 'brute']\n",
    "              }\n",
    "kn =KNeighborsRegressor()\n",
    "clf = GridSearchCV(kn,parameters)\n",
    "clf.fit(train_x,train_y)\n",
    "\n",
    "print(clf.best_params_)"
   ]
  },
  {
   "cell_type": "markdown",
   "id": "30c1beb7",
   "metadata": {},
   "source": [
    "Best parameters for KNeighborsRegressor "
   ]
  },
  {
   "cell_type": "code",
   "execution_count": 459,
   "id": "2034a54a",
   "metadata": {},
   "outputs": [
    {
     "name": "stdout",
     "output_type": "stream",
     "text": [
      "kn score 0.7698346474922212\n",
      "R2 Score: 68.43201133621561\n",
      "Cross Val Score: 68.12360037839011\n",
      "Mean squared error: 5362282.849703318\n",
      "Mean absolute error: 1661.237791430372\n"
     ]
    }
   ],
   "source": [
    "kn =KNeighborsRegressor(n_neighbors=6,algorithm=\"brute\",weights='uniform')\n",
    "kn.fit(train_x,train_y)\n",
    "kn.score(train_x,train_y)\n",
    "predkn = kn.predict(test_x)\n",
    "print('kn score',kn.score(train_x,train_y))\n",
    "kns = r2_score(test_y,predkn)\n",
    "print('R2 Score:',kns*100)\n",
    "\n",
    "knscore = cross_val_score(kn,x,y,cv=9)\n",
    "knc = knscore.mean()\n",
    "print('Cross Val Score:',knc*100)\n",
    "print(\"Mean squared error:\",mean_squared_error(test_y,predkn))\n",
    "print(\"Mean absolute error:\",mean_absolute_error(test_y,predkn))"
   ]
  },
  {
   "cell_type": "markdown",
   "id": "da6bd13f",
   "metadata": {},
   "source": [
    "kn score 76%\n",
    "R2 Score: 68.4%\n",
    "Cross Val Score: 68.1%"
   ]
  },
  {
   "cell_type": "code",
   "execution_count": 460,
   "id": "d0234adc",
   "metadata": {},
   "outputs": [
    {
     "data": {
      "image/png": "[encoded data removed]",
      "text/plain": [
       "<Figure size 576x432 with 1 Axes>"
      ]
     },
     "metadata": {
      "needs_background": "light"
     },
     "output_type": "display_data"
    }
   ],
   "source": [
    "import matplotlib.pyplot as plt\n",
    "plt.figure(figsize=(8,6))\n",
    "plt.scatter(x=test_y, y=predkn, color='r')\n",
    "plt.plot(test_y,test_y, color='b')\n",
    "plt.xlabel('Actual data',fontsize=14)\n",
    "plt.ylabel('Predicted data',fontsize=14)\n",
    "plt.title('KNeighbors Regressor',fontsize=18)\n",
    "plt.show()"
   ]
  },
  {
   "cell_type": "markdown",
   "id": "1bbdb375",
   "metadata": {},
   "source": [
    "## 4. SVRegressor"
   ]
  },
  {
   "cell_type": "code",
   "execution_count": 461,
   "id": "aa0fc37b",
   "metadata": {},
   "outputs": [
    {
     "ename": "KeyboardInterrupt",
     "evalue": "",
     "output_type": "error",
     "traceback": [
      "\u001b[1;31m---------------------------------------------------------------------------\u001b[0m",
      "\u001b[1;31mKeyboardInterrupt\u001b[0m                         Traceback (most recent call last)",
      "\u001b[1;32m<ipython-input-461-ccd60e4f1258>\u001b[0m in \u001b[0;36m<module>\u001b[1;34m\u001b[0m\n\u001b[0;32m      7\u001b[0m \u001b[1;33m\u001b[0m\u001b[0m\n\u001b[0;32m      8\u001b[0m \u001b[0mclf\u001b[0m \u001b[1;33m=\u001b[0m \u001b[0mGridSearchCV\u001b[0m\u001b[1;33m(\u001b[0m\u001b[0msvr\u001b[0m\u001b[1;33m,\u001b[0m\u001b[0mparameters\u001b[0m\u001b[1;33m)\u001b[0m\u001b[1;33m\u001b[0m\u001b[1;33m\u001b[0m\u001b[0m\n\u001b[1;32m----> 9\u001b[1;33m \u001b[0mclf\u001b[0m\u001b[1;33m.\u001b[0m\u001b[0mfit\u001b[0m\u001b[1;33m(\u001b[0m\u001b[0mtrain_x\u001b[0m\u001b[1;33m,\u001b[0m\u001b[0mtrain_y\u001b[0m\u001b[1;33m)\u001b[0m\u001b[1;33m\u001b[0m\u001b[1;33m\u001b[0m\u001b[0m\n\u001b[0m\u001b[0;32m     10\u001b[0m \u001b[1;33m\u001b[0m\u001b[0m\n\u001b[0;32m     11\u001b[0m \u001b[0mprint\u001b[0m\u001b[1;33m(\u001b[0m\u001b[0mclf\u001b[0m\u001b[1;33m.\u001b[0m\u001b[0mbest_params_\u001b[0m\u001b[1;33m)\u001b[0m\u001b[1;33m\u001b[0m\u001b[1;33m\u001b[0m\u001b[0m\n",
      "\u001b[1;32mD:\\Anaconda\\lib\\site-packages\\sklearn\\utils\\validation.py\u001b[0m in \u001b[0;36minner_f\u001b[1;34m(*args, **kwargs)\u001b[0m\n\u001b[0;32m     61\u001b[0m             \u001b[0mextra_args\u001b[0m \u001b[1;33m=\u001b[0m \u001b[0mlen\u001b[0m\u001b[1;33m(\u001b[0m\u001b[0margs\u001b[0m\u001b[1;33m)\u001b[0m \u001b[1;33m-\u001b[0m \u001b[0mlen\u001b[0m\u001b[1;33m(\u001b[0m\u001b[0mall_args\u001b[0m\u001b[1;33m)\u001b[0m\u001b[1;33m\u001b[0m\u001b[1;33m\u001b[0m\u001b[0m\n\u001b[0;32m     62\u001b[0m             \u001b[1;32mif\u001b[0m \u001b[0mextra_args\u001b[0m \u001b[1;33m<=\u001b[0m \u001b[1;36m0\u001b[0m\u001b[1;33m:\u001b[0m\u001b[1;33m\u001b[0m\u001b[1;33m\u001b[0m\u001b[0m\n\u001b[1;32m---> 63\u001b[1;33m                 \u001b[1;32mreturn\u001b[0m \u001b[0mf\u001b[0m\u001b[1;33m(\u001b[0m\u001b[1;33m*\u001b[0m\u001b[0margs\u001b[0m\u001b[1;33m,\u001b[0m \u001b[1;33m**\u001b[0m\u001b[0mkwargs\u001b[0m\u001b[1;33m)\u001b[0m\u001b[1;33m\u001b[0m\u001b[1;33m\u001b[0m\u001b[0m\n\u001b[0m\u001b[0;32m     64\u001b[0m \u001b[1;33m\u001b[0m\u001b[0m\n\u001b[0;32m     65\u001b[0m             \u001b[1;31m# extra_args > 0\u001b[0m\u001b[1;33m\u001b[0m\u001b[1;33m\u001b[0m\u001b[1;33m\u001b[0m\u001b[0m\n",
      "\u001b[1;32mD:\\Anaconda\\lib\\site-packages\\sklearn\\model_selection\\_search.py\u001b[0m in \u001b[0;36mfit\u001b[1;34m(self, X, y, groups, **fit_params)\u001b[0m\n\u001b[0;32m    839\u001b[0m                 \u001b[1;32mreturn\u001b[0m \u001b[0mresults\u001b[0m\u001b[1;33m\u001b[0m\u001b[1;33m\u001b[0m\u001b[0m\n\u001b[0;32m    840\u001b[0m \u001b[1;33m\u001b[0m\u001b[0m\n\u001b[1;32m--> 841\u001b[1;33m             \u001b[0mself\u001b[0m\u001b[1;33m.\u001b[0m\u001b[0m_run_search\u001b[0m\u001b[1;33m(\u001b[0m\u001b[0mevaluate_candidates\u001b[0m\u001b[1;33m)\u001b[0m\u001b[1;33m\u001b[0m\u001b[1;33m\u001b[0m\u001b[0m\n\u001b[0m\u001b[0;32m    842\u001b[0m \u001b[1;33m\u001b[0m\u001b[0m\n\u001b[0;32m    843\u001b[0m             \u001b[1;31m# multimetric is determined here because in the case of a callable\u001b[0m\u001b[1;33m\u001b[0m\u001b[1;33m\u001b[0m\u001b[1;33m\u001b[0m\u001b[0m\n",
      "\u001b[1;32mD:\\Anaconda\\lib\\site-packages\\sklearn\\model_selection\\_search.py\u001b[0m in \u001b[0;36m_run_search\u001b[1;34m(self, evaluate_candidates)\u001b[0m\n\u001b[0;32m   1286\u001b[0m     \u001b[1;32mdef\u001b[0m \u001b[0m_run_search\u001b[0m\u001b[1;33m(\u001b[0m\u001b[0mself\u001b[0m\u001b[1;33m,\u001b[0m \u001b[0mevaluate_candidates\u001b[0m\u001b[1;33m)\u001b[0m\u001b[1;33m:\u001b[0m\u001b[1;33m\u001b[0m\u001b[1;33m\u001b[0m\u001b[0m\n\u001b[0;32m   1287\u001b[0m         \u001b[1;34m\"\"\"Search all candidates in param_grid\"\"\"\u001b[0m\u001b[1;33m\u001b[0m\u001b[1;33m\u001b[0m\u001b[0m\n\u001b[1;32m-> 1288\u001b[1;33m         \u001b[0mevaluate_candidates\u001b[0m\u001b[1;33m(\u001b[0m\u001b[0mParameterGrid\u001b[0m\u001b[1;33m(\u001b[0m\u001b[0mself\u001b[0m\u001b[1;33m.\u001b[0m\u001b[0mparam_grid\u001b[0m\u001b[1;33m)\u001b[0m\u001b[1;33m)\u001b[0m\u001b[1;33m\u001b[0m\u001b[1;33m\u001b[0m\u001b[0m\n\u001b[0m\u001b[0;32m   1289\u001b[0m \u001b[1;33m\u001b[0m\u001b[0m\n\u001b[0;32m   1290\u001b[0m \u001b[1;33m\u001b[0m\u001b[0m\n",
      "\u001b[1;32mD:\\Anaconda\\lib\\site-packages\\sklearn\\model_selection\\_search.py\u001b[0m in \u001b[0;36mevaluate_candidates\u001b[1;34m(candidate_params, cv, more_results)\u001b[0m\n\u001b[0;32m    793\u001b[0m                               n_splits, n_candidates, n_candidates * n_splits))\n\u001b[0;32m    794\u001b[0m \u001b[1;33m\u001b[0m\u001b[0m\n\u001b[1;32m--> 795\u001b[1;33m                 out = parallel(delayed(_fit_and_score)(clone(base_estimator),\n\u001b[0m\u001b[0;32m    796\u001b[0m                                                        \u001b[0mX\u001b[0m\u001b[1;33m,\u001b[0m \u001b[0my\u001b[0m\u001b[1;33m,\u001b[0m\u001b[1;33m\u001b[0m\u001b[1;33m\u001b[0m\u001b[0m\n\u001b[0;32m    797\u001b[0m                                                        \u001b[0mtrain\u001b[0m\u001b[1;33m=\u001b[0m\u001b[0mtrain\u001b[0m\u001b[1;33m,\u001b[0m \u001b[0mtest\u001b[0m\u001b[1;33m=\u001b[0m\u001b[0mtest\u001b[0m\u001b[1;33m,\u001b[0m\u001b[1;33m\u001b[0m\u001b[1;33m\u001b[0m\u001b[0m\n",
      "\u001b[1;32mD:\\Anaconda\\lib\\site-packages\\joblib\\parallel.py\u001b[0m in \u001b[0;36m__call__\u001b[1;34m(self, iterable)\u001b[0m\n\u001b[0;32m   1042\u001b[0m                 \u001b[0mself\u001b[0m\u001b[1;33m.\u001b[0m\u001b[0m_iterating\u001b[0m \u001b[1;33m=\u001b[0m \u001b[0mself\u001b[0m\u001b[1;33m.\u001b[0m\u001b[0m_original_iterator\u001b[0m \u001b[1;32mis\u001b[0m \u001b[1;32mnot\u001b[0m \u001b[1;32mNone\u001b[0m\u001b[1;33m\u001b[0m\u001b[1;33m\u001b[0m\u001b[0m\n\u001b[0;32m   1043\u001b[0m \u001b[1;33m\u001b[0m\u001b[0m\n\u001b[1;32m-> 1044\u001b[1;33m             \u001b[1;32mwhile\u001b[0m \u001b[0mself\u001b[0m\u001b[1;33m.\u001b[0m\u001b[0mdispatch_one_batch\u001b[0m\u001b[1;33m(\u001b[0m\u001b[0miterator\u001b[0m\u001b[1;33m)\u001b[0m\u001b[1;33m:\u001b[0m\u001b[1;33m\u001b[0m\u001b[1;33m\u001b[0m\u001b[0m\n\u001b[0m\u001b[0;32m   1045\u001b[0m                 \u001b[1;32mpass\u001b[0m\u001b[1;33m\u001b[0m\u001b[1;33m\u001b[0m\u001b[0m\n\u001b[0;32m   1046\u001b[0m \u001b[1;33m\u001b[0m\u001b[0m\n",
      "\u001b[1;32mD:\\Anaconda\\lib\\site-packages\\joblib\\parallel.py\u001b[0m in \u001b[0;36mdispatch_one_batch\u001b[1;34m(self, iterator)\u001b[0m\n\u001b[0;32m    857\u001b[0m                 \u001b[1;32mreturn\u001b[0m \u001b[1;32mFalse\u001b[0m\u001b[1;33m\u001b[0m\u001b[1;33m\u001b[0m\u001b[0m\n\u001b[0;32m    858\u001b[0m             \u001b[1;32melse\u001b[0m\u001b[1;33m:\u001b[0m\u001b[1;33m\u001b[0m\u001b[1;33m\u001b[0m\u001b[0m\n\u001b[1;32m--> 859\u001b[1;33m                 \u001b[0mself\u001b[0m\u001b[1;33m.\u001b[0m\u001b[0m_dispatch\u001b[0m\u001b[1;33m(\u001b[0m\u001b[0mtasks\u001b[0m\u001b[1;33m)\u001b[0m\u001b[1;33m\u001b[0m\u001b[1;33m\u001b[0m\u001b[0m\n\u001b[0m\u001b[0;32m    860\u001b[0m                 \u001b[1;32mreturn\u001b[0m \u001b[1;32mTrue\u001b[0m\u001b[1;33m\u001b[0m\u001b[1;33m\u001b[0m\u001b[0m\n\u001b[0;32m    861\u001b[0m \u001b[1;33m\u001b[0m\u001b[0m\n",
      "\u001b[1;32mD:\\Anaconda\\lib\\site-packages\\joblib\\parallel.py\u001b[0m in \u001b[0;36m_dispatch\u001b[1;34m(self, batch)\u001b[0m\n\u001b[0;32m    775\u001b[0m         \u001b[1;32mwith\u001b[0m \u001b[0mself\u001b[0m\u001b[1;33m.\u001b[0m\u001b[0m_lock\u001b[0m\u001b[1;33m:\u001b[0m\u001b[1;33m\u001b[0m\u001b[1;33m\u001b[0m\u001b[0m\n\u001b[0;32m    776\u001b[0m             \u001b[0mjob_idx\u001b[0m \u001b[1;33m=\u001b[0m \u001b[0mlen\u001b[0m\u001b[1;33m(\u001b[0m\u001b[0mself\u001b[0m\u001b[1;33m.\u001b[0m\u001b[0m_jobs\u001b[0m\u001b[1;33m)\u001b[0m\u001b[1;33m\u001b[0m\u001b[1;33m\u001b[0m\u001b[0m\n\u001b[1;32m--> 777\u001b[1;33m             \u001b[0mjob\u001b[0m \u001b[1;33m=\u001b[0m \u001b[0mself\u001b[0m\u001b[1;33m.\u001b[0m\u001b[0m_backend\u001b[0m\u001b[1;33m.\u001b[0m\u001b[0mapply_async\u001b[0m\u001b[1;33m(\u001b[0m\u001b[0mbatch\u001b[0m\u001b[1;33m,\u001b[0m \u001b[0mcallback\u001b[0m\u001b[1;33m=\u001b[0m\u001b[0mcb\u001b[0m\u001b[1;33m)\u001b[0m\u001b[1;33m\u001b[0m\u001b[1;33m\u001b[0m\u001b[0m\n\u001b[0m\u001b[0;32m    778\u001b[0m             \u001b[1;31m# A job can complete so quickly than its callback is\u001b[0m\u001b[1;33m\u001b[0m\u001b[1;33m\u001b[0m\u001b[1;33m\u001b[0m\u001b[0m\n\u001b[0;32m    779\u001b[0m             \u001b[1;31m# called before we get here, causing self._jobs to\u001b[0m\u001b[1;33m\u001b[0m\u001b[1;33m\u001b[0m\u001b[1;33m\u001b[0m\u001b[0m\n",
      "\u001b[1;32mD:\\Anaconda\\lib\\site-packages\\joblib\\_parallel_backends.py\u001b[0m in \u001b[0;36mapply_async\u001b[1;34m(self, func, callback)\u001b[0m\n\u001b[0;32m    206\u001b[0m     \u001b[1;32mdef\u001b[0m \u001b[0mapply_async\u001b[0m\u001b[1;33m(\u001b[0m\u001b[0mself\u001b[0m\u001b[1;33m,\u001b[0m \u001b[0mfunc\u001b[0m\u001b[1;33m,\u001b[0m \u001b[0mcallback\u001b[0m\u001b[1;33m=\u001b[0m\u001b[1;32mNone\u001b[0m\u001b[1;33m)\u001b[0m\u001b[1;33m:\u001b[0m\u001b[1;33m\u001b[0m\u001b[1;33m\u001b[0m\u001b[0m\n\u001b[0;32m    207\u001b[0m         \u001b[1;34m\"\"\"Schedule a func to be run\"\"\"\u001b[0m\u001b[1;33m\u001b[0m\u001b[1;33m\u001b[0m\u001b[0m\n\u001b[1;32m--> 208\u001b[1;33m         \u001b[0mresult\u001b[0m \u001b[1;33m=\u001b[0m \u001b[0mImmediateResult\u001b[0m\u001b[1;33m(\u001b[0m\u001b[0mfunc\u001b[0m\u001b[1;33m)\u001b[0m\u001b[1;33m\u001b[0m\u001b[1;33m\u001b[0m\u001b[0m\n\u001b[0m\u001b[0;32m    209\u001b[0m         \u001b[1;32mif\u001b[0m \u001b[0mcallback\u001b[0m\u001b[1;33m:\u001b[0m\u001b[1;33m\u001b[0m\u001b[1;33m\u001b[0m\u001b[0m\n\u001b[0;32m    210\u001b[0m             \u001b[0mcallback\u001b[0m\u001b[1;33m(\u001b[0m\u001b[0mresult\u001b[0m\u001b[1;33m)\u001b[0m\u001b[1;33m\u001b[0m\u001b[1;33m\u001b[0m\u001b[0m\n",
      "\u001b[1;32mD:\\Anaconda\\lib\\site-packages\\joblib\\_parallel_backends.py\u001b[0m in \u001b[0;36m__init__\u001b[1;34m(self, batch)\u001b[0m\n\u001b[0;32m    570\u001b[0m         \u001b[1;31m# Don't delay the application, to avoid keeping the input\u001b[0m\u001b[1;33m\u001b[0m\u001b[1;33m\u001b[0m\u001b[1;33m\u001b[0m\u001b[0m\n\u001b[0;32m    571\u001b[0m         \u001b[1;31m# arguments in memory\u001b[0m\u001b[1;33m\u001b[0m\u001b[1;33m\u001b[0m\u001b[1;33m\u001b[0m\u001b[0m\n\u001b[1;32m--> 572\u001b[1;33m         \u001b[0mself\u001b[0m\u001b[1;33m.\u001b[0m\u001b[0mresults\u001b[0m \u001b[1;33m=\u001b[0m \u001b[0mbatch\u001b[0m\u001b[1;33m(\u001b[0m\u001b[1;33m)\u001b[0m\u001b[1;33m\u001b[0m\u001b[1;33m\u001b[0m\u001b[0m\n\u001b[0m\u001b[0;32m    573\u001b[0m \u001b[1;33m\u001b[0m\u001b[0m\n\u001b[0;32m    574\u001b[0m     \u001b[1;32mdef\u001b[0m \u001b[0mget\u001b[0m\u001b[1;33m(\u001b[0m\u001b[0mself\u001b[0m\u001b[1;33m)\u001b[0m\u001b[1;33m:\u001b[0m\u001b[1;33m\u001b[0m\u001b[1;33m\u001b[0m\u001b[0m\n",
      "\u001b[1;32mD:\\Anaconda\\lib\\site-packages\\joblib\\parallel.py\u001b[0m in \u001b[0;36m__call__\u001b[1;34m(self)\u001b[0m\n\u001b[0;32m    260\u001b[0m         \u001b[1;31m# change the default number of processes to -1\u001b[0m\u001b[1;33m\u001b[0m\u001b[1;33m\u001b[0m\u001b[1;33m\u001b[0m\u001b[0m\n\u001b[0;32m    261\u001b[0m         \u001b[1;32mwith\u001b[0m \u001b[0mparallel_backend\u001b[0m\u001b[1;33m(\u001b[0m\u001b[0mself\u001b[0m\u001b[1;33m.\u001b[0m\u001b[0m_backend\u001b[0m\u001b[1;33m,\u001b[0m \u001b[0mn_jobs\u001b[0m\u001b[1;33m=\u001b[0m\u001b[0mself\u001b[0m\u001b[1;33m.\u001b[0m\u001b[0m_n_jobs\u001b[0m\u001b[1;33m)\u001b[0m\u001b[1;33m:\u001b[0m\u001b[1;33m\u001b[0m\u001b[1;33m\u001b[0m\u001b[0m\n\u001b[1;32m--> 262\u001b[1;33m             return [func(*args, **kwargs)\n\u001b[0m\u001b[0;32m    263\u001b[0m                     for func, args, kwargs in self.items]\n\u001b[0;32m    264\u001b[0m \u001b[1;33m\u001b[0m\u001b[0m\n",
      "\u001b[1;32mD:\\Anaconda\\lib\\site-packages\\joblib\\parallel.py\u001b[0m in \u001b[0;36m<listcomp>\u001b[1;34m(.0)\u001b[0m\n\u001b[0;32m    260\u001b[0m         \u001b[1;31m# change the default number of processes to -1\u001b[0m\u001b[1;33m\u001b[0m\u001b[1;33m\u001b[0m\u001b[1;33m\u001b[0m\u001b[0m\n\u001b[0;32m    261\u001b[0m         \u001b[1;32mwith\u001b[0m \u001b[0mparallel_backend\u001b[0m\u001b[1;33m(\u001b[0m\u001b[0mself\u001b[0m\u001b[1;33m.\u001b[0m\u001b[0m_backend\u001b[0m\u001b[1;33m,\u001b[0m \u001b[0mn_jobs\u001b[0m\u001b[1;33m=\u001b[0m\u001b[0mself\u001b[0m\u001b[1;33m.\u001b[0m\u001b[0m_n_jobs\u001b[0m\u001b[1;33m)\u001b[0m\u001b[1;33m:\u001b[0m\u001b[1;33m\u001b[0m\u001b[1;33m\u001b[0m\u001b[0m\n\u001b[1;32m--> 262\u001b[1;33m             return [func(*args, **kwargs)\n\u001b[0m\u001b[0;32m    263\u001b[0m                     for func, args, kwargs in self.items]\n\u001b[0;32m    264\u001b[0m \u001b[1;33m\u001b[0m\u001b[0m\n",
      "\u001b[1;32mD:\\Anaconda\\lib\\site-packages\\sklearn\\utils\\fixes.py\u001b[0m in \u001b[0;36m__call__\u001b[1;34m(self, *args, **kwargs)\u001b[0m\n\u001b[0;32m    220\u001b[0m     \u001b[1;32mdef\u001b[0m \u001b[0m__call__\u001b[0m\u001b[1;33m(\u001b[0m\u001b[0mself\u001b[0m\u001b[1;33m,\u001b[0m \u001b[1;33m*\u001b[0m\u001b[0margs\u001b[0m\u001b[1;33m,\u001b[0m \u001b[1;33m**\u001b[0m\u001b[0mkwargs\u001b[0m\u001b[1;33m)\u001b[0m\u001b[1;33m:\u001b[0m\u001b[1;33m\u001b[0m\u001b[1;33m\u001b[0m\u001b[0m\n\u001b[0;32m    221\u001b[0m         \u001b[1;32mwith\u001b[0m \u001b[0mconfig_context\u001b[0m\u001b[1;33m(\u001b[0m\u001b[1;33m**\u001b[0m\u001b[0mself\u001b[0m\u001b[1;33m.\u001b[0m\u001b[0mconfig\u001b[0m\u001b[1;33m)\u001b[0m\u001b[1;33m:\u001b[0m\u001b[1;33m\u001b[0m\u001b[1;33m\u001b[0m\u001b[0m\n\u001b[1;32m--> 222\u001b[1;33m             \u001b[1;32mreturn\u001b[0m \u001b[0mself\u001b[0m\u001b[1;33m.\u001b[0m\u001b[0mfunction\u001b[0m\u001b[1;33m(\u001b[0m\u001b[1;33m*\u001b[0m\u001b[0margs\u001b[0m\u001b[1;33m,\u001b[0m \u001b[1;33m**\u001b[0m\u001b[0mkwargs\u001b[0m\u001b[1;33m)\u001b[0m\u001b[1;33m\u001b[0m\u001b[1;33m\u001b[0m\u001b[0m\n\u001b[0m",
      "\u001b[1;32mD:\\Anaconda\\lib\\site-packages\\sklearn\\model_selection\\_validation.py\u001b[0m in \u001b[0;36m_fit_and_score\u001b[1;34m(estimator, X, y, scorer, train, test, verbose, parameters, fit_params, return_train_score, return_parameters, return_n_test_samples, return_times, return_estimator, split_progress, candidate_progress, error_score)\u001b[0m\n\u001b[0;32m    591\u001b[0m             \u001b[0mestimator\u001b[0m\u001b[1;33m.\u001b[0m\u001b[0mfit\u001b[0m\u001b[1;33m(\u001b[0m\u001b[0mX_train\u001b[0m\u001b[1;33m,\u001b[0m \u001b[1;33m**\u001b[0m\u001b[0mfit_params\u001b[0m\u001b[1;33m)\u001b[0m\u001b[1;33m\u001b[0m\u001b[1;33m\u001b[0m\u001b[0m\n\u001b[0;32m    592\u001b[0m         \u001b[1;32melse\u001b[0m\u001b[1;33m:\u001b[0m\u001b[1;33m\u001b[0m\u001b[1;33m\u001b[0m\u001b[0m\n\u001b[1;32m--> 593\u001b[1;33m             \u001b[0mestimator\u001b[0m\u001b[1;33m.\u001b[0m\u001b[0mfit\u001b[0m\u001b[1;33m(\u001b[0m\u001b[0mX_train\u001b[0m\u001b[1;33m,\u001b[0m \u001b[0my_train\u001b[0m\u001b[1;33m,\u001b[0m \u001b[1;33m**\u001b[0m\u001b[0mfit_params\u001b[0m\u001b[1;33m)\u001b[0m\u001b[1;33m\u001b[0m\u001b[1;33m\u001b[0m\u001b[0m\n\u001b[0m\u001b[0;32m    594\u001b[0m \u001b[1;33m\u001b[0m\u001b[0m\n\u001b[0;32m    595\u001b[0m     \u001b[1;32mexcept\u001b[0m \u001b[0mException\u001b[0m \u001b[1;32mas\u001b[0m \u001b[0me\u001b[0m\u001b[1;33m:\u001b[0m\u001b[1;33m\u001b[0m\u001b[1;33m\u001b[0m\u001b[0m\n",
      "\u001b[1;32mD:\\Anaconda\\lib\\site-packages\\sklearn\\svm\\_base.py\u001b[0m in \u001b[0;36mfit\u001b[1;34m(self, X, y, sample_weight)\u001b[0m\n\u001b[0;32m    224\u001b[0m \u001b[1;33m\u001b[0m\u001b[0m\n\u001b[0;32m    225\u001b[0m         \u001b[0mseed\u001b[0m \u001b[1;33m=\u001b[0m \u001b[0mrnd\u001b[0m\u001b[1;33m.\u001b[0m\u001b[0mrandint\u001b[0m\u001b[1;33m(\u001b[0m\u001b[0mnp\u001b[0m\u001b[1;33m.\u001b[0m\u001b[0miinfo\u001b[0m\u001b[1;33m(\u001b[0m\u001b[1;34m'i'\u001b[0m\u001b[1;33m)\u001b[0m\u001b[1;33m.\u001b[0m\u001b[0mmax\u001b[0m\u001b[1;33m)\u001b[0m\u001b[1;33m\u001b[0m\u001b[1;33m\u001b[0m\u001b[0m\n\u001b[1;32m--> 226\u001b[1;33m         \u001b[0mfit\u001b[0m\u001b[1;33m(\u001b[0m\u001b[0mX\u001b[0m\u001b[1;33m,\u001b[0m \u001b[0my\u001b[0m\u001b[1;33m,\u001b[0m \u001b[0msample_weight\u001b[0m\u001b[1;33m,\u001b[0m \u001b[0msolver_type\u001b[0m\u001b[1;33m,\u001b[0m \u001b[0mkernel\u001b[0m\u001b[1;33m,\u001b[0m \u001b[0mrandom_seed\u001b[0m\u001b[1;33m=\u001b[0m\u001b[0mseed\u001b[0m\u001b[1;33m)\u001b[0m\u001b[1;33m\u001b[0m\u001b[1;33m\u001b[0m\u001b[0m\n\u001b[0m\u001b[0;32m    227\u001b[0m         \u001b[1;31m# see comment on the other call to np.iinfo in this file\u001b[0m\u001b[1;33m\u001b[0m\u001b[1;33m\u001b[0m\u001b[1;33m\u001b[0m\u001b[0m\n\u001b[0;32m    228\u001b[0m \u001b[1;33m\u001b[0m\u001b[0m\n",
      "\u001b[1;32mD:\\Anaconda\\lib\\site-packages\\sklearn\\svm\\_base.py\u001b[0m in \u001b[0;36m_dense_fit\u001b[1;34m(self, X, y, sample_weight, solver_type, kernel, random_seed)\u001b[0m\n\u001b[0;32m    275\u001b[0m         \u001b[0mself\u001b[0m\u001b[1;33m.\u001b[0m\u001b[0msupport_\u001b[0m\u001b[1;33m,\u001b[0m \u001b[0mself\u001b[0m\u001b[1;33m.\u001b[0m\u001b[0msupport_vectors_\u001b[0m\u001b[1;33m,\u001b[0m \u001b[0mself\u001b[0m\u001b[1;33m.\u001b[0m\u001b[0m_n_support\u001b[0m\u001b[1;33m,\u001b[0m\u001b[0;31m \u001b[0m\u001b[0;31m\\\u001b[0m\u001b[1;33m\u001b[0m\u001b[1;33m\u001b[0m\u001b[0m\n\u001b[0;32m    276\u001b[0m             \u001b[0mself\u001b[0m\u001b[1;33m.\u001b[0m\u001b[0mdual_coef_\u001b[0m\u001b[1;33m,\u001b[0m \u001b[0mself\u001b[0m\u001b[1;33m.\u001b[0m\u001b[0mintercept_\u001b[0m\u001b[1;33m,\u001b[0m \u001b[0mself\u001b[0m\u001b[1;33m.\u001b[0m\u001b[0m_probA\u001b[0m\u001b[1;33m,\u001b[0m\u001b[0;31m \u001b[0m\u001b[0;31m\\\u001b[0m\u001b[1;33m\u001b[0m\u001b[1;33m\u001b[0m\u001b[0m\n\u001b[1;32m--> 277\u001b[1;33m             self._probB, self.fit_status_ = libsvm.fit(\n\u001b[0m\u001b[0;32m    278\u001b[0m                 \u001b[0mX\u001b[0m\u001b[1;33m,\u001b[0m \u001b[0my\u001b[0m\u001b[1;33m,\u001b[0m\u001b[1;33m\u001b[0m\u001b[1;33m\u001b[0m\u001b[0m\n\u001b[0;32m    279\u001b[0m                 \u001b[0msvm_type\u001b[0m\u001b[1;33m=\u001b[0m\u001b[0msolver_type\u001b[0m\u001b[1;33m,\u001b[0m \u001b[0msample_weight\u001b[0m\u001b[1;33m=\u001b[0m\u001b[0msample_weight\u001b[0m\u001b[1;33m,\u001b[0m\u001b[1;33m\u001b[0m\u001b[1;33m\u001b[0m\u001b[0m\n",
      "\u001b[1;31mKeyboardInterrupt\u001b[0m: "
     ]
    }
   ],
   "source": [
    "# Importing Libraries and Hyper parameter tuning:\n",
    "from sklearn.svm import SVR\n",
    "from sklearn.model_selection import GridSearchCV\n",
    "from sklearn.metrics import mean_squared_error,mean_absolute_error\n",
    "svr =SVR()\n",
    "parameters = [{'kernel': ['rbf'], 'gamma': [1e-4, 1e-3, 0.01, 0.1, 0.2, 0.5, 0.6, 0.9],'C': [1, 10, 100, 1000, 10000]}]\n",
    "\n",
    "clf = GridSearchCV(svr,parameters)\n",
    "clf.fit(train_x,train_y)\n",
    "\n",
    "print(clf.best_params_)"
   ]
  },
  {
   "cell_type": "markdown",
   "id": "911dfbfa",
   "metadata": {},
   "source": [
    "Best parameters for SV Regressor"
   ]
  },
  {
   "cell_type": "code",
   "execution_count": null,
   "id": "1e4882e6",
   "metadata": {},
   "outputs": [],
   "source": [
    "svr =SVR(C=1000,gamma=0.1,kernel='rbf')\n",
    "svr.fit(train_x,train_y)\n",
    "svr.score(train_x,train_y)\n",
    "predsvr = svr.predict(test_x)\n",
    "print('svr score',svr.score(train_x,train_y))\n",
    "svrs = r2_score(test_y,predsvr)\n",
    "print('R2 Score:',svrs*100)\n",
    "\n",
    "svrscore = cross_val_score(svr,x,y,cv=9)\n",
    "svrc = svrscore.mean()\n",
    "print('Cross Val Score:',svrc*100)\n",
    "print(\"Mean squared error:\",mean_squared_error(test_y,predsvr))\n",
    "print(\"Mean absolute error:\",mean_absolute_error(test_y,predsvr))"
   ]
  },
  {
   "cell_type": "code",
   "execution_count": null,
   "id": "ce9a0028",
   "metadata": {},
   "outputs": [],
   "source": [
    "svr score = 88.8%\n",
    "r2score = 81.5%\n",
    "cross val score = 75.7%"
   ]
  },
  {
   "cell_type": "markdown",
   "id": "47561aab",
   "metadata": {},
   "source": [
    "Best Model is KNeighborRegressor as the difference between r2score and cross val score is less "
   ]
  },
  {
   "cell_type": "markdown",
   "id": "d36adf5c",
   "metadata": {},
   "source": [
    "# Model saving:"
   ]
  },
  {
   "cell_type": "code",
   "execution_count": 462,
   "id": "f5f5e919",
   "metadata": {},
   "outputs": [],
   "source": [
    "import pickle\n",
    "filename = 'flight_prices.pkl'\n",
    "pickle.dump(kn, open(filename, 'wb'))"
   ]
  },
  {
   "cell_type": "markdown",
   "id": "4a0e72f8",
   "metadata": {},
   "source": [
    "## Accuracy"
   ]
  },
  {
   "cell_type": "code",
   "execution_count": 463,
   "id": "e49d1715",
   "metadata": {},
   "outputs": [
    {
     "name": "stdout",
     "output_type": "stream",
     "text": [
      "0.6843201133621561\n"
     ]
    }
   ],
   "source": [
    "loaded_model = pickle.load(open('flight_prices.pkl','rb'))\n",
    "result = loaded_model.score(test_x, test_y)\n",
    "print(result)"
   ]
  },
  {
   "cell_type": "markdown",
   "id": "0c50e5cf",
   "metadata": {},
   "source": [
    "68.4% accuracy of model."
   ]
  },
  {
   "cell_type": "markdown",
   "id": "76718318",
   "metadata": {},
   "source": [
    "## Conclusion:\n"
   ]
  },
  {
   "cell_type": "code",
   "execution_count": 464,
   "id": "13dc9560",
   "metadata": {},
   "outputs": [
    {
     "data": {
      "text/html": [
       "<div>\n",
       "<style scoped>\n",
       "    .dataframe tbody tr th:only-of-type {\n",
       "        vertical-align: middle;\n",
       "    }\n",
       "\n",
       "    .dataframe tbody tr th {\n",
       "        vertical-align: top;\n",
       "    }\n",
       "\n",
       "    .dataframe thead th {\n",
       "        text-align: right;\n",
       "    }\n",
       "</style>\n",
       "<table border=\"1\" class=\"dataframe\">\n",
       "  <thead>\n",
       "    <tr style=\"text-align: right;\">\n",
       "      <th></th>\n",
       "      <th>original</th>\n",
       "      <th>predicted</th>\n",
       "    </tr>\n",
       "  </thead>\n",
       "  <tbody>\n",
       "    <tr>\n",
       "      <th>0</th>\n",
       "      <td>12373</td>\n",
       "      <td>12196.166667</td>\n",
       "    </tr>\n",
       "    <tr>\n",
       "      <th>1</th>\n",
       "      <td>11543</td>\n",
       "      <td>11814.666667</td>\n",
       "    </tr>\n",
       "    <tr>\n",
       "      <th>2</th>\n",
       "      <td>11491</td>\n",
       "      <td>12122.500000</td>\n",
       "    </tr>\n",
       "    <tr>\n",
       "      <th>3</th>\n",
       "      <td>7191</td>\n",
       "      <td>7443.166667</td>\n",
       "    </tr>\n",
       "    <tr>\n",
       "      <th>4</th>\n",
       "      <td>12646</td>\n",
       "      <td>11356.000000</td>\n",
       "    </tr>\n",
       "    <tr>\n",
       "      <th>...</th>\n",
       "      <td>...</td>\n",
       "      <td>...</td>\n",
       "    </tr>\n",
       "    <tr>\n",
       "      <th>2111</th>\n",
       "      <td>8085</td>\n",
       "      <td>8364.833333</td>\n",
       "    </tr>\n",
       "    <tr>\n",
       "      <th>2112</th>\n",
       "      <td>11160</td>\n",
       "      <td>6638.833333</td>\n",
       "    </tr>\n",
       "    <tr>\n",
       "      <th>2113</th>\n",
       "      <td>2017</td>\n",
       "      <td>1983.000000</td>\n",
       "    </tr>\n",
       "    <tr>\n",
       "      <th>2114</th>\n",
       "      <td>4273</td>\n",
       "      <td>4655.000000</td>\n",
       "    </tr>\n",
       "    <tr>\n",
       "      <th>2115</th>\n",
       "      <td>11972</td>\n",
       "      <td>9620.833333</td>\n",
       "    </tr>\n",
       "  </tbody>\n",
       "</table>\n",
       "<p>2116 rows × 2 columns</p>\n",
       "</div>"
      ],
      "text/plain": [
       "      original     predicted\n",
       "0        12373  12196.166667\n",
       "1        11543  11814.666667\n",
       "2        11491  12122.500000\n",
       "3         7191   7443.166667\n",
       "4        12646  11356.000000\n",
       "...        ...           ...\n",
       "2111      8085   8364.833333\n",
       "2112     11160   6638.833333\n",
       "2113      2017   1983.000000\n",
       "2114      4273   4655.000000\n",
       "2115     11972   9620.833333\n",
       "\n",
       "[2116 rows x 2 columns]"
      ]
     },
     "execution_count": 464,
     "metadata": {},
     "output_type": "execute_result"
    }
   ],
   "source": [
    "import numpy as np\n",
    "a=np.array(test_y)\n",
    "predkn =np.array(kn.predict(test_x))\n",
    "df_com=pd.DataFrame({\"original\":a, \"predicted\": predkn},index=range(len(a)))\n",
    "df_com"
   ]
  },
  {
   "cell_type": "markdown",
   "id": "0d3724ea",
   "metadata": {},
   "source": [
    "Model is able to predict values which are approximately actual data as model's accuracy is 69%"
   ]
  }
 ],
 "metadata": {
  "kernelspec": {
   "display_name": "Python 3",
   "language": "python",
   "name": "python3"
  },
  "language_info": {
   "codemirror_mode": {
    "name": "ipython",
    "version": 3
   },
   "file_extension": ".py",
   "mimetype": "text/x-python",
   "name": "python",
   "nbconvert_exporter": "python",
   "pygments_lexer": "ipython3",
   "version": "3.8.8"
  }
 },
 "nbformat": 4,
 "nbformat_minor": 5
}
